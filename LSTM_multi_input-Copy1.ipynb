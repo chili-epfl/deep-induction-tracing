{
 "cells": [
  {
   "cell_type": "code",
   "execution_count": 6,
   "metadata": {},
   "outputs": [],
   "source": [
    "import pandas as pd\n",
    "import numpy as np\n",
    "from keras import Sequential\n",
    "from keras.layers import LSTM, Dense, Dropout, Activation\n",
    "from keras.optimizers import Adam\n",
    "from keras.utils import np_utils\n",
    "from sklearn.model_selection import train_test_split\n",
    "from tqdm import tqdm\n",
    "from keras.preprocessing.sequence import pad_sequences\n",
    "import matplotlib.pyplot as plt\n",
    "from sklearn.metrics import confusion_matrix"
   ]
  },
  {
   "cell_type": "code",
   "execution_count": 7,
   "metadata": {},
   "outputs": [],
   "source": [
    "data = pd.read_csv('train.csv').iloc[:, :]\n",
    "vocab = ['C_E_F_T',\n",
    "         'C_E_F_C',\n",
    "         'C_E_F_O',\n",
    "         'A_E_F_T',\n",
    "         'A_E_F_O',\n",
    "         'A_E_F_C',\n",
    "         'G_E_F_C',\n",
    "         'G_E_F_T',\n",
    "         'G_E_F_O',\n",
    "         'A_E_M_T',\n",
    "         'A_E_M_O',\n",
    "         'A_E_M_C',\n",
    "         'G_E_M_O',\n",
    "         'G_E_M_C',\n",
    "         'G_E_M_T',\n",
    "         'C_E_M_O',\n",
    "         'C_E_M_C',\n",
    "         'C_E_M_T',\n",
    "         'C_H_F_CO',\n",
    "         'C_H_F_CT',\n",
    "         'C_H_F_OT',\n",
    "         'G_H_F_OT',\n",
    "         'G_H_F_CO',\n",
    "         'G_H_F_CT',\n",
    "         'A_H_F_CT',\n",
    "         'A_H_F_OT',\n",
    "         'A_H_F_CO',\n",
    "         'C_H_M_CO',\n",
    "         'C_H_M_CT',\n",
    "         'C_H_M_OT',\n",
    "         'A_H_M_CT',\n",
    "         'A_H_M_OT',\n",
    "         'A_H_M_CO',\n",
    "         'G_H_M_OT',\n",
    "         'G_H_M_CO',\n",
    "         'G_H_M_CT', ]\n",
    "\n",
    "labels = ['correct',\n",
    "          'wrong',\n",
    "          'type',\n",
    "          'orientation',\n",
    "          'color']\n",
    "\n",
    "types = ['INTRO',\n",
    "         'CORE',\n",
    "         'FLEX',\n",
    "         'TRIK',\n",
    "         'DELY'\n",
    "]\n",
    "\n",
    "topics = ['cards',\n",
    "          'animals',\n",
    "          'geometry'\n",
    "    \n",
    "]\n",
    "\n",
    "feat = ['type',\n",
    "        'color',\n",
    "        'orientation',\n",
    "        'dual'\n",
    "]\n",
    "\n",
    "age = ['8-10','11-13']"
   ]
  },
  {
   "cell_type": "code",
   "execution_count": 8,
   "metadata": {},
   "outputs": [],
   "source": [
    "def seq_to_int(qts,vocab, labels, types, feat, topics, n_steps, age):\n",
    "    integ = list()\n",
    "    for i,x in enumerate(qts):\n",
    "        if i != n_steps:\n",
    "            features = list()\n",
    "            #features.append(vocab.index(qts[i, 4]))\n",
    "            #features.append(qts[i, 2])\n",
    "            features.append(types.index(qts[i, 9]))\n",
    "            features.append(feat.index(qts[i, 10]))\n",
    "            features.append(topics.index(qts[i, 6]))\n",
    "            features.append(age.index(qts[i, 7]))\n",
    "            features.append(labels.index(qts[i, 5]))\n",
    "        else:\n",
    "            features = list()\n",
    "            #features.append(vocab.index(qts[i, 4]))\n",
    "            #features.append(qts[i, 2])\n",
    "            features.append(types.index(qts[i, 9]))\n",
    "            features.append(feat.index(qts[i, 10]))\n",
    "            features.append(topics.index(qts[i, 6]))\n",
    "            features.append(age.index(qts[i, 7]))\n",
    "            features.append(-1)\n",
    "        integ.append(features)\n",
    "    return integ\n",
    "\n",
    "def split_sequence(data, n_steps, vocab, labels, types, feat, topics, age):\n",
    "    X, Y = list(), list()\n",
    "    users = list(dict.fromkeys(data.loc[:, \"user\"]))\n",
    "    for u in users:\n",
    "        sequence = data[data.user == u]\n",
    "        for i in range(len(sequence)):\n",
    "            end_idx = i + n_steps\n",
    "            if end_idx > len(sequence)-1:\n",
    "                break\n",
    "            x = seq_to_int(sequence.iloc[i:end_idx+1, :].values, vocab, labels, types, feat, topics, n_steps, age)\n",
    "            y = labels.index(str(sequence.iloc[end_idx, 5]))\n",
    "            X.append(x)\n",
    "            Y.append(y)\n",
    "    return np.array(X), np.array(Y)"
   ]
  },
  {
   "cell_type": "code",
   "execution_count": 9,
   "metadata": {},
   "outputs": [
    {
     "name": "stderr",
     "output_type": "stream",
     "text": [
      "100%|██████████| 8/8 [00:05<00:00,  1.42it/s]\n"
     ]
    }
   ],
   "source": [
    "data_train = data.iloc[:]\n",
    "data_train = data_train[data_train.topic == 'cards']\n",
    "y_train = list()\n",
    "X_train = list()\n",
    "\n",
    "\n",
    "for i in tqdm(range(10,18)):\n",
    "    X_seq, y_seq = split_sequence(data_train, i, vocab, labels, types, feat, topics, age)\n",
    "    for x in X_seq:\n",
    "        X_train.append(x)\n",
    "    for _y in y_seq:\n",
    "        y_train.append(_y)\n",
    "#y_train = np_utils.to_categorical(y_train)\n",
    "y_train = np.asarray(y_train)\n",
    "X_train = np.asarray(X_train)"
   ]
  },
  {
   "cell_type": "code",
   "execution_count": 10,
   "metadata": {},
   "outputs": [
    {
     "name": "stderr",
     "output_type": "stream",
     "text": [
      "100%|██████████| 8/8 [00:00<00:00, 13.22it/s]\n"
     ]
    }
   ],
   "source": [
    "data_val = pd.read_csv('validation.csv')\n",
    "data_val = data_val[data_val.topic == 'cards']\n",
    "y_val = list()\n",
    "X_val = list()\n",
    "\n",
    "\n",
    "for i in tqdm(range(10,18)):\n",
    "    X_seq, y_seq = split_sequence(data_val, i, vocab, labels, types, feat, topics, age)\n",
    "    for x in X_seq:\n",
    "        X_val.append(x)\n",
    "    for _y in y_seq:\n",
    "        y_val.append(_y)\n",
    "#y_train = np_utils.to_categorical(y_train)\n",
    "y_val = np.asarray(y_val)\n",
    "X_val = np.asarray(X_val)\n",
    "X_val = pad_sequences(X_val, value=99)"
   ]
  },
  {
   "cell_type": "code",
   "execution_count": 11,
   "metadata": {},
   "outputs": [],
   "source": [
    "X_train = pad_sequences(X_train, value=99)"
   ]
  },
  {
   "cell_type": "code",
   "execution_count": 12,
   "metadata": {},
   "outputs": [],
   "source": [
    "n_hidden = int(2/3 * (X_train.shape[1]+X_train.shape[2]))"
   ]
  },
  {
   "cell_type": "code",
   "execution_count": 27,
   "metadata": {},
   "outputs": [
    {
     "name": "stdout",
     "output_type": "stream",
     "text": [
      "_________________________________________________________________\n",
      "Layer (type)                 Output Shape              Param #   \n",
      "=================================================================\n",
      "lstm_8 (LSTM)                (None, 80)                27520     \n",
      "_________________________________________________________________\n",
      "dense_5 (Dense)              (None, 5)                 405       \n",
      "_________________________________________________________________\n",
      "activation_5 (Activation)    (None, 5)                 0         \n",
      "=================================================================\n",
      "Total params: 27,925\n",
      "Trainable params: 27,925\n",
      "Non-trainable params: 0\n",
      "_________________________________________________________________\n"
     ]
    }
   ],
   "source": [
    "model = Sequential()\n",
    "model.add(LSTM(units=80, return_sequences=False, input_shape=(X_train.shape[1], X_train.shape[2])))\n",
    "#model.add(Dropout(0.2))\n",
    "#model.add(LSTM(units=50, return_sequences=False))\n",
    "#model.add(Dropout(0.2))\n",
    "model.add(Dense(units=5))\n",
    "amsgrad = Adam(amsgrad=False)\n",
    "model.add(Activation('softmax'))\n",
    "model.compile(optimizer=amsgrad, loss='sparse_categorical_crossentropy', metrics=['sparse_categorical_accuracy'])\n",
    "model.summary()"
   ]
  },
  {
   "cell_type": "code",
   "execution_count": null,
   "metadata": {
    "scrolled": true
   },
   "outputs": [
    {
     "name": "stdout",
     "output_type": "stream",
     "text": [
      "Train on 9052 samples, validate on 900 samples\n",
      "Epoch 1/100\n",
      "9052/9052 [==============================] - 9s 1ms/step - loss: 5.8307 - sparse_categorical_accuracy: 0.4038 - val_loss: 1.0259 - val_sparse_categorical_accuracy: 0.5056\n",
      "Epoch 2/100\n",
      "9052/9052 [==============================] - 4s 488us/step - loss: 4.9937 - sparse_categorical_accuracy: 0.5003 - val_loss: 0.9086 - val_sparse_categorical_accuracy: 0.6067\n",
      "Epoch 3/100\n",
      "9052/9052 [==============================] - 4s 490us/step - loss: 4.6851 - sparse_categorical_accuracy: 0.5154 - val_loss: 0.8616 - val_sparse_categorical_accuracy: 0.5800\n",
      "Epoch 4/100\n",
      "9052/9052 [==============================] - 4s 487us/step - loss: 4.4259 - sparse_categorical_accuracy: 0.5123 - val_loss: 0.8455 - val_sparse_categorical_accuracy: 0.5200\n",
      "Epoch 5/100\n",
      "9052/9052 [==============================] - 6s 615us/step - loss: 4.2439 - sparse_categorical_accuracy: 0.5171 - val_loss: 0.8797 - val_sparse_categorical_accuracy: 0.5033\n",
      "Epoch 6/100\n",
      "9052/9052 [==============================] - 7s 772us/step - loss: 4.1125 - sparse_categorical_accuracy: 0.5214 - val_loss: 0.7932 - val_sparse_categorical_accuracy: 0.5778\n",
      "Epoch 7/100\n",
      "9052/9052 [==============================] - 8s 843us/step - loss: 3.9206 - sparse_categorical_accuracy: 0.5453 - val_loss: 0.8015 - val_sparse_categorical_accuracy: 0.5122\n",
      "Epoch 8/100\n",
      "9052/9052 [==============================] - 8s 857us/step - loss: 3.8523 - sparse_categorical_accuracy: 0.5563 - val_loss: 0.7441 - val_sparse_categorical_accuracy: 0.6089\n",
      "Epoch 9/100\n",
      "9052/9052 [==============================] - 5s 594us/step - loss: 3.7370 - sparse_categorical_accuracy: 0.5608 - val_loss: 0.7635 - val_sparse_categorical_accuracy: 0.6089\n",
      "Epoch 10/100\n",
      "9052/9052 [==============================] - 5s 598us/step - loss: 3.6469 - sparse_categorical_accuracy: 0.5725 - val_loss: 0.7417 - val_sparse_categorical_accuracy: 0.5400\n",
      "Epoch 11/100\n",
      "9052/9052 [==============================] - 5s 581us/step - loss: 3.5896 - sparse_categorical_accuracy: 0.5815 - val_loss: 0.7019 - val_sparse_categorical_accuracy: 0.6422\n",
      "Epoch 12/100\n",
      "9052/9052 [==============================] - 5s 586us/step - loss: 3.5818 - sparse_categorical_accuracy: 0.5804 - val_loss: 0.7095 - val_sparse_categorical_accuracy: 0.6056\n",
      "Epoch 13/100\n",
      "9052/9052 [==============================] - 5s 593us/step - loss: 3.5775 - sparse_categorical_accuracy: 0.5822 - val_loss: 0.7472 - val_sparse_categorical_accuracy: 0.5344\n",
      "Epoch 14/100\n",
      "9052/9052 [==============================] - 5s 556us/step - loss: 3.6326 - sparse_categorical_accuracy: 0.5780 - val_loss: 0.7319 - val_sparse_categorical_accuracy: 0.6256\n",
      "Epoch 15/100\n",
      "9052/9052 [==============================] - 5s 598us/step - loss: 3.5136 - sparse_categorical_accuracy: 0.5876 - val_loss: 0.7266 - val_sparse_categorical_accuracy: 0.5722\n",
      "Epoch 16/100\n",
      "9052/9052 [==============================] - 5s 584us/step - loss: 3.4953 - sparse_categorical_accuracy: 0.5898 - val_loss: 0.7024 - val_sparse_categorical_accuracy: 0.6144\n",
      "Epoch 17/100\n",
      "9052/9052 [==============================] - 5s 572us/step - loss: 3.4622 - sparse_categorical_accuracy: 0.5952 - val_loss: 0.6958 - val_sparse_categorical_accuracy: 0.6100\n",
      "Epoch 18/100\n",
      "9052/9052 [==============================] - 5s 560us/step - loss: 3.4376 - sparse_categorical_accuracy: 0.5956 - val_loss: 0.6852 - val_sparse_categorical_accuracy: 0.6478\n",
      "Epoch 19/100\n",
      "9052/9052 [==============================] - 5s 552us/step - loss: 3.4316 - sparse_categorical_accuracy: 0.6031 - val_loss: 0.7020 - val_sparse_categorical_accuracy: 0.5889\n",
      "Epoch 20/100\n",
      "9052/9052 [==============================] - 5s 554us/step - loss: 3.4242 - sparse_categorical_accuracy: 0.5991 - val_loss: 0.7173 - val_sparse_categorical_accuracy: 0.5844\n",
      "Epoch 21/100\n",
      "9052/9052 [==============================] - 5s 556us/step - loss: 3.4306 - sparse_categorical_accuracy: 0.5984 - val_loss: 0.7016 - val_sparse_categorical_accuracy: 0.6011\n",
      "Epoch 22/100\n",
      "9052/9052 [==============================] - 5s 574us/step - loss: 3.4304 - sparse_categorical_accuracy: 0.6054 - val_loss: 0.6774 - val_sparse_categorical_accuracy: 0.6211\n",
      "Epoch 23/100\n",
      "9052/9052 [==============================] - 5s 576us/step - loss: 3.4125 - sparse_categorical_accuracy: 0.6034 - val_loss: 0.7125 - val_sparse_categorical_accuracy: 0.6322\n",
      "Epoch 24/100\n",
      "9052/9052 [==============================] - 6s 615us/step - loss: 3.6188 - sparse_categorical_accuracy: 0.5822 - val_loss: 0.7041 - val_sparse_categorical_accuracy: 0.5878\n",
      "Epoch 25/100\n",
      "9052/9052 [==============================] - 6s 617us/step - loss: 3.4065 - sparse_categorical_accuracy: 0.6024 - val_loss: 0.6706 - val_sparse_categorical_accuracy: 0.6411\n",
      "Epoch 26/100\n",
      "9052/9052 [==============================] - 5s 506us/step - loss: 3.3967 - sparse_categorical_accuracy: 0.6047 - val_loss: 0.6925 - val_sparse_categorical_accuracy: 0.6022\n",
      "Epoch 27/100\n",
      "9052/9052 [==============================] - 4s 491us/step - loss: 3.3841 - sparse_categorical_accuracy: 0.6118 - val_loss: 0.6692 - val_sparse_categorical_accuracy: 0.6611\n",
      "Epoch 28/100\n",
      "9052/9052 [==============================] - 4s 493us/step - loss: 3.4013 - sparse_categorical_accuracy: 0.6116 - val_loss: 0.6916 - val_sparse_categorical_accuracy: 0.6100\n",
      "Epoch 29/100\n",
      "9052/9052 [==============================] - 4s 492us/step - loss: 3.3871 - sparse_categorical_accuracy: 0.6099 - val_loss: 0.6715 - val_sparse_categorical_accuracy: 0.6422\n",
      "Epoch 30/100\n",
      "9052/9052 [==============================] - 4s 488us/step - loss: 3.3531 - sparse_categorical_accuracy: 0.6184 - val_loss: 0.7021 - val_sparse_categorical_accuracy: 0.6267\n",
      "Epoch 31/100\n",
      "9052/9052 [==============================] - 4s 488us/step - loss: 3.3698 - sparse_categorical_accuracy: 0.6116 - val_loss: 0.6792 - val_sparse_categorical_accuracy: 0.6144\n",
      "Epoch 32/100\n",
      "9052/9052 [==============================] - 4s 492us/step - loss: 3.3658 - sparse_categorical_accuracy: 0.6126 - val_loss: 0.6871 - val_sparse_categorical_accuracy: 0.6011\n",
      "Epoch 33/100\n",
      "9052/9052 [==============================] - 4s 487us/step - loss: 3.3575 - sparse_categorical_accuracy: 0.6097 - val_loss: 0.6830 - val_sparse_categorical_accuracy: 0.6122\n",
      "Epoch 34/100\n",
      "9052/9052 [==============================] - 4s 491us/step - loss: 3.3508 - sparse_categorical_accuracy: 0.6064 - val_loss: 0.6703 - val_sparse_categorical_accuracy: 0.6422\n",
      "Epoch 35/100\n",
      "9052/9052 [==============================] - 4s 490us/step - loss: 3.3238 - sparse_categorical_accuracy: 0.6189 - val_loss: 0.6526 - val_sparse_categorical_accuracy: 0.6478\n",
      "Epoch 36/100\n",
      "9052/9052 [==============================] - 4s 495us/step - loss: 3.3366 - sparse_categorical_accuracy: 0.6179 - val_loss: 0.6812 - val_sparse_categorical_accuracy: 0.6000\n",
      "Epoch 37/100\n",
      "9052/9052 [==============================] - 4s 486us/step - loss: 3.3050 - sparse_categorical_accuracy: 0.6257 - val_loss: 0.6682 - val_sparse_categorical_accuracy: 0.6022\n",
      "Epoch 38/100\n",
      "9052/9052 [==============================] - 4s 489us/step - loss: 3.3215 - sparse_categorical_accuracy: 0.6158 - val_loss: 0.6746 - val_sparse_categorical_accuracy: 0.6300\n",
      "Epoch 39/100\n",
      "9052/9052 [==============================] - 4s 489us/step - loss: 3.3074 - sparse_categorical_accuracy: 0.6174 - val_loss: 0.6615 - val_sparse_categorical_accuracy: 0.6456\n",
      "Epoch 40/100\n",
      "9052/9052 [==============================] - 4s 489us/step - loss: 3.3091 - sparse_categorical_accuracy: 0.6281 - val_loss: 0.6907 - val_sparse_categorical_accuracy: 0.6144\n",
      "Epoch 41/100\n",
      "9052/9052 [==============================] - 4s 490us/step - loss: 3.3341 - sparse_categorical_accuracy: 0.6127 - val_loss: 0.6538 - val_sparse_categorical_accuracy: 0.6300\n",
      "Epoch 42/100\n",
      "9052/9052 [==============================] - 4s 491us/step - loss: 3.3459 - sparse_categorical_accuracy: 0.6140 - val_loss: 0.6710 - val_sparse_categorical_accuracy: 0.6144\n",
      "Epoch 43/100\n",
      "9052/9052 [==============================] - 4s 489us/step - loss: 3.2989 - sparse_categorical_accuracy: 0.6195 - val_loss: 0.6627 - val_sparse_categorical_accuracy: 0.6178\n",
      "Epoch 44/100\n",
      "9052/9052 [==============================] - 4s 487us/step - loss: 3.3750 - sparse_categorical_accuracy: 0.6124 - val_loss: 0.6539 - val_sparse_categorical_accuracy: 0.6189\n"
     ]
    },
    {
     "name": "stdout",
     "output_type": "stream",
     "text": [
      "Epoch 45/100\n",
      "9052/9052 [==============================] - 4s 484us/step - loss: 3.2920 - sparse_categorical_accuracy: 0.6206 - val_loss: 0.6630 - val_sparse_categorical_accuracy: 0.6711\n",
      "Epoch 46/100\n",
      "9052/9052 [==============================] - 4s 488us/step - loss: 3.3052 - sparse_categorical_accuracy: 0.6244 - val_loss: 0.6772 - val_sparse_categorical_accuracy: 0.6056\n",
      "Epoch 47/100\n",
      "9052/9052 [==============================] - 4s 483us/step - loss: 3.2509 - sparse_categorical_accuracy: 0.6331 - val_loss: 0.6703 - val_sparse_categorical_accuracy: 0.6556\n",
      "Epoch 48/100\n",
      "9052/9052 [==============================] - 4s 489us/step - loss: 3.2810 - sparse_categorical_accuracy: 0.6253 - val_loss: 0.6928 - val_sparse_categorical_accuracy: 0.5989\n",
      "Epoch 49/100\n",
      "9052/9052 [==============================] - 4s 487us/step - loss: 3.2804 - sparse_categorical_accuracy: 0.6246 - val_loss: 0.6555 - val_sparse_categorical_accuracy: 0.6056\n",
      "Epoch 50/100\n",
      "9052/9052 [==============================] - 4s 485us/step - loss: 3.2734 - sparse_categorical_accuracy: 0.6287 - val_loss: 0.6640 - val_sparse_categorical_accuracy: 0.6589\n",
      "Epoch 51/100\n",
      "9052/9052 [==============================] - 4s 481us/step - loss: 3.2895 - sparse_categorical_accuracy: 0.6284 - val_loss: 0.6448 - val_sparse_categorical_accuracy: 0.6478\n",
      "Epoch 52/100\n",
      "9052/9052 [==============================] - 4s 484us/step - loss: 3.2295 - sparse_categorical_accuracy: 0.6330 - val_loss: 0.6389 - val_sparse_categorical_accuracy: 0.6400\n",
      "Epoch 53/100\n",
      "9052/9052 [==============================] - 4s 485us/step - loss: 3.2121 - sparse_categorical_accuracy: 0.6381 - val_loss: 0.6472 - val_sparse_categorical_accuracy: 0.6267\n",
      "Epoch 54/100\n",
      "9052/9052 [==============================] - 4s 484us/step - loss: 3.2353 - sparse_categorical_accuracy: 0.6322 - val_loss: 0.6484 - val_sparse_categorical_accuracy: 0.6489\n",
      "Epoch 55/100\n",
      "9052/9052 [==============================] - 4s 495us/step - loss: 3.2286 - sparse_categorical_accuracy: 0.6346 - val_loss: 0.6835 - val_sparse_categorical_accuracy: 0.6067\n",
      "Epoch 56/100\n",
      "9052/9052 [==============================] - 4s 494us/step - loss: 3.2719 - sparse_categorical_accuracy: 0.6276 - val_loss: 0.6616 - val_sparse_categorical_accuracy: 0.6089\n",
      "Epoch 57/100\n",
      "9052/9052 [==============================] - 4s 484us/step - loss: 3.2741 - sparse_categorical_accuracy: 0.6224 - val_loss: 0.6457 - val_sparse_categorical_accuracy: 0.6444\n",
      "Epoch 58/100\n",
      "9052/9052 [==============================] - 4s 491us/step - loss: 3.2440 - sparse_categorical_accuracy: 0.6316 - val_loss: 0.6428 - val_sparse_categorical_accuracy: 0.6433\n",
      "Epoch 59/100\n",
      "9052/9052 [==============================] - 4s 485us/step - loss: 3.2120 - sparse_categorical_accuracy: 0.6376 - val_loss: 0.6377 - val_sparse_categorical_accuracy: 0.6278\n",
      "Epoch 60/100\n",
      "9052/9052 [==============================] - 4s 485us/step - loss: 3.1961 - sparse_categorical_accuracy: 0.6453 - val_loss: 0.6334 - val_sparse_categorical_accuracy: 0.6489\n",
      "Epoch 61/100\n",
      "9052/9052 [==============================] - 4s 487us/step - loss: 3.2069 - sparse_categorical_accuracy: 0.6394 - val_loss: 0.6215 - val_sparse_categorical_accuracy: 0.6478\n",
      "Epoch 62/100\n",
      "9052/9052 [==============================] - 4s 482us/step - loss: 3.1791 - sparse_categorical_accuracy: 0.6431 - val_loss: 0.6267 - val_sparse_categorical_accuracy: 0.6578\n",
      "Epoch 63/100\n",
      "9052/9052 [==============================] - 4s 487us/step - loss: 3.2918 - sparse_categorical_accuracy: 0.6332 - val_loss: 0.6621 - val_sparse_categorical_accuracy: 0.6500\n",
      "Epoch 64/100\n",
      "9052/9052 [==============================] - 4s 482us/step - loss: 3.2058 - sparse_categorical_accuracy: 0.6427 - val_loss: 0.6230 - val_sparse_categorical_accuracy: 0.6544\n",
      "Epoch 65/100\n",
      "9052/9052 [==============================] - 4s 487us/step - loss: 3.1819 - sparse_categorical_accuracy: 0.6441 - val_loss: 0.6417 - val_sparse_categorical_accuracy: 0.6411\n",
      "Epoch 66/100\n",
      "9052/9052 [==============================] - 4s 485us/step - loss: 3.1688 - sparse_categorical_accuracy: 0.6412 - val_loss: 0.6227 - val_sparse_categorical_accuracy: 0.6378\n",
      "Epoch 67/100\n",
      "9052/9052 [==============================] - 4s 484us/step - loss: 3.1655 - sparse_categorical_accuracy: 0.6418 - val_loss: 0.6295 - val_sparse_categorical_accuracy: 0.6311\n",
      "Epoch 68/100\n",
      "9052/9052 [==============================] - 6s 618us/step - loss: 3.1756 - sparse_categorical_accuracy: 0.6433 - val_loss: 0.6184 - val_sparse_categorical_accuracy: 0.6700\n",
      "Epoch 69/100\n",
      "9052/9052 [==============================] - 6s 628us/step - loss: 3.1552 - sparse_categorical_accuracy: 0.6449 - val_loss: 0.6195 - val_sparse_categorical_accuracy: 0.6567\n",
      "Epoch 70/100\n",
      "9052/9052 [==============================] - 6s 623us/step - loss: 3.1780 - sparse_categorical_accuracy: 0.6394 - val_loss: 0.6133 - val_sparse_categorical_accuracy: 0.6556\n",
      "Epoch 71/100\n",
      "9052/9052 [==============================] - 6s 640us/step - loss: 3.1449 - sparse_categorical_accuracy: 0.6465 - val_loss: 0.6176 - val_sparse_categorical_accuracy: 0.6556\n",
      "Epoch 72/100\n",
      "9052/9052 [==============================] - 6s 634us/step - loss: 3.1401 - sparse_categorical_accuracy: 0.6513 - val_loss: 0.6048 - val_sparse_categorical_accuracy: 0.6922\n",
      "Epoch 73/100\n",
      "9052/9052 [==============================] - 6s 621us/step - loss: 3.1422 - sparse_categorical_accuracy: 0.6529 - val_loss: 0.6355 - val_sparse_categorical_accuracy: 0.6422\n",
      "Epoch 74/100\n",
      "9052/9052 [==============================] - 6s 620us/step - loss: 3.1440 - sparse_categorical_accuracy: 0.6501 - val_loss: 0.6028 - val_sparse_categorical_accuracy: 0.6667\n",
      "Epoch 75/100\n",
      "9052/9052 [==============================] - 5s 578us/step - loss: 3.1483 - sparse_categorical_accuracy: 0.6497 - val_loss: 0.6333 - val_sparse_categorical_accuracy: 0.6456\n",
      "Epoch 76/100\n",
      "9052/9052 [==============================] - 4s 484us/step - loss: 3.1542 - sparse_categorical_accuracy: 0.6502 - val_loss: 0.6060 - val_sparse_categorical_accuracy: 0.6778\n",
      "Epoch 77/100\n",
      "9052/9052 [==============================] - 4s 484us/step - loss: 3.1551 - sparse_categorical_accuracy: 0.6463 - val_loss: 0.6170 - val_sparse_categorical_accuracy: 0.6500\n",
      "Epoch 78/100\n",
      "9052/9052 [==============================] - 4s 485us/step - loss: 3.1357 - sparse_categorical_accuracy: 0.6511 - val_loss: 0.6147 - val_sparse_categorical_accuracy: 0.6778\n",
      "Epoch 79/100\n",
      "9052/9052 [==============================] - 4s 487us/step - loss: 3.1264 - sparse_categorical_accuracy: 0.6569 - val_loss: 0.6259 - val_sparse_categorical_accuracy: 0.6633\n",
      "Epoch 80/100\n",
      "9052/9052 [==============================] - 4s 489us/step - loss: 3.1339 - sparse_categorical_accuracy: 0.6504 - val_loss: 0.6024 - val_sparse_categorical_accuracy: 0.6578\n",
      "Epoch 81/100\n",
      "9052/9052 [==============================] - 4s 488us/step - loss: 3.1373 - sparse_categorical_accuracy: 0.6574 - val_loss: 0.6117 - val_sparse_categorical_accuracy: 0.7044\n",
      "Epoch 82/100\n",
      "9052/9052 [==============================] - 5s 536us/step - loss: 3.1424 - sparse_categorical_accuracy: 0.6486 - val_loss: 0.6182 - val_sparse_categorical_accuracy: 0.6689\n",
      "Epoch 83/100\n",
      "9052/9052 [==============================] - 5s 533us/step - loss: 3.0983 - sparse_categorical_accuracy: 0.6583 - val_loss: 0.6126 - val_sparse_categorical_accuracy: 0.6633\n",
      "Epoch 84/100\n",
      "9052/9052 [==============================] - 5s 554us/step - loss: 3.0884 - sparse_categorical_accuracy: 0.6625 - val_loss: 0.6162 - val_sparse_categorical_accuracy: 0.6667\n",
      "Epoch 85/100\n",
      "9052/9052 [==============================] - 5s 499us/step - loss: 3.1005 - sparse_categorical_accuracy: 0.6580 - val_loss: 0.6184 - val_sparse_categorical_accuracy: 0.6467\n",
      "Epoch 86/100\n",
      "9052/9052 [==============================] - 5s 502us/step - loss: 3.1246 - sparse_categorical_accuracy: 0.6543 - val_loss: 0.6132 - val_sparse_categorical_accuracy: 0.6600\n",
      "Epoch 87/100\n",
      "9052/9052 [==============================] - 5s 502us/step - loss: 3.0806 - sparse_categorical_accuracy: 0.6551 - val_loss: 0.6144 - val_sparse_categorical_accuracy: 0.6733\n",
      "Epoch 88/100\n",
      "9052/9052 [==============================] - 5s 503us/step - loss: 3.1002 - sparse_categorical_accuracy: 0.6621 - val_loss: 0.6238 - val_sparse_categorical_accuracy: 0.6400\n",
      "Epoch 89/100\n"
     ]
    },
    {
     "name": "stdout",
     "output_type": "stream",
     "text": [
      "9052/9052 [==============================] - 6s 637us/step - loss: 3.0810 - sparse_categorical_accuracy: 0.6634 - val_loss: 0.6379 - val_sparse_categorical_accuracy: 0.6467\n",
      "Epoch 90/100\n",
      "9052/9052 [==============================] - 5s 548us/step - loss: 3.0708 - sparse_categorical_accuracy: 0.6623 - val_loss: 0.5883 - val_sparse_categorical_accuracy: 0.6833\n",
      "Epoch 91/100\n",
      "9052/9052 [==============================] - 5s 531us/step - loss: 3.0807 - sparse_categorical_accuracy: 0.6610 - val_loss: 0.6304 - val_sparse_categorical_accuracy: 0.6389\n",
      "Epoch 92/100\n",
      "9052/9052 [==============================] - 4s 484us/step - loss: 3.0875 - sparse_categorical_accuracy: 0.6607 - val_loss: 0.6549 - val_sparse_categorical_accuracy: 0.6378\n",
      "Epoch 93/100\n",
      "9052/9052 [==============================] - 4s 486us/step - loss: 3.0790 - sparse_categorical_accuracy: 0.6583 - val_loss: 0.5986 - val_sparse_categorical_accuracy: 0.6700\n",
      "Epoch 94/100\n",
      "9052/9052 [==============================] - 4s 490us/step - loss: 3.0811 - sparse_categorical_accuracy: 0.6590 - val_loss: 0.6116 - val_sparse_categorical_accuracy: 0.6733\n",
      "Epoch 95/100\n",
      "9052/9052 [==============================] - 4s 486us/step - loss: 3.0575 - sparse_categorical_accuracy: 0.6624 - val_loss: 0.6059 - val_sparse_categorical_accuracy: 0.6578\n",
      "Epoch 96/100\n",
      "9052/9052 [==============================] - 4s 485us/step - loss: 3.0465 - sparse_categorical_accuracy: 0.6708 - val_loss: 0.6125 - val_sparse_categorical_accuracy: 0.6867\n",
      "Epoch 97/100\n",
      "6300/9052 [===================>..........] - ETA: 1s - loss: 3.0308 - sparse_categorical_accuracy: 0.6702"
     ]
    }
   ],
   "source": [
    "class_weight = {\n",
    "    0: 1.,\n",
    "    1: 1.,\n",
    "    2: 5.,\n",
    "    3: 5.,\n",
    "    4: 5.\n",
    "}\n",
    "history = model.fit(X_train, np.asarray(y_train), epochs=100, batch_size=300, shuffle=True, verbose=1, validation_data=(X_val, y_val), class_weight=class_weight)"
   ]
  },
  {
   "cell_type": "code",
   "execution_count": 19,
   "metadata": {},
   "outputs": [
    {
     "data": {
      "text/plain": [
       "<matplotlib.legend.Legend at 0x1a4e35b3d0>"
      ]
     },
     "execution_count": 19,
     "metadata": {},
     "output_type": "execute_result"
    },
    {
     "data": {
      "image/png": "[encoded data removed]",
      "text/plain": [
       "<Figure size 432x288 with 1 Axes>"
      ]
     },
     "metadata": {
      "needs_background": "light"
     },
     "output_type": "display_data"
    }
   ],
   "source": [
    "plt.plot(history.history['loss'])\n",
    "plt.plot(history.history['val_loss'])\n",
    "plt.title('model loss')\n",
    "plt.ylabel('loss')\n",
    "plt.xlabel('epoch')\n",
    "plt.legend(['train', 'val'], loc='upper left')"
   ]
  },
  {
   "cell_type": "code",
   "execution_count": 20,
   "metadata": {},
   "outputs": [
    {
     "data": {
      "text/plain": [
       "<matplotlib.legend.Legend at 0x1a4e515e50>"
      ]
     },
     "execution_count": 20,
     "metadata": {},
     "output_type": "execute_result"
    },
    {
     "data": {
      "image/png": "[encoded data removed]",
      "text/plain": [
       "<Figure size 432x288 with 1 Axes>"
      ]
     },
     "metadata": {
      "needs_background": "light"
     },
     "output_type": "display_data"
    }
   ],
   "source": [
    "plt.plot(history.history['sparse_categorical_accuracy'])\n",
    "plt.plot(history.history['val_sparse_categorical_accuracy'])\n",
    "plt.title('model accuracy')\n",
    "plt.ylabel('accuracy')\n",
    "plt.xlabel('epoch')\n",
    "plt.legend(['train', 'val'], loc='upper left')"
   ]
  },
  {
   "cell_type": "code",
   "execution_count": 21,
   "metadata": {},
   "outputs": [],
   "source": [
    "#model.save(\"model2.h5\")\n",
    "#from keras.models import load_model\n",
    "#model = load_model(\"model2.h5\")"
   ]
  },
  {
   "cell_type": "markdown",
   "metadata": {},
   "source": [
    "### Test"
   ]
  },
  {
   "cell_type": "code",
   "execution_count": 22,
   "metadata": {},
   "outputs": [],
   "source": [
    "data_test = pd.read_csv('test.csv')\n",
    "data_test = data_test[data_test.topic == 'cards']"
   ]
  },
  {
   "cell_type": "code",
   "execution_count": 23,
   "metadata": {},
   "outputs": [
    {
     "name": "stderr",
     "output_type": "stream",
     "text": [
      "100%|██████████| 8/8 [00:02<00:00,  3.35it/s]\n"
     ]
    }
   ],
   "source": [
    "y_test = list()\n",
    "X_test = list()\n",
    "\n",
    "\n",
    "for i in tqdm(range(10, 18)):\n",
    "    X_seq, y_seq = split_sequence(data_test, i, vocab, labels, types, feat, topics, age)\n",
    "    for x in X_seq:\n",
    "        X_test.append(x)\n",
    "    for _y in y_seq:\n",
    "        y_test.append(_y)\n",
    "#y_test = np_utils.to_categorical(y_test)\n",
    "y_test = np.asarray(y_test)\n",
    "X_test = np.asarray(X_test)\n",
    "X_test = pad_sequences(X_test, value=99)"
   ]
  },
  {
   "cell_type": "code",
   "execution_count": 24,
   "metadata": {},
   "outputs": [
    {
     "name": "stdout",
     "output_type": "stream",
     "text": [
      "0.620897320084312\n",
      "[[954 320 109]\n",
      " [352 477 110]\n",
      " [272  96 631]]\n"
     ]
    }
   ],
   "source": [
    "from sklearn.metrics import accuracy_score\n",
    "\n",
    "y_pred = model.predict(X_test)\n",
    "print(accuracy_score(y_test, y_pred.argmax(axis=1)))\n",
    "matrix = confusion_matrix(y_test, y_pred.argmax(axis=1))\n",
    "print(matrix)"
   ]
  },
  {
   "cell_type": "code",
   "execution_count": null,
   "metadata": {},
   "outputs": [],
   "source": []
  },
  {
   "cell_type": "code",
   "execution_count": null,
   "metadata": {},
   "outputs": [],
   "source": []
  },
  {
   "cell_type": "code",
   "execution_count": null,
   "metadata": {},
   "outputs": [],
   "source": []
  },
  {
   "cell_type": "code",
   "execution_count": null,
   "metadata": {},
   "outputs": [],
   "source": []
  }
 ],
 "metadata": {
  "kernelspec": {
   "display_name": "Python 3",
   "language": "python",
   "name": "python3"
  },
  "language_info": {
   "codemirror_mode": {
    "name": "ipython",
    "version": 3
   },
   "file_extension": ".py",
   "mimetype": "text/x-python",
   "name": "python",
   "nbconvert_exporter": "python",
   "pygments_lexer": "ipython3",
   "version": "3.7.4"
  }
 },
 "nbformat": 4,
 "nbformat_minor": 2
}
