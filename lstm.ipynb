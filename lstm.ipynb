{
  "cells": [
    {
      "cell_type": "code",
      "execution_count": 1,
      "outputs": [
        {
          "name": "stderr",
          "text": [
            "Using TensorFlow backend.\n",
            "/Users/ambroiserenaud/anaconda3/envs/chili/lib/python3.7/site-packages/tensorflow/python/framework/dtypes.py:516: FutureWarning: Passing (type, 1) or \u00271type\u0027 as a synonym of type is deprecated; in a future version of numpy, it will be understood as (type, (1,)) / \u0027(1,)type\u0027.\n  _np_qint8 \u003d np.dtype([(\"qint8\", np.int8, 1)])\n/Users/ambroiserenaud/anaconda3/envs/chili/lib/python3.7/site-packages/tensorflow/python/framework/dtypes.py:517: FutureWarning: Passing (type, 1) or \u00271type\u0027 as a synonym of type is deprecated; in a future version of numpy, it will be understood as (type, (1,)) / \u0027(1,)type\u0027.\n  _np_quint8 \u003d np.dtype([(\"quint8\", np.uint8, 1)])\n/Users/ambroiserenaud/anaconda3/envs/chili/lib/python3.7/site-packages/tensorflow/python/framework/dtypes.py:518: FutureWarning: Passing (type, 1) or \u00271type\u0027 as a synonym of type is deprecated; in a future version of numpy, it will be understood as (type, (1,)) / \u0027(1,)type\u0027.\n  _np_qint16 \u003d np.dtype([(\"qint16\", np.int16, 1)])\n/Users/ambroiserenaud/anaconda3/envs/chili/lib/python3.7/site-packages/tensorflow/python/framework/dtypes.py:519: FutureWarning: Passing (type, 1) or \u00271type\u0027 as a synonym of type is deprecated; in a future version of numpy, it will be understood as (type, (1,)) / \u0027(1,)type\u0027.\n  _np_quint16 \u003d np.dtype([(\"quint16\", np.uint16, 1)])\n/Users/ambroiserenaud/anaconda3/envs/chili/lib/python3.7/site-packages/tensorflow/python/framework/dtypes.py:520: FutureWarning: Passing (type, 1) or \u00271type\u0027 as a synonym of type is deprecated; in a future version of numpy, it will be understood as (type, (1,)) / \u0027(1,)type\u0027.\n  _np_qint32 \u003d np.dtype([(\"qint32\", np.int32, 1)])\n/Users/ambroiserenaud/anaconda3/envs/chili/lib/python3.7/site-packages/tensorflow/python/framework/dtypes.py:525: FutureWarning: Passing (type, 1) or \u00271type\u0027 as a synonym of type is deprecated; in a future version of numpy, it will be understood as (type, (1,)) / \u0027(1,)type\u0027.\n  np_resource \u003d np.dtype([(\"resource\", np.ubyte, 1)])\n",
            "/Users/ambroiserenaud/anaconda3/envs/chili/lib/python3.7/site-packages/tensorboard/compat/tensorflow_stub/dtypes.py:541: FutureWarning: Passing (type, 1) or \u00271type\u0027 as a synonym of type is deprecated; in a future version of numpy, it will be understood as (type, (1,)) / \u0027(1,)type\u0027.\n  _np_qint8 \u003d np.dtype([(\"qint8\", np.int8, 1)])\n/Users/ambroiserenaud/anaconda3/envs/chili/lib/python3.7/site-packages/tensorboard/compat/tensorflow_stub/dtypes.py:542: FutureWarning: Passing (type, 1) or \u00271type\u0027 as a synonym of type is deprecated; in a future version of numpy, it will be understood as (type, (1,)) / \u0027(1,)type\u0027.\n  _np_quint8 \u003d np.dtype([(\"quint8\", np.uint8, 1)])\n/Users/ambroiserenaud/anaconda3/envs/chili/lib/python3.7/site-packages/tensorboard/compat/tensorflow_stub/dtypes.py:543: FutureWarning: Passing (type, 1) or \u00271type\u0027 as a synonym of type is deprecated; in a future version of numpy, it will be understood as (type, (1,)) / \u0027(1,)type\u0027.\n  _np_qint16 \u003d np.dtype([(\"qint16\", np.int16, 1)])\n/Users/ambroiserenaud/anaconda3/envs/chili/lib/python3.7/site-packages/tensorboard/compat/tensorflow_stub/dtypes.py:544: FutureWarning: Passing (type, 1) or \u00271type\u0027 as a synonym of type is deprecated; in a future version of numpy, it will be understood as (type, (1,)) / \u0027(1,)type\u0027.\n  _np_quint16 \u003d np.dtype([(\"quint16\", np.uint16, 1)])\n/Users/ambroiserenaud/anaconda3/envs/chili/lib/python3.7/site-packages/tensorboard/compat/tensorflow_stub/dtypes.py:545: FutureWarning: Passing (type, 1) or \u00271type\u0027 as a synonym of type is deprecated; in a future version of numpy, it will be understood as (type, (1,)) / \u0027(1,)type\u0027.\n  _np_qint32 \u003d np.dtype([(\"qint32\", np.int32, 1)])\n/Users/ambroiserenaud/anaconda3/envs/chili/lib/python3.7/site-packages/tensorboard/compat/tensorflow_stub/dtypes.py:550: FutureWarning: Passing (type, 1) or \u00271type\u0027 as a synonym of type is deprecated; in a future version of numpy, it will be understood as (type, (1,)) / \u0027(1,)type\u0027.\n  np_resource \u003d np.dtype([(\"resource\", np.ubyte, 1)])\n"
          ],
          "output_type": "stream"
        }
      ],
      "source": "import pandas as pd\nimport numpy as np\nfrom keras import Sequential\nfrom keras.layers import LSTM, Dense\nfrom keras.utils import np_utils\nfrom sklearn.model_selection import train_test_split",
      "metadata": {
        "pycharm": {
          "metadata": false,
          "name": "#%%\n",
          "is_executing": false
        }
      }
    },
    {
      "cell_type": "markdown",
      "source": "## Data preparation",
      "metadata": {
        "pycharm": {
          "metadata": false
        }
      }
    },
    {
      "cell_type": "code",
      "execution_count": 28,
      "metadata": {
        "collapsed": true,
        "pycharm": {
          "is_executing": false
        }
      },
      "outputs": [],
      "source": "\ndata \u003d pd.read_csv(\u0027induce-data-2019-08-08.csv\u0027).iloc[:, :]\nvocab \u003d [\u0027C_E_F_T\u0027,\n         \u0027C_E_F_C\u0027,\n         \u0027C_E_F_O\u0027,\n         \u0027A_E_F_T\u0027,\n         \u0027A_E_F_O\u0027,\n         \u0027A_E_F_C\u0027,\n         \u0027G_E_F_C\u0027,\n         \u0027G_E_F_T\u0027,\n         \u0027G_E_F_O\u0027,\n         \u0027A_E_M_T\u0027,\n         \u0027A_E_M_O\u0027,\n         \u0027A_E_M_C\u0027,\n         \u0027G_E_M_O\u0027,\n         \u0027G_E_M_C\u0027,\n         \u0027G_E_M_T\u0027,\n         \u0027C_E_M_O\u0027,\n         \u0027C_E_M_C\u0027,\n         \u0027C_E_M_T\u0027,\n         \u0027C_H_F_CO\u0027,\n         \u0027C_H_F_CT\u0027,\n         \u0027C_H_F_OT\u0027,\n         \u0027G_H_F_OT\u0027,\n         \u0027G_H_F_CO\u0027,\n         \u0027G_H_F_CT\u0027,\n         \u0027A_H_F_CT\u0027,\n         \u0027A_H_F_OT\u0027,\n         \u0027A_H_F_CO\u0027,\n         \u0027C_H_M_CO\u0027,\n         \u0027C_H_M_CT\u0027,\n         \u0027C_H_M_OT\u0027,\n         \u0027A_H_M_CT\u0027,\n         \u0027A_H_M_OT\u0027,\n         \u0027A_H_M_CO\u0027,\n         \u0027G_H_M_OT\u0027,\n         \u0027G_H_M_CO\u0027,\n         \u0027G_H_M_CT\u0027, ]\n\nlabels \u003d [\u0027correct\u0027,\n          \u0027wrong\u0027,\n          \u0027type\u0027,\n          \u0027orientation\u0027,\n          \u0027color\u0027]\n\ntypes \u003d [\u0027INTRO\u0027,\n         \u0027CORE\u0027,\n         \u0027FLEX\u0027,\n         \u0027TRIK\u0027,\n         \u0027DELY\u0027\n]\n\nfeat \u003d [\u0027type\u0027,\n        \u0027color\u0027,\n        \u0027orientation\u0027,\n        \u0027dual\u0027\n]\n\nqts_id \u003d [\u0027A_E_F_C_INTRO\u0027, \u0027A_E_F_O_INTRO\u0027, \u0027A_E_F_T_INTRO\u0027, \u0027A_E_M_C_INTRO\u0027,\n        \u0027A_E_M_O_INTRO\u0027, \u0027A_E_M_T_INTRO\u0027, \u0027A_H_F_CO_CORE\u0027, \u0027A_H_F_CO_DELY\u0027,\n        \u0027A_H_F_CO_TRIK\u0027, \u0027A_H_F_CT_CORE\u0027, \u0027A_H_F_CT_DELY\u0027, \u0027A_H_F_CT_TRIK\u0027,\n        \u0027A_H_F_OT_CORE\u0027, \u0027A_H_F_OT_DELY\u0027, \u0027A_H_F_OT_TRIK\u0027, \u0027A_H_M_CO_CORE\u0027,\n        \u0027A_H_M_CO_FLEX\u0027, \u0027A_H_M_CT_CORE\u0027, \u0027A_H_M_CT_FLEX\u0027, \u0027A_H_M_OT_CORE\u0027,\n        \u0027A_H_M_OT_FLEX\u0027, \u0027C_E_F_C_INTRO\u0027, \u0027C_E_F_O_INTRO\u0027, \u0027C_E_F_T_INTRO\u0027,\n        \u0027C_E_M_C_INTRO\u0027, \u0027C_E_M_O_INTRO\u0027, \u0027C_E_M_T_INTRO\u0027, \u0027C_H_F_CO_CORE\u0027,\n        \u0027C_H_F_CO_DELY\u0027, \u0027C_H_F_CO_TRIK\u0027, \u0027C_H_F_CT_CORE\u0027, \u0027C_H_F_CT_DELY\u0027,\n        \u0027C_H_F_CT_TRIK\u0027, \u0027C_H_F_OT_CORE\u0027, \u0027C_H_F_OT_DELY\u0027, \u0027C_H_F_OT_TRIK\u0027,\n        \u0027C_H_M_CO_CORE\u0027, \u0027C_H_M_CO_FLEX\u0027, \u0027C_H_M_CT_CORE\u0027, \u0027C_H_M_CT_FLEX\u0027,\n        \u0027C_H_M_OT_CORE\u0027, \u0027C_H_M_OT_FLEX\u0027, \u0027G_E_F_C_INTRO\u0027, \u0027G_E_F_O_INTRO\u0027,\n        \u0027G_E_F_T_INTRO\u0027, \u0027G_E_M_C_INTRO\u0027, \u0027G_E_M_O_INTRO\u0027, \u0027G_E_M_T_INTRO\u0027,\n        \u0027G_H_F_CO_CORE\u0027, \u0027G_H_F_CO_DELY\u0027, \u0027G_H_F_CO_TRIK\u0027, \u0027G_H_F_CT_CORE\u0027,\n        \u0027G_H_F_CT_DELY\u0027, \u0027G_H_F_CT_TRIK\u0027, \u0027G_H_F_OT_CORE\u0027, \u0027G_H_F_OT_DELY\u0027,\n        \u0027G_H_F_OT_TRIK\u0027, \u0027G_H_M_CO_CORE\u0027, \u0027G_H_M_CO_FLEX\u0027, \u0027G_H_M_CT_CORE\u0027,\n        \u0027G_H_M_CT_FLEX\u0027, \u0027G_H_M_OT_CORE\u0027, \u0027G_H_M_OT_FLEX\u0027]\n\n\n\n\ndef seq_to_int(qts,vocab, labels, types, feat, qts_id, n_steps):\n    integ \u003d list()\n    for i,x in enumerate(qts):\n        if i \u003c n_steps-1:\n            features \u003d list()\n            features.append(vocab.index(qts[i, 4]))\n            features.append(labels.index(qts[i, 5]))\n            features.append(qts[i, 2])\n            features.append(types.index(qts[i, 9]))\n            features.append(feat.index(qts[i, 10]))\n            features.append(qts_id.index(qts[i, 8]))\n        else:\n            features \u003d list()\n            features.append(vocab.index(qts[i, 4]))\n            features.append(-1)\n            features.append(qts[i, 2])\n            features.append(types.index(qts[i, 9]))\n            features.append(feat.index(qts[i, 10]))\n            features.append(qts_id.index(qts[i, 8]))\n        integ.append(features)\n    return integ\n\ndef split_sequence(data, n_steps, vocab, labels, types, feat, qts_id):\n    X, Y \u003d list(), list()\n    users \u003d list(dict.fromkeys(data.loc[:, \"user\"]))\n    for u in users:\n        sequence \u003d data[data.user \u003d\u003d u]\n        for i in range(len(sequence)):\n            end_idx \u003d i + n_steps\n            if end_idx \u003e len(sequence)-1:\n                break\n            x \u003d seq_to_int(sequence.iloc[i:end_idx, :].values, vocab, labels, types, feat, qts_id, 5)\n            y \u003d labels.index(str(sequence.iloc[end_idx, 5]))\n            X.append(x)\n            Y.append(y)\n    return np.array(X), np.array(Y)\n"
    },
    {
      "cell_type": "markdown",
      "source": "### Test split_sequence\n",
      "metadata": {
        "pycharm": {
          "metadata": false
        }
      }
    },
    {
      "cell_type": "code",
      "execution_count": 29,
      "outputs": [
        {
          "name": "stdout",
          "text": [
            "(array([[[ 0,  0,  0,  0,  0, 23],\n        [ 1,  0,  1,  0,  1, 21],\n        [ 2,  0,  2,  0,  2, 22],\n        [ 3,  0,  3,  0,  0,  2],\n        [ 4, -1,  4,  0,  2,  1]],\n\n       [[ 1,  0,  1,  0,  1, 21],\n        [ 2,  0,  2,  0,  2, 22],\n        [ 3,  0,  3,  0,  0,  2],\n        [ 4,  0,  4,  0,  2,  1],\n        [ 5, -1,  5,  0,  1,  0]],\n\n       [[ 2,  0,  2,  0,  2, 22],\n        [ 3,  0,  3,  0,  0,  2],\n        [ 4,  0,  4,  0,  2,  1],\n        [ 5,  1,  5,  0,  1,  0],\n        [ 6, -1,  6,  0,  1, 42]],\n\n       [[ 3,  0,  3,  0,  0,  2],\n        [ 4,  0,  4,  0,  2,  1],\n        [ 5,  1,  5,  0,  1,  0],\n        [ 6,  0,  6,  0,  1, 42],\n        [ 7, -1,  7,  0,  0, 44]],\n\n       [[ 4,  0,  4,  0,  2,  1],\n        [ 5,  1,  5,  0,  1,  0],\n        [ 6,  0,  6,  0,  1, 42],\n        [ 7,  0,  7,  0,  0, 44],\n        [ 8, -1,  8,  0,  2, 43]]]), array([1, 0, 0, 0, 0]))\n"
          ],
          "output_type": "stream"
        }
      ],
      "source": "print(split_sequence(data.iloc[:10, :], 5, vocab, labels, types, feat, qts_id))\n",
      "metadata": {
        "pycharm": {
          "metadata": false,
          "name": "#%%\n",
          "is_executing": false
        }
      }
    },
    {
      "cell_type": "markdown",
      "source": "## The model\n",
      "metadata": {
        "pycharm": {
          "metadata": false
        }
      }
    },
    {
      "cell_type": "code",
      "execution_count": 46,
      "outputs": [
        {
          "name": "stdout",
          "text": [
            "train set size: 10572\ntest set size: 1175\n"
          ],
          "output_type": "stream"
        }
      ],
      "source": "n_features \u003d 6\nn_steps \u003d 10\n\n\nX, y \u003d split_sequence(data, n_steps, vocab, labels, types, feat, qts_id)\ny \u003d np_utils.to_categorical(y)\nX \u003d X.reshape((X.shape[0], X.shape[1], n_features))\nX_train, X_test, y_train, y_test \u003d train_test_split(X, y, test_size\u003d0.10, random_state\u003d42)\nprint(\u0027train set size: \u0027+str(len(y_train)))\nprint(\u0027test set size: \u0027+str(len(y_test)))\n\nmodel \u003d Sequential()\nmodel.add(LSTM(6, activation\u003d\u0027relu\u0027, return_sequences\u003dTrue, input_shape\u003d(n_steps, n_features)))\nmodel.add(LSTM(6, activation\u003d\u0027relu\u0027, return_sequences\u003dTrue))\nmodel.add(LSTM(6, activation\u003d\u0027relu\u0027, return_sequences\u003dTrue))\nmodel.add(LSTM(6, activation\u003d\u0027relu\u0027, return_sequences\u003dTrue))\nmodel.add(LSTM(6, activation\u003d\u0027relu\u0027))\nmodel.add(Dense(5))\nmodel.compile(optimizer\u003d\u0027adam\u0027, loss\u003d\u0027mse\u0027, metrics\u003d[\u0027categorical_accuracy\u0027])",
      "metadata": {
        "pycharm": {
          "metadata": false,
          "name": "#%%\n",
          "is_executing": false
        }
      }
    },
    {
      "cell_type": "markdown",
      "source": "### Training",
      "metadata": {
        "pycharm": {
          "metadata": false
        }
      }
    },
    {
      "cell_type": "code",
      "execution_count": 47,
      "outputs": [
        {
          "name": "stdout",
          "text": [
            "Epoch 1/200\n",
            " - 53s - loss: 0.1540 - categorical_accuracy: 0.2956\n",
            "Epoch 2/200\n",
            " - 39s - loss: 0.1293 - categorical_accuracy: 0.4072\n",
            "Epoch 3/200\n"
          ],
          "output_type": "stream"
        },
        {
          "traceback": [
            "\u001b[0;31m---------------------------------------------------------------------------\u001b[0m",
            "\u001b[0;31mKeyboardInterrupt\u001b[0m                         Traceback (most recent call last)",
            "\u001b[0;32m\u003cipython-input-47-26960dc66e98\u003e\u001b[0m in \u001b[0;36m\u003cmodule\u003e\u001b[0;34m\u001b[0m\n\u001b[1;32m      1\u001b[0m \u001b[0;31m# fit model\u001b[0m\u001b[0;34m\u001b[0m\u001b[0;34m\u001b[0m\u001b[0;34m\u001b[0m\u001b[0m\n\u001b[0;32m----\u003e 2\u001b[0;31m \u001b[0mmodel\u001b[0m\u001b[0;34m.\u001b[0m\u001b[0mfit\u001b[0m\u001b[0;34m(\u001b[0m\u001b[0mX_train\u001b[0m\u001b[0;34m,\u001b[0m \u001b[0my_train\u001b[0m\u001b[0;34m,\u001b[0m \u001b[0mepochs\u001b[0m\u001b[0;34m\u003d\u001b[0m\u001b[0;36m200\u001b[0m\u001b[0;34m,\u001b[0m \u001b[0mverbose\u001b[0m\u001b[0;34m\u003d\u001b[0m\u001b[0;36m2\u001b[0m\u001b[0;34m)\u001b[0m\u001b[0;34m\u001b[0m\u001b[0;34m\u001b[0m\u001b[0m\n\u001b[0m",
            "\u001b[0;32m~/anaconda3/envs/chili/lib/python3.7/site-packages/keras/engine/training.py\u001b[0m in \u001b[0;36mfit\u001b[0;34m(self, x, y, batch_size, epochs, verbose, callbacks, validation_split, validation_data, shuffle, class_weight, sample_weight, initial_epoch, steps_per_epoch, validation_steps, **kwargs)\u001b[0m\n\u001b[1;32m   1037\u001b[0m                                         \u001b[0minitial_epoch\u001b[0m\u001b[0;34m\u003d\u001b[0m\u001b[0minitial_epoch\u001b[0m\u001b[0;34m,\u001b[0m\u001b[0;34m\u001b[0m\u001b[0;34m\u001b[0m\u001b[0m\n\u001b[1;32m   1038\u001b[0m                                         \u001b[0msteps_per_epoch\u001b[0m\u001b[0;34m\u003d\u001b[0m\u001b[0msteps_per_epoch\u001b[0m\u001b[0;34m,\u001b[0m\u001b[0;34m\u001b[0m\u001b[0;34m\u001b[0m\u001b[0m\n\u001b[0;32m-\u003e 1039\u001b[0;31m                                         validation_steps\u003dvalidation_steps)\n\u001b[0m\u001b[1;32m   1040\u001b[0m \u001b[0;34m\u001b[0m\u001b[0m\n\u001b[1;32m   1041\u001b[0m     def evaluate(self, x\u003dNone, y\u003dNone,\n",
            "\u001b[0;32m~/anaconda3/envs/chili/lib/python3.7/site-packages/keras/engine/training_arrays.py\u001b[0m in \u001b[0;36mfit_loop\u001b[0;34m(model, f, ins, out_labels, batch_size, epochs, verbose, callbacks, val_f, val_ins, shuffle, callback_metrics, initial_epoch, steps_per_epoch, validation_steps)\u001b[0m\n\u001b[1;32m    197\u001b[0m                     \u001b[0mins_batch\u001b[0m\u001b[0;34m[\u001b[0m\u001b[0mi\u001b[0m\u001b[0;34m]\u001b[0m \u001b[0;34m\u003d\u001b[0m \u001b[0mins_batch\u001b[0m\u001b[0;34m[\u001b[0m\u001b[0mi\u001b[0m\u001b[0;34m]\u001b[0m\u001b[0;34m.\u001b[0m\u001b[0mtoarray\u001b[0m\u001b[0;34m(\u001b[0m\u001b[0;34m)\u001b[0m\u001b[0;34m\u001b[0m\u001b[0;34m\u001b[0m\u001b[0m\n\u001b[1;32m    198\u001b[0m \u001b[0;34m\u001b[0m\u001b[0m\n\u001b[0;32m--\u003e 199\u001b[0;31m                 \u001b[0mouts\u001b[0m \u001b[0;34m\u003d\u001b[0m \u001b[0mf\u001b[0m\u001b[0;34m(\u001b[0m\u001b[0mins_batch\u001b[0m\u001b[0;34m)\u001b[0m\u001b[0;34m\u001b[0m\u001b[0;34m\u001b[0m\u001b[0m\n\u001b[0m\u001b[1;32m    200\u001b[0m                 \u001b[0mouts\u001b[0m \u001b[0;34m\u003d\u001b[0m \u001b[0mto_list\u001b[0m\u001b[0;34m(\u001b[0m\u001b[0mouts\u001b[0m\u001b[0;34m)\u001b[0m\u001b[0;34m\u001b[0m\u001b[0;34m\u001b[0m\u001b[0m\n\u001b[1;32m    201\u001b[0m                 \u001b[0;32mfor\u001b[0m \u001b[0ml\u001b[0m\u001b[0;34m,\u001b[0m \u001b[0mo\u001b[0m \u001b[0;32min\u001b[0m \u001b[0mzip\u001b[0m\u001b[0;34m(\u001b[0m\u001b[0mout_labels\u001b[0m\u001b[0;34m,\u001b[0m \u001b[0mouts\u001b[0m\u001b[0;34m)\u001b[0m\u001b[0;34m:\u001b[0m\u001b[0;34m\u001b[0m\u001b[0;34m\u001b[0m\u001b[0m\n",
            "\u001b[0;32m~/anaconda3/envs/chili/lib/python3.7/site-packages/keras/backend/tensorflow_backend.py\u001b[0m in \u001b[0;36m__call__\u001b[0;34m(self, inputs)\u001b[0m\n\u001b[1;32m   2713\u001b[0m                 \u001b[0;32mreturn\u001b[0m \u001b[0mself\u001b[0m\u001b[0;34m.\u001b[0m\u001b[0m_legacy_call\u001b[0m\u001b[0;34m(\u001b[0m\u001b[0minputs\u001b[0m\u001b[0;34m)\u001b[0m\u001b[0;34m\u001b[0m\u001b[0;34m\u001b[0m\u001b[0m\n\u001b[1;32m   2714\u001b[0m \u001b[0;34m\u001b[0m\u001b[0m\n\u001b[0;32m-\u003e 2715\u001b[0;31m             \u001b[0;32mreturn\u001b[0m \u001b[0mself\u001b[0m\u001b[0;34m.\u001b[0m\u001b[0m_call\u001b[0m\u001b[0;34m(\u001b[0m\u001b[0minputs\u001b[0m\u001b[0;34m)\u001b[0m\u001b[0;34m\u001b[0m\u001b[0;34m\u001b[0m\u001b[0m\n\u001b[0m\u001b[1;32m   2716\u001b[0m         \u001b[0;32melse\u001b[0m\u001b[0;34m:\u001b[0m\u001b[0;34m\u001b[0m\u001b[0;34m\u001b[0m\u001b[0m\n\u001b[1;32m   2717\u001b[0m             \u001b[0;32mif\u001b[0m \u001b[0mpy_any\u001b[0m\u001b[0;34m(\u001b[0m\u001b[0mis_tensor\u001b[0m\u001b[0;34m(\u001b[0m\u001b[0mx\u001b[0m\u001b[0;34m)\u001b[0m \u001b[0;32mfor\u001b[0m \u001b[0mx\u001b[0m \u001b[0;32min\u001b[0m \u001b[0minputs\u001b[0m\u001b[0;34m)\u001b[0m\u001b[0;34m:\u001b[0m\u001b[0;34m\u001b[0m\u001b[0;34m\u001b[0m\u001b[0m\n",
            "\u001b[0;32m~/anaconda3/envs/chili/lib/python3.7/site-packages/keras/backend/tensorflow_backend.py\u001b[0m in \u001b[0;36m_call\u001b[0;34m(self, inputs)\u001b[0m\n\u001b[1;32m   2673\u001b[0m             \u001b[0mfetched\u001b[0m \u001b[0;34m\u003d\u001b[0m \u001b[0mself\u001b[0m\u001b[0;34m.\u001b[0m\u001b[0m_callable_fn\u001b[0m\u001b[0;34m(\u001b[0m\u001b[0;34m*\u001b[0m\u001b[0marray_vals\u001b[0m\u001b[0;34m,\u001b[0m \u001b[0mrun_metadata\u001b[0m\u001b[0;34m\u003d\u001b[0m\u001b[0mself\u001b[0m\u001b[0;34m.\u001b[0m\u001b[0mrun_metadata\u001b[0m\u001b[0;34m)\u001b[0m\u001b[0;34m\u001b[0m\u001b[0;34m\u001b[0m\u001b[0m\n\u001b[1;32m   2674\u001b[0m         \u001b[0;32melse\u001b[0m\u001b[0;34m:\u001b[0m\u001b[0;34m\u001b[0m\u001b[0;34m\u001b[0m\u001b[0m\n\u001b[0;32m-\u003e 2675\u001b[0;31m             \u001b[0mfetched\u001b[0m \u001b[0;34m\u003d\u001b[0m \u001b[0mself\u001b[0m\u001b[0;34m.\u001b[0m\u001b[0m_callable_fn\u001b[0m\u001b[0;34m(\u001b[0m\u001b[0;34m*\u001b[0m\u001b[0marray_vals\u001b[0m\u001b[0;34m)\u001b[0m\u001b[0;34m\u001b[0m\u001b[0;34m\u001b[0m\u001b[0m\n\u001b[0m\u001b[1;32m   2676\u001b[0m         \u001b[0;32mreturn\u001b[0m \u001b[0mfetched\u001b[0m\u001b[0;34m[\u001b[0m\u001b[0;34m:\u001b[0m\u001b[0mlen\u001b[0m\u001b[0;34m(\u001b[0m\u001b[0mself\u001b[0m\u001b[0;34m.\u001b[0m\u001b[0moutputs\u001b[0m\u001b[0;34m)\u001b[0m\u001b[0;34m]\u001b[0m\u001b[0;34m\u001b[0m\u001b[0;34m\u001b[0m\u001b[0m\n\u001b[1;32m   2677\u001b[0m \u001b[0;34m\u001b[0m\u001b[0m\n",
            "\u001b[0;32m~/anaconda3/envs/chili/lib/python3.7/site-packages/tensorflow/python/client/session.py\u001b[0m in \u001b[0;36m__call__\u001b[0;34m(self, *args, **kwargs)\u001b[0m\n\u001b[1;32m   1456\u001b[0m         ret \u003d tf_session.TF_SessionRunCallable(self._session._session,\n\u001b[1;32m   1457\u001b[0m                                                \u001b[0mself\u001b[0m\u001b[0;34m.\u001b[0m\u001b[0m_handle\u001b[0m\u001b[0;34m,\u001b[0m \u001b[0margs\u001b[0m\u001b[0;34m,\u001b[0m\u001b[0;34m\u001b[0m\u001b[0;34m\u001b[0m\u001b[0m\n\u001b[0;32m-\u003e 1458\u001b[0;31m                                                run_metadata_ptr)\n\u001b[0m\u001b[1;32m   1459\u001b[0m         \u001b[0;32mif\u001b[0m \u001b[0mrun_metadata\u001b[0m\u001b[0;34m:\u001b[0m\u001b[0;34m\u001b[0m\u001b[0;34m\u001b[0m\u001b[0m\n\u001b[1;32m   1460\u001b[0m           \u001b[0mproto_data\u001b[0m \u001b[0;34m\u003d\u001b[0m \u001b[0mtf_session\u001b[0m\u001b[0;34m.\u001b[0m\u001b[0mTF_GetBuffer\u001b[0m\u001b[0;34m(\u001b[0m\u001b[0mrun_metadata_ptr\u001b[0m\u001b[0;34m)\u001b[0m\u001b[0;34m\u001b[0m\u001b[0;34m\u001b[0m\u001b[0m\n",
            "\u001b[0;31mKeyboardInterrupt\u001b[0m: "
          ],
          "ename": "KeyboardInterrupt",
          "evalue": "",
          "output_type": "error"
        }
      ],
      "source": "# fit model\nmodel.fit(X_train, y_train, epochs\u003d200, verbose\u003d2)",
      "metadata": {
        "pycharm": {
          "metadata": false,
          "name": "#%%\n",
          "is_executing": false
        }
      }
    },
    {
      "cell_type": "markdown",
      "source": "### Validation",
      "metadata": {
        "pycharm": {
          "metadata": false
        }
      }
    },
    {
      "cell_type": "code",
      "execution_count": 42,
      "outputs": [
        {
          "name": "stdout",
          "text": [
            "Accuracy: 66.87%\n[[18  4 43  4  3 28]\n [24  2 44  4  3 10]\n [25  2 45  3  3 14]\n [31  2 46  2  3 20]\n [19 -1 47  3  3 32]]\n",
            "[[-3.4140795e-04 -7.1419999e-03  5.7467741e-01  8.1725143e-02\n   3.7142518e-01]]\n[0. 0. 0. 0. 1.]\n[[0.61731046 0.12155239 0.07041799 0.07578179 0.02754433]]\n"
          ],
          "output_type": "stream"
        }
      ],
      "source": "scores \u003d model.evaluate(X_test, y_test, verbose\u003d0)\nprint(\"Accuracy: %.2f%%\" % (scores[1]*100))\n\n\nprint(X_test[0])\nprint(model.predict(np.array([X_test[0]])))\nprint(y_test[0])\n\n\nprint(model.predict(np.array([[[1,0, 1,  4,  2, 3],\n [2,  0, 2,  4,  2, 4],\n [3 , 0 ,3 , 3 , 2, 5],\n [4 , 0 ,4 , 2 , 2, 6],\n [5 ,-1 ,5  ,3 , 2, 7]]]\n)))\n\n",
      "metadata": {
        "pycharm": {
          "metadata": false,
          "name": "#%%\n",
          "is_executing": false
        }
      }
    }
  ],
  "metadata": {
    "language_info": {
      "codemirror_mode": {
        "name": "ipython",
        "version": 2
      },
      "file_extension": ".py",
      "mimetype": "text/x-python",
      "name": "python",
      "nbconvert_exporter": "python",
      "pygments_lexer": "ipython2",
      "version": "2.7.6"
    },
    "kernelspec": {
      "name": "python3",
      "language": "python",
      "display_name": "Python 3"
    },
    "stem_cell": {
      "cell_type": "raw",
      "source": "",
      "metadata": {
        "pycharm": {
          "metadata": false
        }
      }
    }
  },
  "nbformat": 4,
  "nbformat_minor": 0
}