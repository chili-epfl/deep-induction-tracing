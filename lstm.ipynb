{
 "cells": [
  {
   "cell_type": "code",
   "execution_count": 5,
   "metadata": {
    "pycharm": {
     "is_executing": false,
     "metadata": false,
     "name": "#%%\n"
    }
   },
   "outputs": [],
   "source": [
    "import pandas as pd\n",
    "import numpy as np\n",
    "from keras import Sequential\n",
    "from keras.layers import LSTM, Dense, Dropout\n",
    "from keras.utils import np_utils\n",
    "from sklearn.model_selection import train_test_split\n",
    "from tqdm import tqdm"
   ]
  },
  {
   "cell_type": "markdown",
   "metadata": {
    "pycharm": {
     "metadata": false
    }
   },
   "source": [
    "## Data preparation"
   ]
  },
  {
   "cell_type": "code",
   "execution_count": 6,
   "metadata": {
    "pycharm": {
     "is_executing": false
    }
   },
   "outputs": [],
   "source": [
    "\n",
    "data = pd.read_csv('induce-data-2019-08-08.csv').iloc[:, :]\n",
    "vocab = ['C_E_F_T',\n",
    "         'C_E_F_C',\n",
    "         'C_E_F_O',\n",
    "         'A_E_F_T',\n",
    "         'A_E_F_O',\n",
    "         'A_E_F_C',\n",
    "         'G_E_F_C',\n",
    "         'G_E_F_T',\n",
    "         'G_E_F_O',\n",
    "         'A_E_M_T',\n",
    "         'A_E_M_O',\n",
    "         'A_E_M_C',\n",
    "         'G_E_M_O',\n",
    "         'G_E_M_C',\n",
    "         'G_E_M_T',\n",
    "         'C_E_M_O',\n",
    "         'C_E_M_C',\n",
    "         'C_E_M_T',\n",
    "         'C_H_F_CO',\n",
    "         'C_H_F_CT',\n",
    "         'C_H_F_OT',\n",
    "         'G_H_F_OT',\n",
    "         'G_H_F_CO',\n",
    "         'G_H_F_CT',\n",
    "         'A_H_F_CT',\n",
    "         'A_H_F_OT',\n",
    "         'A_H_F_CO',\n",
    "         'C_H_M_CO',\n",
    "         'C_H_M_CT',\n",
    "         'C_H_M_OT',\n",
    "         'A_H_M_CT',\n",
    "         'A_H_M_OT',\n",
    "         'A_H_M_CO',\n",
    "         'G_H_M_OT',\n",
    "         'G_H_M_CO',\n",
    "         'G_H_M_CT', ]\n",
    "\n",
    "labels = ['correct',\n",
    "          'wrong',\n",
    "          'type',\n",
    "          'orientation',\n",
    "          'color']\n",
    "\n",
    "types = ['INTRO',\n",
    "         'CORE',\n",
    "         'FLEX',\n",
    "         'TRIK',\n",
    "         'DELY'\n",
    "]\n",
    "\n",
    "topics = ['cards',\n",
    "          'animals',\n",
    "          'geometry'\n",
    "    \n",
    "]\n",
    "\n",
    "feat = ['type',\n",
    "        'color',\n",
    "        'orientation',\n",
    "        'dual'\n",
    "]\n",
    "\n",
    "age = ['8-10','11-13']\n",
    "\n",
    "# qts_id = ['A_E_F_C_INTRO', 'A_E_F_O_INTRO', 'A_E_F_T_INTRO', 'A_E_M_C_INTRO',\n",
    "#         'A_E_M_O_INTRO', 'A_E_M_T_INTRO', 'A_H_F_CO_CORE', 'A_H_F_CO_DELY',\n",
    "#         'A_H_F_CO_TRIK', 'A_H_F_CT_CORE', 'A_H_F_CT_DELY', 'A_H_F_CT_TRIK',\n",
    "#         'A_H_F_OT_CORE', 'A_H_F_OT_DELY', 'A_H_F_OT_TRIK', 'A_H_M_CO_CORE',\n",
    "#         'A_H_M_CO_FLEX', 'A_H_M_CT_CORE', 'A_H_M_CT_FLEX', 'A_H_M_OT_CORE',\n",
    "#         'A_H_M_OT_FLEX', 'C_E_F_C_INTRO', 'C_E_F_O_INTRO', 'C_E_F_T_INTRO',\n",
    "#         'C_E_M_C_INTRO', 'C_E_M_O_INTRO', 'C_E_M_T_INTRO', 'C_H_F_CO_CORE',\n",
    "#         'C_H_F_CO_DELY', 'C_H_F_CO_TRIK', 'C_H_F_CT_CORE', 'C_H_F_CT_DELY',\n",
    "#         'C_H_F_CT_TRIK', 'C_H_F_OT_CORE', 'C_H_F_OT_DELY', 'C_H_F_OT_TRIK',\n",
    "#         'C_H_M_CO_CORE', 'C_H_M_CO_FLEX', 'C_H_M_CT_CORE', 'C_H_M_CT_FLEX',\n",
    "#         'C_H_M_OT_CORE', 'C_H_M_OT_FLEX', 'G_E_F_C_INTRO', 'G_E_F_O_INTRO',\n",
    "#         'G_E_F_T_INTRO', 'G_E_M_C_INTRO', 'G_E_M_O_INTRO', 'G_E_M_T_INTRO',\n",
    "#         'G_H_F_CO_CORE', 'G_H_F_CO_DELY', 'G_H_F_CO_TRIK', 'G_H_F_CT_CORE',\n",
    "#         'G_H_F_CT_DELY', 'G_H_F_CT_TRIK', 'G_H_F_OT_CORE', 'G_H_F_OT_DELY',\n",
    "#         'G_H_F_OT_TRIK', 'G_H_M_CO_CORE', 'G_H_M_CO_FLEX', 'G_H_M_CT_CORE',\n",
    "#         'G_H_M_CT_FLEX', 'G_H_M_OT_CORE', 'G_H_M_OT_FLEX']\n",
    "\n",
    "\n",
    "\n",
    "\n",
    "def seq_to_int(qts,vocab, labels, types, feat, topics, n_steps, age):\n",
    "    integ = list()\n",
    "    for i,x in enumerate(qts):\n",
    "        if i != n_steps:\n",
    "            features = list()\n",
    "            features.append(vocab.index(qts[i, 4]))\n",
    "            features.append(labels.index(qts[i, 5]))\n",
    "            features.append(qts[i, 2])\n",
    "            features.append(types.index(qts[i, 9]))\n",
    "            features.append(feat.index(qts[i, 10]))\n",
    "            features.append(topics.index(qts[i, 6]))\n",
    "            features.append(age.index(qts[i, 7]))\n",
    "        else:\n",
    "            features = list()\n",
    "            features.append(vocab.index(qts[i, 4]))\n",
    "            features.append(-1)\n",
    "            features.append(qts[i, 2])\n",
    "            features.append(types.index(qts[i, 9]))\n",
    "            features.append(feat.index(qts[i, 10]))\n",
    "            features.append(topics.index(qts[i, 6]))\n",
    "            features.append(age.index(qts[i, 7]))\n",
    "        integ.append(features)\n",
    "    return integ\n",
    "\n",
    "def split_sequence(data, n_steps, vocab, labels, types, feat, topics, age):\n",
    "    X, Y = list(), list()\n",
    "    users = list(dict.fromkeys(data.loc[:, \"user\"]))\n",
    "    for u in users:\n",
    "        sequence = data[data.user == u]\n",
    "        for i in range(len(sequence)):\n",
    "            end_idx = i + n_steps\n",
    "            if end_idx > len(sequence)-1:\n",
    "                break\n",
    "            x = seq_to_int(sequence.iloc[i:end_idx+1, :].values, vocab, labels, types, feat, topics, n_steps, age)\n",
    "            y = labels.index(str(sequence.iloc[end_idx, 5]))\n",
    "            X.append(x)\n",
    "            Y.append(y)\n",
    "    return np.array(X), np.array(Y)\n"
   ]
  },
  {
   "cell_type": "markdown",
   "metadata": {
    "pycharm": {
     "metadata": false
    }
   },
   "source": [
    "### Test split_sequence\n"
   ]
  },
  {
   "cell_type": "code",
   "execution_count": 7,
   "metadata": {
    "pycharm": {
     "is_executing": false,
     "metadata": false,
     "name": "#%%\n"
    }
   },
   "outputs": [
    {
     "name": "stdout",
     "output_type": "stream",
     "text": [
      "(array([[[ 0,  0,  0,  0,  0,  0,  1],\n",
      "        [ 1,  0,  1,  0,  1,  0,  1],\n",
      "        [ 2,  0,  2,  0,  2,  0,  1],\n",
      "        [ 3,  0,  3,  0,  0,  1,  1],\n",
      "        [ 4,  0,  4,  0,  2,  1,  1],\n",
      "        [ 5,  1,  5,  0,  1,  1,  1],\n",
      "        [ 6,  0,  6,  0,  1,  2,  1],\n",
      "        [ 7,  0,  7,  0,  0,  2,  1],\n",
      "        [ 8,  0,  8,  0,  2,  2,  1],\n",
      "        [ 9,  0,  9,  0,  0,  1,  1],\n",
      "        [10, -1, 10,  0,  2,  1,  1]],\n",
      "\n",
      "       [[ 1,  0,  1,  0,  1,  0,  1],\n",
      "        [ 2,  0,  2,  0,  2,  0,  1],\n",
      "        [ 3,  0,  3,  0,  0,  1,  1],\n",
      "        [ 4,  0,  4,  0,  2,  1,  1],\n",
      "        [ 5,  1,  5,  0,  1,  1,  1],\n",
      "        [ 6,  0,  6,  0,  1,  2,  1],\n",
      "        [ 7,  0,  7,  0,  0,  2,  1],\n",
      "        [ 8,  0,  8,  0,  2,  2,  1],\n",
      "        [ 9,  0,  9,  0,  0,  1,  1],\n",
      "        [10,  0, 10,  0,  2,  1,  1],\n",
      "        [11, -1, 11,  0,  1,  1,  1]],\n",
      "\n",
      "       [[ 2,  0,  2,  0,  2,  0,  1],\n",
      "        [ 3,  0,  3,  0,  0,  1,  1],\n",
      "        [ 4,  0,  4,  0,  2,  1,  1],\n",
      "        [ 5,  1,  5,  0,  1,  1,  1],\n",
      "        [ 6,  0,  6,  0,  1,  2,  1],\n",
      "        [ 7,  0,  7,  0,  0,  2,  1],\n",
      "        [ 8,  0,  8,  0,  2,  2,  1],\n",
      "        [ 9,  0,  9,  0,  0,  1,  1],\n",
      "        [10,  0, 10,  0,  2,  1,  1],\n",
      "        [11,  0, 11,  0,  1,  1,  1],\n",
      "        [12, -1, 12,  0,  2,  2,  1]],\n",
      "\n",
      "       [[ 3,  0,  3,  0,  0,  1,  1],\n",
      "        [ 4,  0,  4,  0,  2,  1,  1],\n",
      "        [ 5,  1,  5,  0,  1,  1,  1],\n",
      "        [ 6,  0,  6,  0,  1,  2,  1],\n",
      "        [ 7,  0,  7,  0,  0,  2,  1],\n",
      "        [ 8,  0,  8,  0,  2,  2,  1],\n",
      "        [ 9,  0,  9,  0,  0,  1,  1],\n",
      "        [10,  0, 10,  0,  2,  1,  1],\n",
      "        [11,  0, 11,  0,  1,  1,  1],\n",
      "        [12,  0, 12,  0,  2,  2,  1],\n",
      "        [13, -1, 13,  0,  1,  2,  1]],\n",
      "\n",
      "       [[ 4,  0,  4,  0,  2,  1,  1],\n",
      "        [ 5,  1,  5,  0,  1,  1,  1],\n",
      "        [ 6,  0,  6,  0,  1,  2,  1],\n",
      "        [ 7,  0,  7,  0,  0,  2,  1],\n",
      "        [ 8,  0,  8,  0,  2,  2,  1],\n",
      "        [ 9,  0,  9,  0,  0,  1,  1],\n",
      "        [10,  0, 10,  0,  2,  1,  1],\n",
      "        [11,  0, 11,  0,  1,  1,  1],\n",
      "        [12,  0, 12,  0,  2,  2,  1],\n",
      "        [13,  1, 13,  0,  1,  2,  1],\n",
      "        [14, -1, 14,  0,  0,  2,  1]],\n",
      "\n",
      "       [[ 5,  1,  5,  0,  1,  1,  1],\n",
      "        [ 6,  0,  6,  0,  1,  2,  1],\n",
      "        [ 7,  0,  7,  0,  0,  2,  1],\n",
      "        [ 8,  0,  8,  0,  2,  2,  1],\n",
      "        [ 9,  0,  9,  0,  0,  1,  1],\n",
      "        [10,  0, 10,  0,  2,  1,  1],\n",
      "        [11,  0, 11,  0,  1,  1,  1],\n",
      "        [12,  0, 12,  0,  2,  2,  1],\n",
      "        [13,  1, 13,  0,  1,  2,  1],\n",
      "        [14,  0, 14,  0,  0,  2,  1],\n",
      "        [15, -1, 15,  0,  2,  0,  1]],\n",
      "\n",
      "       [[ 6,  0,  6,  0,  1,  2,  1],\n",
      "        [ 7,  0,  7,  0,  0,  2,  1],\n",
      "        [ 8,  0,  8,  0,  2,  2,  1],\n",
      "        [ 9,  0,  9,  0,  0,  1,  1],\n",
      "        [10,  0, 10,  0,  2,  1,  1],\n",
      "        [11,  0, 11,  0,  1,  1,  1],\n",
      "        [12,  0, 12,  0,  2,  2,  1],\n",
      "        [13,  1, 13,  0,  1,  2,  1],\n",
      "        [14,  0, 14,  0,  0,  2,  1],\n",
      "        [15,  0, 15,  0,  2,  0,  1],\n",
      "        [16, -1, 16,  0,  1,  0,  1]],\n",
      "\n",
      "       [[ 7,  0,  7,  0,  0,  2,  1],\n",
      "        [ 8,  0,  8,  0,  2,  2,  1],\n",
      "        [ 9,  0,  9,  0,  0,  1,  1],\n",
      "        [10,  0, 10,  0,  2,  1,  1],\n",
      "        [11,  0, 11,  0,  1,  1,  1],\n",
      "        [12,  0, 12,  0,  2,  2,  1],\n",
      "        [13,  1, 13,  0,  1,  2,  1],\n",
      "        [14,  0, 14,  0,  0,  2,  1],\n",
      "        [15,  0, 15,  0,  2,  0,  1],\n",
      "        [16,  1, 16,  0,  1,  0,  1],\n",
      "        [17, -1, 17,  0,  0,  0,  1]],\n",
      "\n",
      "       [[ 8,  0,  8,  0,  2,  2,  1],\n",
      "        [ 9,  0,  9,  0,  0,  1,  1],\n",
      "        [10,  0, 10,  0,  2,  1,  1],\n",
      "        [11,  0, 11,  0,  1,  1,  1],\n",
      "        [12,  0, 12,  0,  2,  2,  1],\n",
      "        [13,  1, 13,  0,  1,  2,  1],\n",
      "        [14,  0, 14,  0,  0,  2,  1],\n",
      "        [15,  0, 15,  0,  2,  0,  1],\n",
      "        [16,  1, 16,  0,  1,  0,  1],\n",
      "        [17,  0, 17,  0,  0,  0,  1],\n",
      "        [18, -1, 18,  1,  3,  0,  1]],\n",
      "\n",
      "       [[ 9,  0,  9,  0,  0,  1,  1],\n",
      "        [10,  0, 10,  0,  2,  1,  1],\n",
      "        [11,  0, 11,  0,  1,  1,  1],\n",
      "        [12,  0, 12,  0,  2,  2,  1],\n",
      "        [13,  1, 13,  0,  1,  2,  1],\n",
      "        [14,  0, 14,  0,  0,  2,  1],\n",
      "        [15,  0, 15,  0,  2,  0,  1],\n",
      "        [16,  1, 16,  0,  1,  0,  1],\n",
      "        [17,  0, 17,  0,  0,  0,  1],\n",
      "        [18,  4, 18,  1,  3,  0,  1],\n",
      "        [19, -1, 19,  1,  3,  0,  1]]]), array([0, 0, 0, 1, 0, 0, 1, 0, 4, 2]))\n"
     ]
    }
   ],
   "source": [
    "print(split_sequence(data.iloc[:20, :], 10, vocab, labels, types, feat, topics, age))\n"
   ]
  },
  {
   "cell_type": "markdown",
   "metadata": {
    "pycharm": {
     "metadata": false
    }
   },
   "source": [
    "## The model\n"
   ]
  },
  {
   "cell_type": "code",
   "execution_count": 17,
   "metadata": {
    "pycharm": {
     "is_executing": false,
     "metadata": false,
     "name": "#%%\n"
    }
   },
   "outputs": [
    {
     "name": "stderr",
     "output_type": "stream",
     "text": [
      "100%|██████████| 5/5 [00:33<00:00,  6.78s/it]\n"
     ]
    }
   ],
   "source": [
    "\n",
    "# n_steps = 10\n",
    "\n",
    "X = list()\n",
    "y = list()\n",
    "\n",
    "for i in tqdm(range(5, 10)):\n",
    "    X_seq, y_seq = split_sequence(data, i, vocab, labels, types, feat, topics, age)\n",
    "    for x in X_seq:\n",
    "        X.append(x)\n",
    "    for _y in y_seq:\n",
    "        y.append(_y)\n",
    "y = np_utils.to_categorical(y)\n",
    "# X = np_utils.to_categorical(X)\n"
   ]
  },
  {
   "cell_type": "code",
   "execution_count": 18,
   "metadata": {
    "pycharm": {
     "is_executing": true,
     "metadata": false,
     "name": "#%%\n"
    }
   },
   "outputs": [
    {
     "name": "stdout",
     "output_type": "stream",
     "text": [
      "train set size: 55858\n",
      "test set size: 6207\n"
     ]
    }
   ],
   "source": [
    "n_features = 7\n",
    "# X = X.reshape((X.shape[0], X.shape[1], n_features*X.shape[-1]))\n",
    "# print(X.shape)\n",
    "X_train, X_test, y_train, y_test = train_test_split(X, y, test_size=0.10, random_state=42)\n",
    "print('train set size: '+str(len(y_train)))\n",
    "print('test set size: '+str(len(y_test)))\n",
    "\n",
    "model = Sequential()\n",
    "model.add(LSTM(50, input_shape=(None, n_features)))\n",
    "# model.add(Dropout(0.2))\n",
    "# model.add(LSTM(X.shape[1], return_sequences=True))\n",
    "# model.add(Dropout(0.2))\n",
    "# model.add(LSTM(X.shape[1]))\n",
    "# model.add(Dropout(0.2))\n",
    "\n",
    "model.add(Dense(5))\n",
    "model.compile(optimizer='adam', loss='mse', metrics=['categorical_accuracy'])"
   ]
  },
  {
   "cell_type": "markdown",
   "metadata": {
    "pycharm": {
     "metadata": false
    }
   },
   "source": [
    "### Training"
   ]
  },
  {
   "cell_type": "code",
   "execution_count": 20,
   "metadata": {},
   "outputs": [
    {
     "name": "stdout",
     "output_type": "stream",
     "text": [
      "Epoch 1/2000\n",
      "1000/1000 [==============================] - 22s 22ms/step - loss: 0.1197 - categorical_accuracy: 0.4590\n",
      "Epoch 2/2000\n",
      "1000/1000 [==============================] - 21s 21ms/step - loss: 0.1199 - categorical_accuracy: 0.4460\n",
      "Epoch 3/2000\n",
      " 528/1000 [==============>...............] - ETA: 10s - loss: 0.1204 - categorical_accuracy: 0.4527"
     ]
    },
    {
     "ename": "KeyboardInterrupt",
     "evalue": "",
     "output_type": "error",
     "traceback": [
      "\u001b[0;31m---------------------------------------------------------------------------\u001b[0m",
      "\u001b[0;31mKeyboardInterrupt\u001b[0m                         Traceback (most recent call last)",
      "\u001b[0;32m<ipython-input-20-b46ed7524638>\u001b[0m in \u001b[0;36m<module>\u001b[0;34m\u001b[0m\n\u001b[1;32m      6\u001b[0m         \u001b[0;32myield\u001b[0m \u001b[0mnp\u001b[0m\u001b[0;34m.\u001b[0m\u001b[0marray\u001b[0m\u001b[0;34m(\u001b[0m\u001b[0;34m[\u001b[0m\u001b[0mx_train\u001b[0m\u001b[0;34m]\u001b[0m\u001b[0;34m)\u001b[0m\u001b[0;34m,\u001b[0m \u001b[0mnp\u001b[0m\u001b[0;34m.\u001b[0m\u001b[0marray\u001b[0m\u001b[0;34m(\u001b[0m\u001b[0;34m[\u001b[0m\u001b[0m_y_train\u001b[0m\u001b[0;34m]\u001b[0m\u001b[0;34m)\u001b[0m\u001b[0;34m\u001b[0m\u001b[0;34m\u001b[0m\u001b[0m\n\u001b[1;32m      7\u001b[0m \u001b[0;34m\u001b[0m\u001b[0m\n\u001b[0;32m----> 8\u001b[0;31m \u001b[0mmodel\u001b[0m\u001b[0;34m.\u001b[0m\u001b[0mfit_generator\u001b[0m\u001b[0;34m(\u001b[0m\u001b[0mtrain_generator\u001b[0m\u001b[0;34m(\u001b[0m\u001b[0;34m)\u001b[0m\u001b[0;34m,\u001b[0m \u001b[0msteps_per_epoch\u001b[0m\u001b[0;34m=\u001b[0m\u001b[0;36m1000\u001b[0m\u001b[0;34m,\u001b[0m \u001b[0mepochs\u001b[0m\u001b[0;34m=\u001b[0m\u001b[0;36m2000\u001b[0m\u001b[0;34m,\u001b[0m \u001b[0mverbose\u001b[0m\u001b[0;34m=\u001b[0m\u001b[0;36m1\u001b[0m\u001b[0;34m)\u001b[0m\u001b[0;34m\u001b[0m\u001b[0;34m\u001b[0m\u001b[0m\n\u001b[0m",
      "\u001b[0;32m~/anaconda3/envs/chili/lib/python3.7/site-packages/keras/legacy/interfaces.py\u001b[0m in \u001b[0;36mwrapper\u001b[0;34m(*args, **kwargs)\u001b[0m\n\u001b[1;32m     89\u001b[0m                 warnings.warn('Update your `' + object_name + '` call to the ' +\n\u001b[1;32m     90\u001b[0m                               'Keras 2 API: ' + signature, stacklevel=2)\n\u001b[0;32m---> 91\u001b[0;31m             \u001b[0;32mreturn\u001b[0m \u001b[0mfunc\u001b[0m\u001b[0;34m(\u001b[0m\u001b[0;34m*\u001b[0m\u001b[0margs\u001b[0m\u001b[0;34m,\u001b[0m \u001b[0;34m**\u001b[0m\u001b[0mkwargs\u001b[0m\u001b[0;34m)\u001b[0m\u001b[0;34m\u001b[0m\u001b[0;34m\u001b[0m\u001b[0m\n\u001b[0m\u001b[1;32m     92\u001b[0m         \u001b[0mwrapper\u001b[0m\u001b[0;34m.\u001b[0m\u001b[0m_original_function\u001b[0m \u001b[0;34m=\u001b[0m \u001b[0mfunc\u001b[0m\u001b[0;34m\u001b[0m\u001b[0;34m\u001b[0m\u001b[0m\n\u001b[1;32m     93\u001b[0m         \u001b[0;32mreturn\u001b[0m \u001b[0mwrapper\u001b[0m\u001b[0;34m\u001b[0m\u001b[0;34m\u001b[0m\u001b[0m\n",
      "\u001b[0;32m~/anaconda3/envs/chili/lib/python3.7/site-packages/keras/engine/training.py\u001b[0m in \u001b[0;36mfit_generator\u001b[0;34m(self, generator, steps_per_epoch, epochs, verbose, callbacks, validation_data, validation_steps, class_weight, max_queue_size, workers, use_multiprocessing, shuffle, initial_epoch)\u001b[0m\n\u001b[1;32m   1416\u001b[0m             \u001b[0muse_multiprocessing\u001b[0m\u001b[0;34m=\u001b[0m\u001b[0muse_multiprocessing\u001b[0m\u001b[0;34m,\u001b[0m\u001b[0;34m\u001b[0m\u001b[0;34m\u001b[0m\u001b[0m\n\u001b[1;32m   1417\u001b[0m             \u001b[0mshuffle\u001b[0m\u001b[0;34m=\u001b[0m\u001b[0mshuffle\u001b[0m\u001b[0;34m,\u001b[0m\u001b[0;34m\u001b[0m\u001b[0;34m\u001b[0m\u001b[0m\n\u001b[0;32m-> 1418\u001b[0;31m             initial_epoch=initial_epoch)\n\u001b[0m\u001b[1;32m   1419\u001b[0m \u001b[0;34m\u001b[0m\u001b[0m\n\u001b[1;32m   1420\u001b[0m     \u001b[0;34m@\u001b[0m\u001b[0minterfaces\u001b[0m\u001b[0;34m.\u001b[0m\u001b[0mlegacy_generator_methods_support\u001b[0m\u001b[0;34m\u001b[0m\u001b[0;34m\u001b[0m\u001b[0m\n",
      "\u001b[0;32m~/anaconda3/envs/chili/lib/python3.7/site-packages/keras/engine/training_generator.py\u001b[0m in \u001b[0;36mfit_generator\u001b[0;34m(model, generator, steps_per_epoch, epochs, verbose, callbacks, validation_data, validation_steps, class_weight, max_queue_size, workers, use_multiprocessing, shuffle, initial_epoch)\u001b[0m\n\u001b[1;32m    215\u001b[0m                 outs = model.train_on_batch(x, y,\n\u001b[1;32m    216\u001b[0m                                             \u001b[0msample_weight\u001b[0m\u001b[0;34m=\u001b[0m\u001b[0msample_weight\u001b[0m\u001b[0;34m,\u001b[0m\u001b[0;34m\u001b[0m\u001b[0;34m\u001b[0m\u001b[0m\n\u001b[0;32m--> 217\u001b[0;31m                                             class_weight=class_weight)\n\u001b[0m\u001b[1;32m    218\u001b[0m \u001b[0;34m\u001b[0m\u001b[0m\n\u001b[1;32m    219\u001b[0m                 \u001b[0mouts\u001b[0m \u001b[0;34m=\u001b[0m \u001b[0mto_list\u001b[0m\u001b[0;34m(\u001b[0m\u001b[0mouts\u001b[0m\u001b[0;34m)\u001b[0m\u001b[0;34m\u001b[0m\u001b[0;34m\u001b[0m\u001b[0m\n",
      "\u001b[0;32m~/anaconda3/envs/chili/lib/python3.7/site-packages/keras/engine/training.py\u001b[0m in \u001b[0;36mtrain_on_batch\u001b[0;34m(self, x, y, sample_weight, class_weight)\u001b[0m\n\u001b[1;32m   1215\u001b[0m             \u001b[0mins\u001b[0m \u001b[0;34m=\u001b[0m \u001b[0mx\u001b[0m \u001b[0;34m+\u001b[0m \u001b[0my\u001b[0m \u001b[0;34m+\u001b[0m \u001b[0msample_weights\u001b[0m\u001b[0;34m\u001b[0m\u001b[0;34m\u001b[0m\u001b[0m\n\u001b[1;32m   1216\u001b[0m         \u001b[0mself\u001b[0m\u001b[0;34m.\u001b[0m\u001b[0m_make_train_function\u001b[0m\u001b[0;34m(\u001b[0m\u001b[0;34m)\u001b[0m\u001b[0;34m\u001b[0m\u001b[0;34m\u001b[0m\u001b[0m\n\u001b[0;32m-> 1217\u001b[0;31m         \u001b[0moutputs\u001b[0m \u001b[0;34m=\u001b[0m \u001b[0mself\u001b[0m\u001b[0;34m.\u001b[0m\u001b[0mtrain_function\u001b[0m\u001b[0;34m(\u001b[0m\u001b[0mins\u001b[0m\u001b[0;34m)\u001b[0m\u001b[0;34m\u001b[0m\u001b[0;34m\u001b[0m\u001b[0m\n\u001b[0m\u001b[1;32m   1218\u001b[0m         \u001b[0;32mreturn\u001b[0m \u001b[0munpack_singleton\u001b[0m\u001b[0;34m(\u001b[0m\u001b[0moutputs\u001b[0m\u001b[0;34m)\u001b[0m\u001b[0;34m\u001b[0m\u001b[0;34m\u001b[0m\u001b[0m\n\u001b[1;32m   1219\u001b[0m \u001b[0;34m\u001b[0m\u001b[0m\n",
      "\u001b[0;32m~/anaconda3/envs/chili/lib/python3.7/site-packages/keras/backend/tensorflow_backend.py\u001b[0m in \u001b[0;36m__call__\u001b[0;34m(self, inputs)\u001b[0m\n\u001b[1;32m   2713\u001b[0m                 \u001b[0;32mreturn\u001b[0m \u001b[0mself\u001b[0m\u001b[0;34m.\u001b[0m\u001b[0m_legacy_call\u001b[0m\u001b[0;34m(\u001b[0m\u001b[0minputs\u001b[0m\u001b[0;34m)\u001b[0m\u001b[0;34m\u001b[0m\u001b[0;34m\u001b[0m\u001b[0m\n\u001b[1;32m   2714\u001b[0m \u001b[0;34m\u001b[0m\u001b[0m\n\u001b[0;32m-> 2715\u001b[0;31m             \u001b[0;32mreturn\u001b[0m \u001b[0mself\u001b[0m\u001b[0;34m.\u001b[0m\u001b[0m_call\u001b[0m\u001b[0;34m(\u001b[0m\u001b[0minputs\u001b[0m\u001b[0;34m)\u001b[0m\u001b[0;34m\u001b[0m\u001b[0;34m\u001b[0m\u001b[0m\n\u001b[0m\u001b[1;32m   2716\u001b[0m         \u001b[0;32melse\u001b[0m\u001b[0;34m:\u001b[0m\u001b[0;34m\u001b[0m\u001b[0;34m\u001b[0m\u001b[0m\n\u001b[1;32m   2717\u001b[0m             \u001b[0;32mif\u001b[0m \u001b[0mpy_any\u001b[0m\u001b[0;34m(\u001b[0m\u001b[0mis_tensor\u001b[0m\u001b[0;34m(\u001b[0m\u001b[0mx\u001b[0m\u001b[0;34m)\u001b[0m \u001b[0;32mfor\u001b[0m \u001b[0mx\u001b[0m \u001b[0;32min\u001b[0m \u001b[0minputs\u001b[0m\u001b[0;34m)\u001b[0m\u001b[0;34m:\u001b[0m\u001b[0;34m\u001b[0m\u001b[0;34m\u001b[0m\u001b[0m\n",
      "\u001b[0;32m~/anaconda3/envs/chili/lib/python3.7/site-packages/keras/backend/tensorflow_backend.py\u001b[0m in \u001b[0;36m_call\u001b[0;34m(self, inputs)\u001b[0m\n\u001b[1;32m   2673\u001b[0m             \u001b[0mfetched\u001b[0m \u001b[0;34m=\u001b[0m \u001b[0mself\u001b[0m\u001b[0;34m.\u001b[0m\u001b[0m_callable_fn\u001b[0m\u001b[0;34m(\u001b[0m\u001b[0;34m*\u001b[0m\u001b[0marray_vals\u001b[0m\u001b[0;34m,\u001b[0m \u001b[0mrun_metadata\u001b[0m\u001b[0;34m=\u001b[0m\u001b[0mself\u001b[0m\u001b[0;34m.\u001b[0m\u001b[0mrun_metadata\u001b[0m\u001b[0;34m)\u001b[0m\u001b[0;34m\u001b[0m\u001b[0;34m\u001b[0m\u001b[0m\n\u001b[1;32m   2674\u001b[0m         \u001b[0;32melse\u001b[0m\u001b[0;34m:\u001b[0m\u001b[0;34m\u001b[0m\u001b[0;34m\u001b[0m\u001b[0m\n\u001b[0;32m-> 2675\u001b[0;31m             \u001b[0mfetched\u001b[0m \u001b[0;34m=\u001b[0m \u001b[0mself\u001b[0m\u001b[0;34m.\u001b[0m\u001b[0m_callable_fn\u001b[0m\u001b[0;34m(\u001b[0m\u001b[0;34m*\u001b[0m\u001b[0marray_vals\u001b[0m\u001b[0;34m)\u001b[0m\u001b[0;34m\u001b[0m\u001b[0;34m\u001b[0m\u001b[0m\n\u001b[0m\u001b[1;32m   2676\u001b[0m         \u001b[0;32mreturn\u001b[0m \u001b[0mfetched\u001b[0m\u001b[0;34m[\u001b[0m\u001b[0;34m:\u001b[0m\u001b[0mlen\u001b[0m\u001b[0;34m(\u001b[0m\u001b[0mself\u001b[0m\u001b[0;34m.\u001b[0m\u001b[0moutputs\u001b[0m\u001b[0;34m)\u001b[0m\u001b[0;34m]\u001b[0m\u001b[0;34m\u001b[0m\u001b[0;34m\u001b[0m\u001b[0m\n\u001b[1;32m   2677\u001b[0m \u001b[0;34m\u001b[0m\u001b[0m\n",
      "\u001b[0;32m~/anaconda3/envs/chili/lib/python3.7/site-packages/tensorflow/python/client/session.py\u001b[0m in \u001b[0;36m__call__\u001b[0;34m(self, *args, **kwargs)\u001b[0m\n\u001b[1;32m   1456\u001b[0m         ret = tf_session.TF_SessionRunCallable(self._session._session,\n\u001b[1;32m   1457\u001b[0m                                                \u001b[0mself\u001b[0m\u001b[0;34m.\u001b[0m\u001b[0m_handle\u001b[0m\u001b[0;34m,\u001b[0m \u001b[0margs\u001b[0m\u001b[0;34m,\u001b[0m\u001b[0;34m\u001b[0m\u001b[0;34m\u001b[0m\u001b[0m\n\u001b[0;32m-> 1458\u001b[0;31m                                                run_metadata_ptr)\n\u001b[0m\u001b[1;32m   1459\u001b[0m         \u001b[0;32mif\u001b[0m \u001b[0mrun_metadata\u001b[0m\u001b[0;34m:\u001b[0m\u001b[0;34m\u001b[0m\u001b[0;34m\u001b[0m\u001b[0m\n\u001b[1;32m   1460\u001b[0m           \u001b[0mproto_data\u001b[0m \u001b[0;34m=\u001b[0m \u001b[0mtf_session\u001b[0m\u001b[0;34m.\u001b[0m\u001b[0mTF_GetBuffer\u001b[0m\u001b[0;34m(\u001b[0m\u001b[0mrun_metadata_ptr\u001b[0m\u001b[0;34m)\u001b[0m\u001b[0;34m\u001b[0m\u001b[0;34m\u001b[0m\u001b[0m\n",
      "\u001b[0;31mKeyboardInterrupt\u001b[0m: "
     ]
    }
   ],
   "source": [
    "def train_generator():\n",
    "    while True:\n",
    "        idx = np.random.choice(np.arange(len(y_train)), 1, replace=False)[0]\n",
    "        x_train = X_train[idx]\n",
    "        _y_train = y_train[idx]\n",
    "        yield np.array([x_train]), np.array([_y_train])\n",
    "\n",
    "model.fit_generator(train_generator(), steps_per_epoch=10000, epochs=2000, verbose=1)"
   ]
  },
  {
   "cell_type": "markdown",
   "metadata": {
    "pycharm": {
     "metadata": false
    }
   },
   "source": [
    "### Validation"
   ]
  },
  {
   "cell_type": "code",
   "execution_count": null,
   "metadata": {
    "pycharm": {
     "is_executing": false,
     "metadata": false,
     "name": "#%%\n"
    }
   },
   "outputs": [],
   "source": [
    "scores = model.evaluate(X_test, y_test, verbose=0)\n",
    "print(\"Accuracy: %.2f%%\" % (scores[1]*100))\n",
    "\n",
    "print(X_test[0])\n",
    "print(model.predict(np.array([X_test[0]])))\n",
    "print(np.array([X_test[1]]))\n",
    "print(y_test[0])\n",
    "\n"
   ]
  }
 ],
 "metadata": {
  "kernelspec": {
   "display_name": "Python 3",
   "language": "python",
   "name": "python3"
  },
  "language_info": {
   "codemirror_mode": {
    "name": "ipython",
    "version": 3
   },
   "file_extension": ".py",
   "mimetype": "text/x-python",
   "name": "python",
   "nbconvert_exporter": "python",
   "pygments_lexer": "ipython3",
   "version": "3.7.4"
  },
  "stem_cell": {
   "cell_type": "raw",
   "metadata": {
    "pycharm": {
     "metadata": false
    }
   },
   "source": ""
  }
 },
 "nbformat": 4,
 "nbformat_minor": 1
}
