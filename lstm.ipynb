{
 "cells": [
  {
   "cell_type": "code",
   "execution_count": 1,
   "metadata": {
    "pycharm": {
     "is_executing": false,
     "metadata": false,
     "name": "#%%\n"
    }
   },
   "outputs": [
    {
     "name": "stderr",
     "output_type": "stream",
     "text": [
      "Using TensorFlow backend.\n"
     ]
    }
   ],
   "source": [
    "import pandas as pd\n",
    "import numpy as np\n",
    "from keras import Sequential\n",
    "from keras.layers import LSTM, Dense, Dropout, CuDNNLSTM, Activation\n",
    "from keras.optimizers import Adam\n",
    "from keras.utils import np_utils\n",
    "from sklearn.model_selection import train_test_split\n",
    "from tqdm import tqdm"
   ]
  },
  {
   "cell_type": "markdown",
   "metadata": {
    "pycharm": {
     "metadata": false
    }
   },
   "source": [
    "## Data preparation"
   ]
  },
  {
   "cell_type": "code",
   "execution_count": 2,
   "metadata": {
    "pycharm": {
     "is_executing": false
    }
   },
   "outputs": [],
   "source": [
    "\n",
    "data = pd.read_csv('induce-data-2019-08-08.csv').iloc[:, :]\n",
    "vocab = ['C_E_F_T',\n",
    "         'C_E_F_C',\n",
    "         'C_E_F_O',\n",
    "         'A_E_F_T',\n",
    "         'A_E_F_O',\n",
    "         'A_E_F_C',\n",
    "         'G_E_F_C',\n",
    "         'G_E_F_T',\n",
    "         'G_E_F_O',\n",
    "         'A_E_M_T',\n",
    "         'A_E_M_O',\n",
    "         'A_E_M_C',\n",
    "         'G_E_M_O',\n",
    "         'G_E_M_C',\n",
    "         'G_E_M_T',\n",
    "         'C_E_M_O',\n",
    "         'C_E_M_C',\n",
    "         'C_E_M_T',\n",
    "         'C_H_F_CO',\n",
    "         'C_H_F_CT',\n",
    "         'C_H_F_OT',\n",
    "         'G_H_F_OT',\n",
    "         'G_H_F_CO',\n",
    "         'G_H_F_CT',\n",
    "         'A_H_F_CT',\n",
    "         'A_H_F_OT',\n",
    "         'A_H_F_CO',\n",
    "         'C_H_M_CO',\n",
    "         'C_H_M_CT',\n",
    "         'C_H_M_OT',\n",
    "         'A_H_M_CT',\n",
    "         'A_H_M_OT',\n",
    "         'A_H_M_CO',\n",
    "         'G_H_M_OT',\n",
    "         'G_H_M_CO',\n",
    "         'G_H_M_CT', ]\n",
    "\n",
    "labels = ['correct',\n",
    "          'wrong',\n",
    "          'type',\n",
    "          'orientation',\n",
    "          'color']\n",
    "\n",
    "types = ['INTRO',\n",
    "         'CORE',\n",
    "         'FLEX',\n",
    "         'TRIK',\n",
    "         'DELY'\n",
    "]\n",
    "\n",
    "topics = ['cards',\n",
    "          'animals',\n",
    "          'geometry'\n",
    "    \n",
    "]\n",
    "\n",
    "feat = ['type',\n",
    "        'color',\n",
    "        'orientation',\n",
    "        'dual'\n",
    "]\n",
    "\n",
    "age = ['8-10','11-13']\n",
    "\n",
    "# qts_id = ['A_E_F_C_INTRO', 'A_E_F_O_INTRO', 'A_E_F_T_INTRO', 'A_E_M_C_INTRO',\n",
    "#         'A_E_M_O_INTRO', 'A_E_M_T_INTRO', 'A_H_F_CO_CORE', 'A_H_F_CO_DELY',\n",
    "#         'A_H_F_CO_TRIK', 'A_H_F_CT_CORE', 'A_H_F_CT_DELY', 'A_H_F_CT_TRIK',\n",
    "#         'A_H_F_OT_CORE', 'A_H_F_OT_DELY', 'A_H_F_OT_TRIK', 'A_H_M_CO_CORE',\n",
    "#         'A_H_M_CO_FLEX', 'A_H_M_CT_CORE', 'A_H_M_CT_FLEX', 'A_H_M_OT_CORE',\n",
    "#         'A_H_M_OT_FLEX', 'C_E_F_C_INTRO', 'C_E_F_O_INTRO', 'C_E_F_T_INTRO',\n",
    "#         'C_E_M_C_INTRO', 'C_E_M_O_INTRO', 'C_E_M_T_INTRO', 'C_H_F_CO_CORE',\n",
    "#         'C_H_F_CO_DELY', 'C_H_F_CO_TRIK', 'C_H_F_CT_CORE', 'C_H_F_CT_DELY',\n",
    "#         'C_H_F_CT_TRIK', 'C_H_F_OT_CORE', 'C_H_F_OT_DELY', 'C_H_F_OT_TRIK',\n",
    "#         'C_H_M_CO_CORE', 'C_H_M_CO_FLEX', 'C_H_M_CT_CORE', 'C_H_M_CT_FLEX',\n",
    "#         'C_H_M_OT_CORE', 'C_H_M_OT_FLEX', 'G_E_F_C_INTRO', 'G_E_F_O_INTRO',\n",
    "#         'G_E_F_T_INTRO', 'G_E_M_C_INTRO', 'G_E_M_O_INTRO', 'G_E_M_T_INTRO',\n",
    "#         'G_H_F_CO_CORE', 'G_H_F_CO_DELY', 'G_H_F_CO_TRIK', 'G_H_F_CT_CORE',\n",
    "#         'G_H_F_CT_DELY', 'G_H_F_CT_TRIK', 'G_H_F_OT_CORE', 'G_H_F_OT_DELY',\n",
    "#         'G_H_F_OT_TRIK', 'G_H_M_CO_CORE', 'G_H_M_CO_FLEX', 'G_H_M_CT_CORE',\n",
    "#         'G_H_M_CT_FLEX', 'G_H_M_OT_CORE', 'G_H_M_OT_FLEX']\n",
    "\n",
    "\n",
    "\n",
    "\n",
    "def seq_to_int(qts,vocab, labels, types, feat, topics, n_steps, age):\n",
    "    integ = list()\n",
    "    for i,x in enumerate(qts):\n",
    "        if i != n_steps:\n",
    "            features = list()\n",
    "            features.append(vocab.index(qts[i, 4]))\n",
    "            features.append(labels.index(qts[i, 5]))\n",
    "            features.append(qts[i, 2])\n",
    "            features.append(types.index(qts[i, 9]))\n",
    "            features.append(feat.index(qts[i, 10]))\n",
    "            features.append(topics.index(qts[i, 6]))\n",
    "            features.append(age.index(qts[i, 7]))\n",
    "        else:\n",
    "            features = list()\n",
    "            features.append(vocab.index(qts[i, 4]))\n",
    "            features.append(-1)\n",
    "            features.append(qts[i, 2])\n",
    "            features.append(types.index(qts[i, 9]))\n",
    "            features.append(feat.index(qts[i, 10]))\n",
    "            features.append(topics.index(qts[i, 6]))\n",
    "            features.append(age.index(qts[i, 7]))\n",
    "        integ.append(features)\n",
    "    return integ\n",
    "\n",
    "def split_sequence(data, n_steps, vocab, labels, types, feat, topics, age):\n",
    "    X, Y = list(), list()\n",
    "    users = list(dict.fromkeys(data.loc[:, \"user\"]))\n",
    "    for u in users:\n",
    "        sequence = data[data.user == u]\n",
    "        for i in range(len(sequence)):\n",
    "            end_idx = i + n_steps\n",
    "            if end_idx > len(sequence)-1:\n",
    "                break\n",
    "            x = seq_to_int(sequence.iloc[i:end_idx+1, :].values, vocab, labels, types, feat, topics, n_steps, age)\n",
    "            y = labels.index(str(sequence.iloc[end_idx, 5]))\n",
    "            X.append(x)\n",
    "            Y.append(y)\n",
    "    return np.array(X), np.array(Y)\n"
   ]
  },
  {
   "cell_type": "markdown",
   "metadata": {
    "pycharm": {
     "metadata": false
    }
   },
   "source": [
    "### Test split_sequence\n"
   ]
  },
  {
   "cell_type": "code",
   "execution_count": 3,
   "metadata": {
    "pycharm": {
     "is_executing": false,
     "metadata": false,
     "name": "#%%\n"
    }
   },
   "outputs": [
    {
     "name": "stdout",
     "output_type": "stream",
     "text": [
      "(10, 11, 7)\n"
     ]
    }
   ],
   "source": [
    "print(split_sequence(data.iloc[:20, :], 10, vocab, labels, types, feat, topics, age)[0].shape)\n"
   ]
  },
  {
   "cell_type": "markdown",
   "metadata": {
    "pycharm": {
     "metadata": false
    }
   },
   "source": [
    "## The model\n"
   ]
  },
  {
   "cell_type": "code",
   "execution_count": null,
   "metadata": {
    "pycharm": {
     "is_executing": false
    }
   },
   "outputs": [
    {
     "name": "stdout",
     "output_type": "stream",
     "text": [
      "11173 2794\n"
     ]
    }
   ],
   "source": [
    "\n",
    "data_train, data_test = np.split(data.sample(frac=1, random_state=42), \n",
    "                                   [int(0.8 * len(data))])\n",
    "print(len(data_train),len(data_test))\n"
   ]
  },
  {
   "cell_type": "code",
   "execution_count": null,
   "metadata": {
    "pycharm": {
     "is_executing": false,
     "metadata": false,
     "name": "#%%\n"
    }
   },
   "outputs": [
    {
     "name": "stderr",
     "output_type": "stream",
     "text": [
      "100%|████████████████████████████████████████████████████████████████████████████████████| 5/5 [00:17<00:00,  3.59s/it]\n",
      "100%|████████████████████████████████████████████████████████████████████████████████████| 5/5 [00:03<00:00,  1.71it/s]\n"
     ]
    }
   ],
   "source": [
    "\n",
    "# n_steps = 10\n",
    "\n",
    "X_train_split = list()\n",
    "y_train_split = list()\n",
    "\n",
    "\n",
    "for i in tqdm(range(5, 10)):\n",
    "    X_seq, y_seq = split_sequence(data_train, i, vocab, labels, types, feat, topics, age)\n",
    "    for x in X_seq:\n",
    "        X_train_split.append(x)\n",
    "    for _y in y_seq:\n",
    "        y_train_split.append(_y)\n",
    "y_train = np_utils.to_categorical(y_train_split)\n",
    "# X = np_utils.to_categorical(X)\n",
    "X_train = np.array(X_train_split)\n",
    "\n",
    "#X_train, X_test, y_train, y_test = train_test_split(X, y, test_size=0.10, random_state=42)\n",
    "X_test_split = list()\n",
    "y_test_split = list()\n",
    "\n",
    "\n",
    "for i in tqdm(range(5, 10)):\n",
    "    X_seq, y_seq = split_sequence(data_test, i, vocab, labels, types, feat, topics, age)\n",
    "    for x in X_seq:\n",
    "        X_test_split.append(x)\n",
    "    for _y in y_seq:\n",
    "        y_test_split.append(_y)\n",
    "y_test = np_utils.to_categorical(y_test_split)\n",
    "# X = np_utils.to_categorical(X)\n",
    "X_test = np.array(X_test_split)\n",
    "\n"
   ]
  },
  {
   "cell_type": "code",
   "execution_count": null,
   "metadata": {
    "pycharm": {
     "is_executing": false,
     "metadata": false,
     "name": "#%%\n"
    }
   },
   "outputs": [
    {
     "name": "stdout",
     "output_type": "stream",
     "text": [
      "train set size: 48095\n",
      "test set size: 6288\n",
      "WARNING:tensorflow:From c:\\users\\pc\\appdata\\local\\programs\\python\\python37\\lib\\site-packages\\tensorflow\\python\\framework\\op_def_library.py:263: colocate_with (from tensorflow.python.framework.ops) is deprecated and will be removed in a future version.\n",
      "Instructions for updating:\n",
      "Colocations handled automatically by placer.\n"
     ]
    }
   ],
   "source": [
    "n_features = 7\n",
    "# X = X.reshape((X.shape[0], X.shape[1], n_features*X.shape[-1]))\n",
    "# print(X.shape)\n",
    "\n",
    "\n",
    "print('train set size: '+str(len(y_train)))\n",
    "print('test set size: '+str(len(y_test)))\n",
    "\n",
    "model = Sequential()\n",
    "model.add(CuDNNLSTM(256, input_shape=(None, n_features)))\n",
    "# model.add(Dropout(0.2))\n",
    "# model.add(LSTM(X.shape[1], return_sequences=True))\n",
    "# model.add(Dropout(0.2))\n",
    "# model.add(LSTM(X.shape[1]))\n",
    "# model.add(Dropout(0.2))\n",
    "amsgrad = Adam(amsgrad=True)\n",
    "model.add(Dense(5))\n",
    "model.add(Activation('softmax'))\n",
    "model.compile(optimizer=amsgrad, loss='categorical_crossentropy', metrics=['categorical_accuracy'])"
   ]
  },
  {
   "cell_type": "markdown",
   "metadata": {
    "pycharm": {
     "metadata": false
    }
   },
   "source": [
    "### Training"
   ]
  },
  {
   "cell_type": "code",
   "execution_count": null,
   "metadata": {
    "pycharm": {
     "is_executing": true
    }
   },
   "outputs": [
    {
     "name": "stdout",
     "output_type": "stream",
     "text": [
      "WARNING:tensorflow:From c:\\users\\pc\\appdata\\local\\programs\\python\\python37\\lib\\site-packages\\tensorflow\\python\\ops\\math_ops.py:3066: to_int32 (from tensorflow.python.ops.math_ops) is deprecated and will be removed in a future version.\n",
      "Instructions for updating:\n",
      "Use tf.cast instead.\n",
      "Epoch 1/2000\n"
     ]
    }
   ],
   "source": [
    "def train_generator():\n",
    "    while True:\n",
    "        idx = np.random.choice(np.arange(len(y_train)), 1, replace=True)[0]\n",
    "        x_train = X_train[idx]\n",
    "        _y_train = y_train[idx]\n",
    "        yield np.array([x_train]), np.array([_y_train])\n",
    "#model.fit(X_train, y_train, epochs=1000, batch_size=300)\n",
    "model.fit_generator(train_generator(), steps_per_epoch=X_train.shape[0], epochs=2000, verbose=1)"
   ]
  },
  {
   "cell_type": "markdown",
   "metadata": {
    "pycharm": {
     "metadata": false
    }
   },
   "source": [
    "### Validation"
   ]
  },
  {
   "cell_type": "code",
   "execution_count": null,
   "metadata": {
    "pycharm": {
     "is_executing": false,
     "metadata": false,
     "name": "#%%\n"
    }
   },
   "outputs": [],
   "source": [
    "def test_generator():\n",
    "    while True:\n",
    "        idx = np.random.choice(np.arange(len(y_test)), 1,replace=False)[0]\n",
    "        x_test = X_test[idx]\n",
    "        _y_test = y_test[idx]\n",
    "        yield np.array([x_test]), np.array([_y_test])\n",
    "scores = model.evaluate_generator(test_generator(), 1000)\n",
    "\n",
    "def test_18_generator():\n",
    "    while True:\n",
    "        idx = np.random.choice(np.arange(len(y_test)), 1, replace=False)[0]\n",
    "        x_test = X_test[idx]\n",
    "        _ytest = y_test[idx]\n",
    "        while _ytest[0] == 1 or _ytest[1]==1:\n",
    "            idx = np.random.choice(np.arange(len(y_test)), 1, replace=False)[0]\n",
    "            x_test = X_test[idx]\n",
    "            _ytest = y_test[idx]\n",
    "        yield np.array([x_test]), np.array([_ytest])\n",
    "        \n",
    "def test_inf_18_generator():\n",
    "    while True:\n",
    "        idx = np.random.choice(np.arange(len(y_test)), 1, replace=False)[0]\n",
    "        x_test = X_test[idx]\n",
    "        _ytest = y_test[idx]\n",
    "        while _ytest[0] != 1 and _ytest[1]!=1:\n",
    "            idx = np.random.choice(np.arange(len(y_test)), 1, replace=False)[0]\n",
    "            x_test = X_test[idx]\n",
    "            _ytest = y_test[idx]\n",
    "        yield np.array([x_test]), np.array([_ytest])\n",
    "\n",
    "\n",
    "\n"
   ]
  },
  {
   "cell_type": "code",
   "execution_count": null,
   "metadata": {
    "pycharm": {
     "is_executing": false,
     "metadata": false,
     "name": "#%%\n"
    }
   },
   "outputs": [],
   "source": [
    "#model.save(\"model.h5\")\n",
    "#from keras.models import load_model\n",
    "#model = load_model(\"model.h5\")"
   ]
  },
  {
   "cell_type": "code",
   "execution_count": null,
   "metadata": {
    "pycharm": {
     "is_executing": false,
     "metadata": false,
     "name": "#%%\n"
    }
   },
   "outputs": [],
   "source": [
    "scores = model.evaluate_generator(test_generator(), 1000)\n",
    "print(\"Accuracy: %.2f%%\" % (scores[1]*100))\n",
    "\n",
    "print(X_test[0])\n",
    "print(model.predict(np.array([X_test[0]])))\n",
    "print(np.array([X_test[1]]))\n",
    "print(y_test[0])"
   ]
  },
  {
   "cell_type": "markdown",
   "metadata": {
    "pycharm": {
     "metadata": false,
     "name": "#%% md\n"
    }
   },
   "source": [
    "#### Questions greater than 18"
   ]
  },
  {
   "cell_type": "code",
   "execution_count": null,
   "metadata": {
    "pycharm": {
     "is_executing": false,
     "metadata": false,
     "name": "#%%\n"
    }
   },
   "outputs": [],
   "source": [
    "scores = model.evaluate_generator(test_18_generator(), 1000)\n",
    "print(\"Accuracy: %.2f%%\" % (scores[1]*100))"
   ]
  },
  {
   "cell_type": "markdown",
   "metadata": {
    "pycharm": {
     "metadata": false
    }
   },
   "source": [
    "#### Questions lower than 18"
   ]
  },
  {
   "cell_type": "code",
   "execution_count": null,
   "metadata": {
    "pycharm": {
     "is_executing": false,
     "metadata": false,
     "name": "#%%\n"
    }
   },
   "outputs": [],
   "source": [
    "scores = model.evaluate_generator(test_inf_18_generator(), 1000)\n",
    "print(\"Accuracy: %.2f%%\" % (scores[1]*100))\n",
    "\n"
   ]
  },
  {
   "cell_type": "code",
   "execution_count": null,
   "metadata": {
    "pycharm": {}
   },
   "outputs": [],
   "source": []
  }
 ],
 "metadata": {
  "kernelspec": {
   "display_name": "Python 3",
   "language": "python",
   "name": "python3"
  },
  "language_info": {
   "codemirror_mode": {
    "name": "ipython",
    "version": 3
   },
   "file_extension": ".py",
   "mimetype": "text/x-python",
   "name": "python",
   "nbconvert_exporter": "python",
   "pygments_lexer": "ipython3",
   "version": "3.7.3"
  },
  "stem_cell": {
   "cell_type": "raw",
   "metadata": {
    "pycharm": {
     "metadata": false
    }
   },
   "source": ""
  }
 },
 "nbformat": 4,
 "nbformat_minor": 1
}
