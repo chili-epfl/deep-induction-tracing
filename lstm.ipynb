{
  "cells": [
    {
      "cell_type": "code",
      "execution_count": 1,
      "outputs": [
        {
          "name": "stderr",
          "text": [
            "Using TensorFlow backend.\n",
            "/Users/ambroiserenaud/anaconda3/envs/chili/lib/python3.7/site-packages/tensorflow/python/framework/dtypes.py:516: FutureWarning: Passing (type, 1) or \u00271type\u0027 as a synonym of type is deprecated; in a future version of numpy, it will be understood as (type, (1,)) / \u0027(1,)type\u0027.\n  _np_qint8 \u003d np.dtype([(\"qint8\", np.int8, 1)])\n/Users/ambroiserenaud/anaconda3/envs/chili/lib/python3.7/site-packages/tensorflow/python/framework/dtypes.py:517: FutureWarning: Passing (type, 1) or \u00271type\u0027 as a synonym of type is deprecated; in a future version of numpy, it will be understood as (type, (1,)) / \u0027(1,)type\u0027.\n  _np_quint8 \u003d np.dtype([(\"quint8\", np.uint8, 1)])\n/Users/ambroiserenaud/anaconda3/envs/chili/lib/python3.7/site-packages/tensorflow/python/framework/dtypes.py:518: FutureWarning: Passing (type, 1) or \u00271type\u0027 as a synonym of type is deprecated; in a future version of numpy, it will be understood as (type, (1,)) / \u0027(1,)type\u0027.\n  _np_qint16 \u003d np.dtype([(\"qint16\", np.int16, 1)])\n/Users/ambroiserenaud/anaconda3/envs/chili/lib/python3.7/site-packages/tensorflow/python/framework/dtypes.py:519: FutureWarning: Passing (type, 1) or \u00271type\u0027 as a synonym of type is deprecated; in a future version of numpy, it will be understood as (type, (1,)) / \u0027(1,)type\u0027.\n  _np_quint16 \u003d np.dtype([(\"quint16\", np.uint16, 1)])\n/Users/ambroiserenaud/anaconda3/envs/chili/lib/python3.7/site-packages/tensorflow/python/framework/dtypes.py:520: FutureWarning: Passing (type, 1) or \u00271type\u0027 as a synonym of type is deprecated; in a future version of numpy, it will be understood as (type, (1,)) / \u0027(1,)type\u0027.\n  _np_qint32 \u003d np.dtype([(\"qint32\", np.int32, 1)])\n/Users/ambroiserenaud/anaconda3/envs/chili/lib/python3.7/site-packages/tensorflow/python/framework/dtypes.py:525: FutureWarning: Passing (type, 1) or \u00271type\u0027 as a synonym of type is deprecated; in a future version of numpy, it will be understood as (type, (1,)) / \u0027(1,)type\u0027.\n  np_resource \u003d np.dtype([(\"resource\", np.ubyte, 1)])\n",
            "/Users/ambroiserenaud/anaconda3/envs/chili/lib/python3.7/site-packages/tensorboard/compat/tensorflow_stub/dtypes.py:541: FutureWarning: Passing (type, 1) or \u00271type\u0027 as a synonym of type is deprecated; in a future version of numpy, it will be understood as (type, (1,)) / \u0027(1,)type\u0027.\n  _np_qint8 \u003d np.dtype([(\"qint8\", np.int8, 1)])\n/Users/ambroiserenaud/anaconda3/envs/chili/lib/python3.7/site-packages/tensorboard/compat/tensorflow_stub/dtypes.py:542: FutureWarning: Passing (type, 1) or \u00271type\u0027 as a synonym of type is deprecated; in a future version of numpy, it will be understood as (type, (1,)) / \u0027(1,)type\u0027.\n  _np_quint8 \u003d np.dtype([(\"quint8\", np.uint8, 1)])\n/Users/ambroiserenaud/anaconda3/envs/chili/lib/python3.7/site-packages/tensorboard/compat/tensorflow_stub/dtypes.py:543: FutureWarning: Passing (type, 1) or \u00271type\u0027 as a synonym of type is deprecated; in a future version of numpy, it will be understood as (type, (1,)) / \u0027(1,)type\u0027.\n  _np_qint16 \u003d np.dtype([(\"qint16\", np.int16, 1)])\n/Users/ambroiserenaud/anaconda3/envs/chili/lib/python3.7/site-packages/tensorboard/compat/tensorflow_stub/dtypes.py:544: FutureWarning: Passing (type, 1) or \u00271type\u0027 as a synonym of type is deprecated; in a future version of numpy, it will be understood as (type, (1,)) / \u0027(1,)type\u0027.\n  _np_quint16 \u003d np.dtype([(\"quint16\", np.uint16, 1)])\n/Users/ambroiserenaud/anaconda3/envs/chili/lib/python3.7/site-packages/tensorboard/compat/tensorflow_stub/dtypes.py:545: FutureWarning: Passing (type, 1) or \u00271type\u0027 as a synonym of type is deprecated; in a future version of numpy, it will be understood as (type, (1,)) / \u0027(1,)type\u0027.\n  _np_qint32 \u003d np.dtype([(\"qint32\", np.int32, 1)])\n/Users/ambroiserenaud/anaconda3/envs/chili/lib/python3.7/site-packages/tensorboard/compat/tensorflow_stub/dtypes.py:550: FutureWarning: Passing (type, 1) or \u00271type\u0027 as a synonym of type is deprecated; in a future version of numpy, it will be understood as (type, (1,)) / \u0027(1,)type\u0027.\n  np_resource \u003d np.dtype([(\"resource\", np.ubyte, 1)])\n"
          ],
          "output_type": "stream"
        }
      ],
      "source": "import pandas as pd\nimport numpy as np\nfrom keras import Sequential\nfrom keras.layers import LSTM, Dense\nfrom keras.utils import np_utils\nfrom sklearn.model_selection import train_test_split",
      "metadata": {
        "pycharm": {
          "metadata": false,
          "name": "#%%\n",
          "is_executing": false
        }
      }
    },
    {
      "cell_type": "markdown",
      "source": "## Data preparation",
      "metadata": {
        "pycharm": {
          "metadata": false
        }
      }
    },
    {
      "cell_type": "code",
      "execution_count": 2,
      "metadata": {
        "collapsed": true,
        "pycharm": {
          "is_executing": false
        }
      },
      "outputs": [],
      "source": "\ndata \u003d pd.read_csv(\u0027induce-data-2019-08-08.csv\u0027).iloc[:, :]\nvocab \u003d [\u0027C_E_F_T\u0027,\n         \u0027C_E_F_C\u0027,\n         \u0027C_E_F_O\u0027,\n         \u0027A_E_F_T\u0027,\n         \u0027A_E_F_O\u0027,\n         \u0027A_E_F_C\u0027,\n         \u0027G_E_F_C\u0027,\n         \u0027G_E_F_T\u0027,\n         \u0027G_E_F_O\u0027,\n         \u0027A_E_M_T\u0027,\n         \u0027A_E_M_O\u0027,\n         \u0027A_E_M_C\u0027,\n         \u0027G_E_M_O\u0027,\n         \u0027G_E_M_C\u0027,\n         \u0027G_E_M_T\u0027,\n         \u0027C_E_M_O\u0027,\n         \u0027C_E_M_C\u0027,\n         \u0027C_E_M_T\u0027,\n         \u0027C_H_F_CO\u0027,\n         \u0027C_H_F_CT\u0027,\n         \u0027C_H_F_OT\u0027,\n         \u0027G_H_F_OT\u0027,\n         \u0027G_H_F_CO\u0027,\n         \u0027G_H_F_CT\u0027,\n         \u0027A_H_F_CT\u0027,\n         \u0027A_H_F_OT\u0027,\n         \u0027A_H_F_CO\u0027,\n         \u0027C_H_M_CO\u0027,\n         \u0027C_H_M_CT\u0027,\n         \u0027C_H_M_OT\u0027,\n         \u0027A_H_M_CT\u0027,\n         \u0027A_H_M_OT\u0027,\n         \u0027A_H_M_CO\u0027,\n         \u0027G_H_M_OT\u0027,\n         \u0027G_H_M_CO\u0027,\n         \u0027G_H_M_CT\u0027, ]\n\nlabels \u003d [\u0027correct\u0027,\n          \u0027wrong\u0027,\n          \u0027type\u0027,\n          \u0027orientation\u0027,\n          \u0027color\u0027]\n\ntypes \u003d [\u0027INTRO\u0027,\n         \u0027CORE\u0027,\n         \u0027FLEX\u0027,\n         \u0027TRIK\u0027,\n         \u0027DELY\u0027\n]\n\nfeat \u003d [\u0027type\u0027,\n        \u0027color\u0027,\n        \u0027orientation\u0027,\n        \u0027dual\u0027\n]\n\nqts_id \u003d [\u0027A_E_F_C_INTRO\u0027, \u0027A_E_F_O_INTRO\u0027, \u0027A_E_F_T_INTRO\u0027, \u0027A_E_M_C_INTRO\u0027,\n        \u0027A_E_M_O_INTRO\u0027, \u0027A_E_M_T_INTRO\u0027, \u0027A_H_F_CO_CORE\u0027, \u0027A_H_F_CO_DELY\u0027,\n        \u0027A_H_F_CO_TRIK\u0027, \u0027A_H_F_CT_CORE\u0027, \u0027A_H_F_CT_DELY\u0027, \u0027A_H_F_CT_TRIK\u0027,\n        \u0027A_H_F_OT_CORE\u0027, \u0027A_H_F_OT_DELY\u0027, \u0027A_H_F_OT_TRIK\u0027, \u0027A_H_M_CO_CORE\u0027,\n        \u0027A_H_M_CO_FLEX\u0027, \u0027A_H_M_CT_CORE\u0027, \u0027A_H_M_CT_FLEX\u0027, \u0027A_H_M_OT_CORE\u0027,\n        \u0027A_H_M_OT_FLEX\u0027, \u0027C_E_F_C_INTRO\u0027, \u0027C_E_F_O_INTRO\u0027, \u0027C_E_F_T_INTRO\u0027,\n        \u0027C_E_M_C_INTRO\u0027, \u0027C_E_M_O_INTRO\u0027, \u0027C_E_M_T_INTRO\u0027, \u0027C_H_F_CO_CORE\u0027,\n        \u0027C_H_F_CO_DELY\u0027, \u0027C_H_F_CO_TRIK\u0027, \u0027C_H_F_CT_CORE\u0027, \u0027C_H_F_CT_DELY\u0027,\n        \u0027C_H_F_CT_TRIK\u0027, \u0027C_H_F_OT_CORE\u0027, \u0027C_H_F_OT_DELY\u0027, \u0027C_H_F_OT_TRIK\u0027,\n        \u0027C_H_M_CO_CORE\u0027, \u0027C_H_M_CO_FLEX\u0027, \u0027C_H_M_CT_CORE\u0027, \u0027C_H_M_CT_FLEX\u0027,\n        \u0027C_H_M_OT_CORE\u0027, \u0027C_H_M_OT_FLEX\u0027, \u0027G_E_F_C_INTRO\u0027, \u0027G_E_F_O_INTRO\u0027,\n        \u0027G_E_F_T_INTRO\u0027, \u0027G_E_M_C_INTRO\u0027, \u0027G_E_M_O_INTRO\u0027, \u0027G_E_M_T_INTRO\u0027,\n        \u0027G_H_F_CO_CORE\u0027, \u0027G_H_F_CO_DELY\u0027, \u0027G_H_F_CO_TRIK\u0027, \u0027G_H_F_CT_CORE\u0027,\n        \u0027G_H_F_CT_DELY\u0027, \u0027G_H_F_CT_TRIK\u0027, \u0027G_H_F_OT_CORE\u0027, \u0027G_H_F_OT_DELY\u0027,\n        \u0027G_H_F_OT_TRIK\u0027, \u0027G_H_M_CO_CORE\u0027, \u0027G_H_M_CO_FLEX\u0027, \u0027G_H_M_CT_CORE\u0027,\n        \u0027G_H_M_CT_FLEX\u0027, \u0027G_H_M_OT_CORE\u0027, \u0027G_H_M_OT_FLEX\u0027]\n\n\n\n\ndef seq_to_int(qts,vocab, labels, types, feat, qts_id, n_steps):\n    integ \u003d list()\n    for i,x in enumerate(qts):\n        if i !\u003d n_steps-1:\n            features \u003d list()\n            features.append(vocab.index(qts[i, 4]))\n            features.append(labels.index(qts[i, 5]))\n            features.append(qts[i, 2])\n            features.append(types.index(qts[i, 9]))\n            features.append(feat.index(qts[i, 10]))\n            features.append(qts_id.index(qts[i, 8]))\n        else:\n            features \u003d list()\n            features.append(vocab.index(qts[i, 4]))\n            features.append(-1)\n            features.append(qts[i, 2])\n            features.append(types.index(qts[i, 9]))\n            features.append(feat.index(qts[i, 10]))\n            features.append(qts_id.index(qts[i, 8]))\n        integ.append(features)\n    return integ\n\ndef split_sequence(data, n_steps, vocab, labels, types, feat, qts_id):\n    X, Y \u003d list(), list()\n    users \u003d list(dict.fromkeys(data.loc[:, \"user\"]))\n    for u in users:\n        sequence \u003d data[data.user \u003d\u003d u]\n        for i in range(len(sequence)):\n            end_idx \u003d i + n_steps\n            if end_idx \u003e len(sequence)-1:\n                break\n            x \u003d seq_to_int(sequence.iloc[i:end_idx, :].values, vocab, labels, types, feat, qts_id, n_steps)\n            y \u003d labels.index(str(sequence.iloc[end_idx, 5]))\n            X.append(x)\n            Y.append(y)\n    return np.array(X), np.array(Y)\n"
    },
    {
      "cell_type": "markdown",
      "source": "### Test split_sequence\n",
      "metadata": {
        "pycharm": {
          "metadata": false
        }
      }
    },
    {
      "cell_type": "code",
      "execution_count": 3,
      "outputs": [
        {
          "name": "stdout",
          "text": [
            "(array([[[ 0,  0,  0,  0,  0, 23],\n        [ 1,  0,  1,  0,  1, 21],\n        [ 2,  0,  2,  0,  2, 22],\n        [ 3,  0,  3,  0,  0,  2],\n        [ 4,  0,  4,  0,  2,  1],\n        [ 5,  1,  5,  0,  1,  0],\n        [ 6,  0,  6,  0,  1, 42],\n        [ 7,  0,  7,  0,  0, 44],\n        [ 8,  0,  8,  0,  2, 43],\n        [ 9, -1,  9,  0,  0,  5]],\n\n       [[ 1,  0,  1,  0,  1, 21],\n        [ 2,  0,  2,  0,  2, 22],\n        [ 3,  0,  3,  0,  0,  2],\n        [ 4,  0,  4,  0,  2,  1],\n        [ 5,  1,  5,  0,  1,  0],\n        [ 6,  0,  6,  0,  1, 42],\n        [ 7,  0,  7,  0,  0, 44],\n        [ 8,  0,  8,  0,  2, 43],\n        [ 9,  0,  9,  0,  0,  5],\n        [10, -1, 10,  0,  2,  4]],\n\n       [[ 2,  0,  2,  0,  2, 22],\n        [ 3,  0,  3,  0,  0,  2],\n        [ 4,  0,  4,  0,  2,  1],\n        [ 5,  1,  5,  0,  1,  0],\n        [ 6,  0,  6,  0,  1, 42],\n        [ 7,  0,  7,  0,  0, 44],\n        [ 8,  0,  8,  0,  2, 43],\n        [ 9,  0,  9,  0,  0,  5],\n        [10,  0, 10,  0,  2,  4],\n        [11, -1, 11,  0,  1,  3]],\n\n       [[ 3,  0,  3,  0,  0,  2],\n        [ 4,  0,  4,  0,  2,  1],\n        [ 5,  1,  5,  0,  1,  0],\n        [ 6,  0,  6,  0,  1, 42],\n        [ 7,  0,  7,  0,  0, 44],\n        [ 8,  0,  8,  0,  2, 43],\n        [ 9,  0,  9,  0,  0,  5],\n        [10,  0, 10,  0,  2,  4],\n        [11,  0, 11,  0,  1,  3],\n        [12, -1, 12,  0,  2, 46]],\n\n       [[ 4,  0,  4,  0,  2,  1],\n        [ 5,  1,  5,  0,  1,  0],\n        [ 6,  0,  6,  0,  1, 42],\n        [ 7,  0,  7,  0,  0, 44],\n        [ 8,  0,  8,  0,  2, 43],\n        [ 9,  0,  9,  0,  0,  5],\n        [10,  0, 10,  0,  2,  4],\n        [11,  0, 11,  0,  1,  3],\n        [12,  0, 12,  0,  2, 46],\n        [13, -1, 13,  0,  1, 45]],\n\n       [[ 5,  1,  5,  0,  1,  0],\n        [ 6,  0,  6,  0,  1, 42],\n        [ 7,  0,  7,  0,  0, 44],\n        [ 8,  0,  8,  0,  2, 43],\n        [ 9,  0,  9,  0,  0,  5],\n        [10,  0, 10,  0,  2,  4],\n        [11,  0, 11,  0,  1,  3],\n        [12,  0, 12,  0,  2, 46],\n        [13,  1, 13,  0,  1, 45],\n        [14, -1, 14,  0,  0, 47]],\n\n       [[ 6,  0,  6,  0,  1, 42],\n        [ 7,  0,  7,  0,  0, 44],\n        [ 8,  0,  8,  0,  2, 43],\n        [ 9,  0,  9,  0,  0,  5],\n        [10,  0, 10,  0,  2,  4],\n        [11,  0, 11,  0,  1,  3],\n        [12,  0, 12,  0,  2, 46],\n        [13,  1, 13,  0,  1, 45],\n        [14,  0, 14,  0,  0, 47],\n        [15, -1, 15,  0,  2, 25]],\n\n       [[ 7,  0,  7,  0,  0, 44],\n        [ 8,  0,  8,  0,  2, 43],\n        [ 9,  0,  9,  0,  0,  5],\n        [10,  0, 10,  0,  2,  4],\n        [11,  0, 11,  0,  1,  3],\n        [12,  0, 12,  0,  2, 46],\n        [13,  1, 13,  0,  1, 45],\n        [14,  0, 14,  0,  0, 47],\n        [15,  0, 15,  0,  2, 25],\n        [16, -1, 16,  0,  1, 24]],\n\n       [[ 8,  0,  8,  0,  2, 43],\n        [ 9,  0,  9,  0,  0,  5],\n        [10,  0, 10,  0,  2,  4],\n        [11,  0, 11,  0,  1,  3],\n        [12,  0, 12,  0,  2, 46],\n        [13,  1, 13,  0,  1, 45],\n        [14,  0, 14,  0,  0, 47],\n        [15,  0, 15,  0,  2, 25],\n        [16,  1, 16,  0,  1, 24],\n        [17, -1, 17,  0,  0, 26]],\n\n       [[ 9,  0,  9,  0,  0,  5],\n        [10,  0, 10,  0,  2,  4],\n        [11,  0, 11,  0,  1,  3],\n        [12,  0, 12,  0,  2, 46],\n        [13,  1, 13,  0,  1, 45],\n        [14,  0, 14,  0,  0, 47],\n        [15,  0, 15,  0,  2, 25],\n        [16,  1, 16,  0,  1, 24],\n        [17,  0, 17,  0,  0, 26],\n        [18, -1, 18,  1,  3, 27]]]), array([0, 0, 0, 1, 0, 0, 1, 0, 4, 2]))\n"
          ],
          "output_type": "stream"
        }
      ],
      "source": "print(split_sequence(data.iloc[:20, :], 10, vocab, labels, types, feat, qts_id))\n",
      "metadata": {
        "pycharm": {
          "metadata": false,
          "name": "#%%\n",
          "is_executing": false
        }
      }
    },
    {
      "cell_type": "markdown",
      "source": "## The model\n",
      "metadata": {
        "pycharm": {
          "metadata": false
        }
      }
    },
    {
      "cell_type": "code",
      "execution_count": 19,
      "outputs": [
        {
          "name": "stdout",
          "text": [
            "(11747, 10, 378)\n",
            "train set size: 7870\ntest set size: 3877\n"
          ],
          "output_type": "stream"
        }
      ],
      "source": "n_features \u003d 6\nn_steps \u003d 10\n\n\nX, y \u003d split_sequence(data, n_steps, vocab, labels, types, feat, qts_id)\ny \u003d np_utils.to_categorical(y)\nX \u003d np_utils.to_categorical(X)\nX \u003d X.reshape((X.shape[0], X.shape[1], n_features*X.shape[-1]))\nprint(X.shape)\nX_train, X_test, y_train, y_test \u003d train_test_split(X, y, test_size\u003d0.33, random_state\u003d42)\nprint(\u0027train set size: \u0027+str(len(y_train)))\nprint(\u0027test set size: \u0027+str(len(y_test)))\n\nmodel \u003d Sequential()\nmodel.add(LSTM(100, activation\u003d\u0027relu\u0027, return_sequences\u003dTrue, input_shape\u003d(n_steps, X.shape[-1])))\nmodel.add(LSTM(100, activation\u003d\u0027relu\u0027))\nmodel.add(Dense(5))\nmodel.compile(optimizer\u003d\u0027adam\u0027, loss\u003d\u0027mse\u0027, metrics\u003d[\u0027categorical_accuracy\u0027])",
      "metadata": {
        "pycharm": {
          "metadata": false,
          "name": "#%%\n",
          "is_executing": false
        }
      }
    },
    {
      "cell_type": "markdown",
      "source": "### Training",
      "metadata": {
        "pycharm": {
          "metadata": false
        }
      }
    },
    {
      "cell_type": "code",
      "execution_count": 20,
      "outputs": [
        {
          "name": "stdout",
          "text": [
            "Epoch 1/2000\n",
            " - 11s - loss: 0.1296 - categorical_accuracy: 0.4485\n",
            "Epoch 2/2000\n",
            " - 6s - loss: 0.1052 - categorical_accuracy: 0.6083\n",
            "Epoch 3/2000\n",
            " - 6s - loss: 0.0924 - categorical_accuracy: 0.6429\n",
            "Epoch 4/2000\n",
            " - 6s - loss: 0.0878 - categorical_accuracy: 0.6548\n",
            "Epoch 5/2000\n",
            " - 6s - loss: 0.0863 - categorical_accuracy: 0.6593\n",
            "Epoch 6/2000\n",
            " - 6s - loss: 0.0855 - categorical_accuracy: 0.6638\n",
            "Epoch 7/2000\n",
            " - 6s - loss: 0.0849 - categorical_accuracy: 0.6673\n",
            "Epoch 8/2000\n",
            " - 6s - loss: 0.0844 - categorical_accuracy: 0.6680\n",
            "Epoch 9/2000\n",
            " - 6s - loss: 0.0839 - categorical_accuracy: 0.6690\n",
            "Epoch 10/2000\n",
            " - 6s - loss: 0.0837 - categorical_accuracy: 0.6751\n",
            "Epoch 11/2000\n",
            " - 6s - loss: 0.0833 - categorical_accuracy: 0.6764\n",
            "Epoch 12/2000\n",
            " - 6s - loss: 0.0831 - categorical_accuracy: 0.6771\n",
            "Epoch 13/2000\n",
            " - 6s - loss: 0.0827 - categorical_accuracy: 0.6798\n",
            "Epoch 14/2000\n",
            " - 6s - loss: 0.0824 - categorical_accuracy: 0.6828\n",
            "Epoch 15/2000\n",
            " - 6s - loss: 0.0821 - categorical_accuracy: 0.6834\n",
            "Epoch 16/2000\n",
            " - 6s - loss: 0.0817 - categorical_accuracy: 0.6846\n",
            "Epoch 17/2000\n",
            " - 6s - loss: 0.0816 - categorical_accuracy: 0.6869\n",
            "Epoch 18/2000\n",
            " - 6s - loss: 0.0815 - categorical_accuracy: 0.6881\n",
            "Epoch 19/2000\n",
            " - 6s - loss: 0.0812 - categorical_accuracy: 0.6861\n",
            "Epoch 20/2000\n",
            " - 6s - loss: 0.0809 - categorical_accuracy: 0.6905\n",
            "Epoch 21/2000\n",
            " - 6s - loss: 0.0809 - categorical_accuracy: 0.6884\n",
            "Epoch 22/2000\n",
            " - 6s - loss: 0.0808 - categorical_accuracy: 0.6909\n",
            "Epoch 23/2000\n",
            " - 6s - loss: 0.0806 - categorical_accuracy: 0.6926\n",
            "Epoch 24/2000\n",
            " - 7s - loss: 0.0804 - categorical_accuracy: 0.6909\n",
            "Epoch 25/2000\n",
            " - 7s - loss: 0.0804 - categorical_accuracy: 0.6898\n",
            "Epoch 26/2000\n",
            " - 6s - loss: 0.0802 - categorical_accuracy: 0.6928\n",
            "Epoch 27/2000\n",
            " - 6s - loss: 0.0801 - categorical_accuracy: 0.6930\n",
            "Epoch 28/2000\n",
            " - 6s - loss: 0.0797 - categorical_accuracy: 0.6971\n",
            "Epoch 29/2000\n",
            " - 6s - loss: 0.0797 - categorical_accuracy: 0.6991\n",
            "Epoch 30/2000\n",
            " - 6s - loss: 0.0795 - categorical_accuracy: 0.6959\n",
            "Epoch 31/2000\n",
            " - 6s - loss: 0.0795 - categorical_accuracy: 0.6975\n",
            "Epoch 32/2000\n",
            " - 6s - loss: 0.0793 - categorical_accuracy: 0.6975\n",
            "Epoch 33/2000\n",
            " - 6s - loss: 0.0792 - categorical_accuracy: 0.6970\n",
            "Epoch 34/2000\n",
            " - 6s - loss: 0.0790 - categorical_accuracy: 0.7029\n",
            "Epoch 35/2000\n",
            " - 6s - loss: 0.0791 - categorical_accuracy: 0.6963\n",
            "Epoch 36/2000\n",
            " - 6s - loss: 0.0790 - categorical_accuracy: 0.7023\n",
            "Epoch 37/2000\n",
            " - 6s - loss: 0.0788 - categorical_accuracy: 0.6996\n",
            "Epoch 38/2000\n",
            " - 6s - loss: 0.0785 - categorical_accuracy: 0.7008\n",
            "Epoch 39/2000\n",
            " - 6s - loss: 0.0788 - categorical_accuracy: 0.7009\n",
            "Epoch 40/2000\n",
            " - 6s - loss: 0.0785 - categorical_accuracy: 0.7041\n",
            "Epoch 41/2000\n",
            " - 6s - loss: 0.0785 - categorical_accuracy: 0.7015\n",
            "Epoch 42/2000\n",
            " - 6s - loss: 0.0784 - categorical_accuracy: 0.7010\n",
            "Epoch 43/2000\n",
            " - 6s - loss: 0.0782 - categorical_accuracy: 0.7036\n",
            "Epoch 44/2000\n",
            " - 6s - loss: 0.0781 - categorical_accuracy: 0.7033\n",
            "Epoch 45/2000\n",
            " - 6s - loss: 0.0781 - categorical_accuracy: 0.7033\n",
            "Epoch 46/2000\n",
            " - 6s - loss: 0.0779 - categorical_accuracy: 0.7024\n",
            "Epoch 47/2000\n",
            " - 6s - loss: 0.0779 - categorical_accuracy: 0.7030\n",
            "Epoch 48/2000\n",
            " - 6s - loss: 0.0779 - categorical_accuracy: 0.7039\n",
            "Epoch 49/2000\n",
            " - 6s - loss: 0.0778 - categorical_accuracy: 0.7076\n",
            "Epoch 50/2000\n",
            " - 6s - loss: 0.0777 - categorical_accuracy: 0.7084\n",
            "Epoch 51/2000\n",
            " - 6s - loss: 0.0776 - categorical_accuracy: 0.7065\n",
            "Epoch 52/2000\n",
            " - 6s - loss: 0.0776 - categorical_accuracy: 0.7055\n",
            "Epoch 53/2000\n",
            " - 6s - loss: 0.0776 - categorical_accuracy: 0.7055\n",
            "Epoch 54/2000\n",
            " - 6s - loss: 0.0774 - categorical_accuracy: 0.7066\n",
            "Epoch 55/2000\n",
            " - 6s - loss: 0.0773 - categorical_accuracy: 0.7098\n",
            "Epoch 56/2000\n",
            " - 6s - loss: 0.0773 - categorical_accuracy: 0.7076\n",
            "Epoch 57/2000\n",
            " - 6s - loss: 0.0772 - categorical_accuracy: 0.7084\n",
            "Epoch 58/2000\n",
            " - 6s - loss: 0.0772 - categorical_accuracy: 0.7107\n",
            "Epoch 59/2000\n",
            " - 6s - loss: 0.0771 - categorical_accuracy: 0.7094\n",
            "Epoch 60/2000\n",
            " - 6s - loss: 0.0770 - categorical_accuracy: 0.7133\n",
            "Epoch 61/2000\n",
            " - 6s - loss: 0.0770 - categorical_accuracy: 0.7103\n",
            "Epoch 62/2000\n",
            " - 6s - loss: 0.0769 - categorical_accuracy: 0.7084\n",
            "Epoch 63/2000\n",
            " - 6s - loss: 0.0770 - categorical_accuracy: 0.7091\n",
            "Epoch 64/2000\n",
            " - 6s - loss: 0.0768 - categorical_accuracy: 0.7079\n",
            "Epoch 65/2000\n",
            " - 6s - loss: 0.0766 - categorical_accuracy: 0.7139\n",
            "Epoch 66/2000\n",
            " - 6s - loss: 0.0766 - categorical_accuracy: 0.7122\n",
            "Epoch 67/2000\n",
            " - 6s - loss: 0.0766 - categorical_accuracy: 0.7114\n",
            "Epoch 68/2000\n",
            " - 6s - loss: 0.0766 - categorical_accuracy: 0.7100\n",
            "Epoch 69/2000\n",
            " - 6s - loss: 0.0765 - categorical_accuracy: 0.7116\n",
            "Epoch 70/2000\n",
            " - 6s - loss: 0.0763 - categorical_accuracy: 0.7130\n",
            "Epoch 71/2000\n",
            " - 6s - loss: 0.0764 - categorical_accuracy: 0.7140\n",
            "Epoch 72/2000\n",
            " - 6s - loss: 0.0762 - categorical_accuracy: 0.7147\n",
            "Epoch 73/2000\n",
            " - 6s - loss: 0.0762 - categorical_accuracy: 0.7173\n",
            "Epoch 74/2000\n",
            " - 6s - loss: 0.0763 - categorical_accuracy: 0.7125\n",
            "Epoch 75/2000\n",
            " - 6s - loss: 0.0760 - categorical_accuracy: 0.7151\n",
            "Epoch 76/2000\n",
            " - 6s - loss: 0.0762 - categorical_accuracy: 0.7130\n",
            "Epoch 77/2000\n",
            " - 6s - loss: 0.0759 - categorical_accuracy: 0.7154\n",
            "Epoch 78/2000\n",
            " - 6s - loss: 0.0760 - categorical_accuracy: 0.7161\n",
            "Epoch 79/2000\n",
            " - 6s - loss: 0.0760 - categorical_accuracy: 0.7158\n",
            "Epoch 80/2000\n",
            " - 6s - loss: 0.0758 - categorical_accuracy: 0.7182\n",
            "Epoch 81/2000\n",
            " - 6s - loss: 0.0759 - categorical_accuracy: 0.7147\n",
            "Epoch 82/2000\n",
            " - 6s - loss: 0.0758 - categorical_accuracy: 0.7183\n",
            "Epoch 83/2000\n",
            " - 6s - loss: 0.0756 - categorical_accuracy: 0.7192\n",
            "Epoch 84/2000\n",
            " - 6s - loss: 0.0757 - categorical_accuracy: 0.7165\n",
            "Epoch 85/2000\n",
            " - 6s - loss: 0.0755 - categorical_accuracy: 0.7178\n",
            "Epoch 86/2000\n",
            " - 6s - loss: 0.0755 - categorical_accuracy: 0.7168\n",
            "Epoch 87/2000\n",
            " - 6s - loss: 0.0755 - categorical_accuracy: 0.7151\n",
            "Epoch 88/2000\n",
            " - 6s - loss: 0.0754 - categorical_accuracy: 0.7187\n",
            "Epoch 89/2000\n",
            " - 6s - loss: 0.0753 - categorical_accuracy: 0.7186\n",
            "Epoch 90/2000\n",
            " - 6s - loss: 0.0752 - categorical_accuracy: 0.7164\n",
            "Epoch 91/2000\n",
            " - 6s - loss: 0.0752 - categorical_accuracy: 0.7172\n",
            "Epoch 92/2000\n",
            " - 6s - loss: 0.0751 - categorical_accuracy: 0.7168\n",
            "Epoch 93/2000\n",
            " - 6s - loss: 0.0751 - categorical_accuracy: 0.7194\n",
            "Epoch 94/2000\n",
            " - 6s - loss: 0.0751 - categorical_accuracy: 0.7175\n",
            "Epoch 95/2000\n",
            " - 6s - loss: 0.0750 - categorical_accuracy: 0.7210\n",
            "Epoch 96/2000\n",
            " - 6s - loss: 0.0751 - categorical_accuracy: 0.7212\n",
            "Epoch 97/2000\n",
            " - 6s - loss: 0.0749 - categorical_accuracy: 0.7188\n",
            "Epoch 98/2000\n",
            " - 6s - loss: 0.0749 - categorical_accuracy: 0.7178\n",
            "Epoch 99/2000\n",
            " - 6s - loss: 0.0747 - categorical_accuracy: 0.7220\n",
            "Epoch 100/2000\n",
            " - 6s - loss: 0.0747 - categorical_accuracy: 0.7183\n",
            "Epoch 101/2000\n",
            " - 6s - loss: 0.0746 - categorical_accuracy: 0.7199\n",
            "Epoch 102/2000\n",
            " - 6s - loss: 0.0745 - categorical_accuracy: 0.7196\n",
            "Epoch 103/2000\n",
            " - 6s - loss: 0.0746 - categorical_accuracy: 0.7208\n",
            "Epoch 104/2000\n",
            " - 6s - loss: 0.0746 - categorical_accuracy: 0.7211\n",
            "Epoch 105/2000\n",
            " - 6s - loss: 0.0745 - categorical_accuracy: 0.7217\n",
            "Epoch 106/2000\n",
            " - 6s - loss: 0.0743 - categorical_accuracy: 0.7202\n",
            "Epoch 107/2000\n",
            " - 6s - loss: 0.0744 - categorical_accuracy: 0.7230\n",
            "Epoch 108/2000\n",
            " - 6s - loss: 0.0745 - categorical_accuracy: 0.7229\n",
            "Epoch 109/2000\n",
            " - 6s - loss: 0.0743 - categorical_accuracy: 0.7212\n",
            "Epoch 110/2000\n",
            " - 6s - loss: 0.0742 - categorical_accuracy: 0.7239\n",
            "Epoch 111/2000\n",
            " - 6s - loss: 0.0740 - categorical_accuracy: 0.7236\n",
            "Epoch 112/2000\n",
            " - 6s - loss: 0.0740 - categorical_accuracy: 0.7213\n",
            "Epoch 113/2000\n",
            " - 6s - loss: 0.0741 - categorical_accuracy: 0.7240\n",
            "Epoch 114/2000\n",
            " - 6s - loss: 0.0741 - categorical_accuracy: 0.7207\n",
            "Epoch 115/2000\n",
            " - 6s - loss: 0.0739 - categorical_accuracy: 0.7264\n",
            "Epoch 116/2000\n",
            " - 6s - loss: 0.0738 - categorical_accuracy: 0.7262\n",
            "Epoch 117/2000\n",
            " - 6s - loss: 0.0739 - categorical_accuracy: 0.7248\n",
            "Epoch 118/2000\n",
            " - 6s - loss: 0.0737 - categorical_accuracy: 0.7253\n",
            "Epoch 119/2000\n",
            " - 6s - loss: 0.0737 - categorical_accuracy: 0.7260\n",
            "Epoch 120/2000\n",
            " - 6s - loss: 0.0737 - categorical_accuracy: 0.7250\n",
            "Epoch 121/2000\n",
            " - 6s - loss: 0.0735 - categorical_accuracy: 0.7267\n",
            "Epoch 122/2000\n",
            " - 6s - loss: 0.0735 - categorical_accuracy: 0.7254\n",
            "Epoch 123/2000\n",
            " - 6s - loss: 0.0735 - categorical_accuracy: 0.7258\n",
            "Epoch 124/2000\n",
            " - 6s - loss: 0.0735 - categorical_accuracy: 0.7229\n",
            "Epoch 125/2000\n",
            " - 6s - loss: 0.0735 - categorical_accuracy: 0.7264\n",
            "Epoch 126/2000\n",
            " - 6s - loss: 0.0734 - categorical_accuracy: 0.7262\n",
            "Epoch 127/2000\n",
            " - 6s - loss: 0.0732 - categorical_accuracy: 0.7269\n",
            "Epoch 128/2000\n",
            " - 6s - loss: 0.0733 - categorical_accuracy: 0.7266\n",
            "Epoch 129/2000\n",
            " - 6s - loss: 0.0731 - categorical_accuracy: 0.7277\n",
            "Epoch 130/2000\n",
            " - 6s - loss: 0.0731 - categorical_accuracy: 0.7259\n",
            "Epoch 131/2000\n",
            " - 6s - loss: 0.0731 - categorical_accuracy: 0.7296\n",
            "Epoch 132/2000\n"
          ],
          "output_type": "stream"
        },
        {
          "traceback": [
            "\u001b[0;31m---------------------------------------------------------------------------\u001b[0m",
            "\u001b[0;31mKeyboardInterrupt\u001b[0m                         Traceback (most recent call last)",
            "\u001b[0;32m\u003cipython-input-20-9c2966ab54d7\u003e\u001b[0m in \u001b[0;36m\u003cmodule\u003e\u001b[0;34m\u001b[0m\n\u001b[1;32m      1\u001b[0m \u001b[0;31m# fit model\u001b[0m\u001b[0;34m\u001b[0m\u001b[0;34m\u001b[0m\u001b[0;34m\u001b[0m\u001b[0m\n\u001b[0;32m----\u003e 2\u001b[0;31m \u001b[0mmodel\u001b[0m\u001b[0;34m.\u001b[0m\u001b[0mfit\u001b[0m\u001b[0;34m(\u001b[0m\u001b[0mX_train\u001b[0m\u001b[0;34m,\u001b[0m \u001b[0my_train\u001b[0m\u001b[0;34m,\u001b[0m \u001b[0mepochs\u001b[0m\u001b[0;34m\u003d\u001b[0m\u001b[0;36m2000\u001b[0m\u001b[0;34m,\u001b[0m \u001b[0mverbose\u001b[0m\u001b[0;34m\u003d\u001b[0m\u001b[0;36m2\u001b[0m\u001b[0;34m)\u001b[0m\u001b[0;34m\u001b[0m\u001b[0;34m\u001b[0m\u001b[0m\n\u001b[0m",
            "\u001b[0;32m~/anaconda3/envs/chili/lib/python3.7/site-packages/keras/engine/training.py\u001b[0m in \u001b[0;36mfit\u001b[0;34m(self, x, y, batch_size, epochs, verbose, callbacks, validation_split, validation_data, shuffle, class_weight, sample_weight, initial_epoch, steps_per_epoch, validation_steps, **kwargs)\u001b[0m\n\u001b[1;32m   1037\u001b[0m                                         \u001b[0minitial_epoch\u001b[0m\u001b[0;34m\u003d\u001b[0m\u001b[0minitial_epoch\u001b[0m\u001b[0;34m,\u001b[0m\u001b[0;34m\u001b[0m\u001b[0;34m\u001b[0m\u001b[0m\n\u001b[1;32m   1038\u001b[0m                                         \u001b[0msteps_per_epoch\u001b[0m\u001b[0;34m\u003d\u001b[0m\u001b[0msteps_per_epoch\u001b[0m\u001b[0;34m,\u001b[0m\u001b[0;34m\u001b[0m\u001b[0;34m\u001b[0m\u001b[0m\n\u001b[0;32m-\u003e 1039\u001b[0;31m                                         validation_steps\u003dvalidation_steps)\n\u001b[0m\u001b[1;32m   1040\u001b[0m \u001b[0;34m\u001b[0m\u001b[0m\n\u001b[1;32m   1041\u001b[0m     def evaluate(self, x\u003dNone, y\u003dNone,\n",
            "\u001b[0;32m~/anaconda3/envs/chili/lib/python3.7/site-packages/keras/engine/training_arrays.py\u001b[0m in \u001b[0;36mfit_loop\u001b[0;34m(model, f, ins, out_labels, batch_size, epochs, verbose, callbacks, val_f, val_ins, shuffle, callback_metrics, initial_epoch, steps_per_epoch, validation_steps)\u001b[0m\n\u001b[1;32m    197\u001b[0m                     \u001b[0mins_batch\u001b[0m\u001b[0;34m[\u001b[0m\u001b[0mi\u001b[0m\u001b[0;34m]\u001b[0m \u001b[0;34m\u003d\u001b[0m \u001b[0mins_batch\u001b[0m\u001b[0;34m[\u001b[0m\u001b[0mi\u001b[0m\u001b[0;34m]\u001b[0m\u001b[0;34m.\u001b[0m\u001b[0mtoarray\u001b[0m\u001b[0;34m(\u001b[0m\u001b[0;34m)\u001b[0m\u001b[0;34m\u001b[0m\u001b[0;34m\u001b[0m\u001b[0m\n\u001b[1;32m    198\u001b[0m \u001b[0;34m\u001b[0m\u001b[0m\n\u001b[0;32m--\u003e 199\u001b[0;31m                 \u001b[0mouts\u001b[0m \u001b[0;34m\u003d\u001b[0m \u001b[0mf\u001b[0m\u001b[0;34m(\u001b[0m\u001b[0mins_batch\u001b[0m\u001b[0;34m)\u001b[0m\u001b[0;34m\u001b[0m\u001b[0;34m\u001b[0m\u001b[0m\n\u001b[0m\u001b[1;32m    200\u001b[0m                 \u001b[0mouts\u001b[0m \u001b[0;34m\u003d\u001b[0m \u001b[0mto_list\u001b[0m\u001b[0;34m(\u001b[0m\u001b[0mouts\u001b[0m\u001b[0;34m)\u001b[0m\u001b[0;34m\u001b[0m\u001b[0;34m\u001b[0m\u001b[0m\n\u001b[1;32m    201\u001b[0m                 \u001b[0;32mfor\u001b[0m \u001b[0ml\u001b[0m\u001b[0;34m,\u001b[0m \u001b[0mo\u001b[0m \u001b[0;32min\u001b[0m \u001b[0mzip\u001b[0m\u001b[0;34m(\u001b[0m\u001b[0mout_labels\u001b[0m\u001b[0;34m,\u001b[0m \u001b[0mouts\u001b[0m\u001b[0;34m)\u001b[0m\u001b[0;34m:\u001b[0m\u001b[0;34m\u001b[0m\u001b[0;34m\u001b[0m\u001b[0m\n",
            "\u001b[0;32m~/anaconda3/envs/chili/lib/python3.7/site-packages/keras/backend/tensorflow_backend.py\u001b[0m in \u001b[0;36m__call__\u001b[0;34m(self, inputs)\u001b[0m\n\u001b[1;32m   2713\u001b[0m                 \u001b[0;32mreturn\u001b[0m \u001b[0mself\u001b[0m\u001b[0;34m.\u001b[0m\u001b[0m_legacy_call\u001b[0m\u001b[0;34m(\u001b[0m\u001b[0minputs\u001b[0m\u001b[0;34m)\u001b[0m\u001b[0;34m\u001b[0m\u001b[0;34m\u001b[0m\u001b[0m\n\u001b[1;32m   2714\u001b[0m \u001b[0;34m\u001b[0m\u001b[0m\n\u001b[0;32m-\u003e 2715\u001b[0;31m             \u001b[0;32mreturn\u001b[0m \u001b[0mself\u001b[0m\u001b[0;34m.\u001b[0m\u001b[0m_call\u001b[0m\u001b[0;34m(\u001b[0m\u001b[0minputs\u001b[0m\u001b[0;34m)\u001b[0m\u001b[0;34m\u001b[0m\u001b[0;34m\u001b[0m\u001b[0m\n\u001b[0m\u001b[1;32m   2716\u001b[0m         \u001b[0;32melse\u001b[0m\u001b[0;34m:\u001b[0m\u001b[0;34m\u001b[0m\u001b[0;34m\u001b[0m\u001b[0m\n\u001b[1;32m   2717\u001b[0m             \u001b[0;32mif\u001b[0m \u001b[0mpy_any\u001b[0m\u001b[0;34m(\u001b[0m\u001b[0mis_tensor\u001b[0m\u001b[0;34m(\u001b[0m\u001b[0mx\u001b[0m\u001b[0;34m)\u001b[0m \u001b[0;32mfor\u001b[0m \u001b[0mx\u001b[0m \u001b[0;32min\u001b[0m \u001b[0minputs\u001b[0m\u001b[0;34m)\u001b[0m\u001b[0;34m:\u001b[0m\u001b[0;34m\u001b[0m\u001b[0;34m\u001b[0m\u001b[0m\n",
            "\u001b[0;32m~/anaconda3/envs/chili/lib/python3.7/site-packages/keras/backend/tensorflow_backend.py\u001b[0m in \u001b[0;36m_call\u001b[0;34m(self, inputs)\u001b[0m\n\u001b[1;32m   2673\u001b[0m             \u001b[0mfetched\u001b[0m \u001b[0;34m\u003d\u001b[0m \u001b[0mself\u001b[0m\u001b[0;34m.\u001b[0m\u001b[0m_callable_fn\u001b[0m\u001b[0;34m(\u001b[0m\u001b[0;34m*\u001b[0m\u001b[0marray_vals\u001b[0m\u001b[0;34m,\u001b[0m \u001b[0mrun_metadata\u001b[0m\u001b[0;34m\u003d\u001b[0m\u001b[0mself\u001b[0m\u001b[0;34m.\u001b[0m\u001b[0mrun_metadata\u001b[0m\u001b[0;34m)\u001b[0m\u001b[0;34m\u001b[0m\u001b[0;34m\u001b[0m\u001b[0m\n\u001b[1;32m   2674\u001b[0m         \u001b[0;32melse\u001b[0m\u001b[0;34m:\u001b[0m\u001b[0;34m\u001b[0m\u001b[0;34m\u001b[0m\u001b[0m\n\u001b[0;32m-\u003e 2675\u001b[0;31m             \u001b[0mfetched\u001b[0m \u001b[0;34m\u003d\u001b[0m \u001b[0mself\u001b[0m\u001b[0;34m.\u001b[0m\u001b[0m_callable_fn\u001b[0m\u001b[0;34m(\u001b[0m\u001b[0;34m*\u001b[0m\u001b[0marray_vals\u001b[0m\u001b[0;34m)\u001b[0m\u001b[0;34m\u001b[0m\u001b[0;34m\u001b[0m\u001b[0m\n\u001b[0m\u001b[1;32m   2676\u001b[0m         \u001b[0;32mreturn\u001b[0m \u001b[0mfetched\u001b[0m\u001b[0;34m[\u001b[0m\u001b[0;34m:\u001b[0m\u001b[0mlen\u001b[0m\u001b[0;34m(\u001b[0m\u001b[0mself\u001b[0m\u001b[0;34m.\u001b[0m\u001b[0moutputs\u001b[0m\u001b[0;34m)\u001b[0m\u001b[0;34m]\u001b[0m\u001b[0;34m\u001b[0m\u001b[0;34m\u001b[0m\u001b[0m\n\u001b[1;32m   2677\u001b[0m \u001b[0;34m\u001b[0m\u001b[0m\n",
            "\u001b[0;32m~/anaconda3/envs/chili/lib/python3.7/site-packages/tensorflow/python/client/session.py\u001b[0m in \u001b[0;36m__call__\u001b[0;34m(self, *args, **kwargs)\u001b[0m\n\u001b[1;32m   1456\u001b[0m         ret \u003d tf_session.TF_SessionRunCallable(self._session._session,\n\u001b[1;32m   1457\u001b[0m                                                \u001b[0mself\u001b[0m\u001b[0;34m.\u001b[0m\u001b[0m_handle\u001b[0m\u001b[0;34m,\u001b[0m \u001b[0margs\u001b[0m\u001b[0;34m,\u001b[0m\u001b[0;34m\u001b[0m\u001b[0;34m\u001b[0m\u001b[0m\n\u001b[0;32m-\u003e 1458\u001b[0;31m                                                run_metadata_ptr)\n\u001b[0m\u001b[1;32m   1459\u001b[0m         \u001b[0;32mif\u001b[0m \u001b[0mrun_metadata\u001b[0m\u001b[0;34m:\u001b[0m\u001b[0;34m\u001b[0m\u001b[0;34m\u001b[0m\u001b[0m\n\u001b[1;32m   1460\u001b[0m           \u001b[0mproto_data\u001b[0m \u001b[0;34m\u003d\u001b[0m \u001b[0mtf_session\u001b[0m\u001b[0;34m.\u001b[0m\u001b[0mTF_GetBuffer\u001b[0m\u001b[0;34m(\u001b[0m\u001b[0mrun_metadata_ptr\u001b[0m\u001b[0;34m)\u001b[0m\u001b[0;34m\u001b[0m\u001b[0;34m\u001b[0m\u001b[0m\n",
            "\u001b[0;31mKeyboardInterrupt\u001b[0m: "
          ],
          "ename": "KeyboardInterrupt",
          "evalue": "",
          "output_type": "error"
        }
      ],
      "source": "# fit model\nmodel.fit(X_train, y_train, epochs\u003d2000, verbose\u003d2)",
      "metadata": {
        "pycharm": {
          "metadata": false,
          "name": "#%%\n",
          "is_executing": false
        }
      }
    },
    {
      "cell_type": "markdown",
      "source": "### Validation",
      "metadata": {
        "pycharm": {
          "metadata": false
        }
      }
    },
    {
      "cell_type": "code",
      "execution_count": 21,
      "outputs": [
        {
          "name": "stdout",
          "text": [
            "Accuracy: 67.50%\n[[0. 0. 0. ... 0. 0. 0.]\n [0. 0. 0. ... 0. 0. 0.]\n [0. 0. 0. ... 0. 0. 0.]\n ...\n [0. 0. 0. ... 0. 0. 0.]\n [0. 0. 0. ... 0. 0. 0.]\n [0. 0. 0. ... 0. 0. 0.]]\n",
            "[[-0.00471716 -0.01325767  0.75184214  0.05306095  0.21572547]]\n[[[0. 0. 0. ... 0. 0. 0.]\n  [0. 0. 0. ... 0. 0. 0.]\n  [0. 0. 0. ... 0. 0. 0.]\n  ...\n  [0. 0. 0. ... 0. 0. 0.]\n  [0. 0. 0. ... 0. 0. 0.]\n  [0. 0. 0. ... 0. 0. 0.]]]\n[0. 0. 1. 0. 0.]\n"
          ],
          "output_type": "stream"
        }
      ],
      "source": "scores \u003d model.evaluate(X_test, y_test, verbose\u003d0)\nprint(\"Accuracy: %.2f%%\" % (scores[1]*100))\n\nprint(X_test[0])\nprint(model.predict(np.array([X_test[0]])))\nprint(np.array([X_test[1]]))\nprint(y_test[0])\n\n",
      "metadata": {
        "pycharm": {
          "metadata": false,
          "name": "#%%\n",
          "is_executing": false
        }
      }
    }
  ],
  "metadata": {
    "language_info": {
      "codemirror_mode": {
        "name": "ipython",
        "version": 2
      },
      "file_extension": ".py",
      "mimetype": "text/x-python",
      "name": "python",
      "nbconvert_exporter": "python",
      "pygments_lexer": "ipython2",
      "version": "2.7.6"
    },
    "kernelspec": {
      "name": "python3",
      "language": "python",
      "display_name": "Python 3"
    },
    "stem_cell": {
      "cell_type": "raw",
      "source": "",
      "metadata": {
        "pycharm": {
          "metadata": false
        }
      }
    }
  },
  "nbformat": 4,
  "nbformat_minor": 0
}