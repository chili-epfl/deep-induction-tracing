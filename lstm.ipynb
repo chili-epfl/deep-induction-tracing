{
  "cells": [
    {
      "cell_type": "code",
      "execution_count": 27,
      "outputs": [],
      "source": "import pandas as pd\nimport numpy as np\nfrom keras import Sequential\nfrom keras.layers import LSTM, Dense\nfrom keras.utils import np_utils\nfrom sklearn.model_selection import train_test_split",
      "metadata": {
        "pycharm": {
          "metadata": false,
          "name": "#%%\n",
          "is_executing": false
        }
      }
    },
    {
      "cell_type": "markdown",
      "source": "## Data preparation",
      "metadata": {
        "pycharm": {
          "metadata": false
        }
      }
    },
    {
      "cell_type": "code",
      "execution_count": 28,
      "metadata": {
        "collapsed": true,
        "pycharm": {
          "is_executing": false
        }
      },
      "outputs": [],
      "source": "\ndata \u003d pd.read_csv(\u0027induce-data-2019-08-08.csv\u0027).iloc[:200, :]\nvocab \u003d [\u0027C_E_F_T\u0027,\n         \u0027C_E_F_C\u0027,\n         \u0027C_E_F_O\u0027,\n         \u0027A_E_F_T\u0027,\n         \u0027A_E_F_O\u0027,\n         \u0027A_E_F_C\u0027,\n         \u0027G_E_F_C\u0027,\n         \u0027G_E_F_T\u0027,\n         \u0027G_E_F_O\u0027,\n         \u0027A_E_M_T\u0027,\n         \u0027A_E_M_O\u0027,\n         \u0027A_E_M_C\u0027,\n         \u0027G_E_M_O\u0027,\n         \u0027G_E_M_C\u0027,\n         \u0027G_E_M_T\u0027,\n         \u0027C_E_M_O\u0027,\n         \u0027C_E_M_C\u0027,\n         \u0027C_E_M_T\u0027,\n         \u0027C_H_F_CO\u0027,\n         \u0027C_H_F_CT\u0027,\n         \u0027C_H_F_OT\u0027,\n         \u0027G_H_F_OT\u0027,\n         \u0027G_H_F_CO\u0027,\n         \u0027G_H_F_CT\u0027,\n         \u0027A_H_F_CT\u0027,\n         \u0027A_H_F_OT\u0027,\n         \u0027A_H_F_CO\u0027,\n         \u0027C_H_M_CO\u0027,\n         \u0027C_H_M_CT\u0027,\n         \u0027C_H_M_OT\u0027,\n         \u0027A_H_M_CT\u0027,\n         \u0027A_H_M_OT\u0027,\n         \u0027A_H_M_CO\u0027,\n         \u0027G_H_M_OT\u0027,\n         \u0027G_H_M_CO\u0027,\n         \u0027G_H_M_CT\u0027, ]\nlabels \u003d [\u0027correct\u0027,\n          \u0027wrong\u0027,\n          \u0027type\u0027,\n          \u0027orientation\u0027,\n          \u0027color\u0027]\ndef seq_to_int(qts, asw, vocab, labels):\n    integ \u003d list()\n    for i,x in enumerate(qts):\n        features \u003d list()\n        features.append(vocab.index(x))\n        features.append(labels.index(asw.iloc[i]))\n        integ.append(features)\n    return integ\ndef split_sequence(sequence, n_steps, vocab, labels):\n    X, Y \u003d list(), list()\n    for i in range(len(sequence)):\n        end_idx \u003d i + n_steps\n        if end_idx \u003e len(sequence)-1:\n            break\n        x \u003d seq_to_int(sequence.iloc[i:end_idx, 4], sequence.iloc[i:end_idx, 5], vocab, labels)\n        y \u003d labels.index(str(sequence.iloc[end_idx, 5]))\n        X.append(x)\n        Y.append(y)\n    return np.array(X), np.array(Y)\n\n"
    },
    {
      "cell_type": "markdown",
      "source": "### Test split_sequence\n",
      "metadata": {
        "pycharm": {
          "metadata": false
        }
      }
    },
    {
      "cell_type": "code",
      "execution_count": 3,
      "outputs": [
        {
          "name": "stdout",
          "text": [
            "(array([[[0, 0],\n        [1, 0],\n        [2, 0],\n        [3, 0],\n        [4, 0]],\n\n       [[1, 0],\n        [2, 0],\n        [3, 0],\n        [4, 0],\n        [5, 1]],\n\n       [[2, 0],\n        [3, 0],\n        [4, 0],\n        [5, 1],\n        [6, 0]],\n\n       [[3, 0],\n        [4, 0],\n        [5, 1],\n        [6, 0],\n        [7, 0]],\n\n       [[4, 0],\n        [5, 1],\n        [6, 0],\n        [7, 0],\n        [8, 0]]]), array([1, 0, 0, 0, 0]))\n"
          ],
          "output_type": "stream"
        }
      ],
      "source": "print(split_sequence(data.iloc[:10, :], 5, vocab, labels))\n",
      "metadata": {
        "pycharm": {
          "metadata": false,
          "name": "#%%\n",
          "is_executing": false
        }
      }
    },
    {
      "cell_type": "markdown",
      "source": "## The model\n",
      "metadata": {
        "pycharm": {
          "metadata": false
        }
      }
    },
    {
      "cell_type": "code",
      "execution_count": 36,
      "outputs": [],
      "source": "n_features \u003d 2\nn_steps \u003d 5\nX, y \u003d split_sequence(data.iloc[:, :], n_steps, vocab, labels)\ny \u003d np_utils.to_categorical(y)\nX_train, X_test, y_train, y_test \u003d train_test_split(X, y, test_size\u003d0.33, random_state\u003d42)\nX \u003d X.reshape((X.shape[0], X.shape[1], n_features))\nmodel \u003d Sequential()\nmodel.add(LSTM(50, activation\u003d\u0027relu\u0027, input_shape\u003d(n_steps, n_features)))\nmodel.add(Dense(5))\nmodel.compile(optimizer\u003d\u0027adam\u0027, loss\u003d\u0027mse\u0027, metrics\u003d[\u0027accuracy\u0027])",
      "metadata": {
        "pycharm": {
          "metadata": false,
          "name": "#%%\n",
          "is_executing": false
        }
      }
    },
    {
      "cell_type": "code",
      "execution_count": 37,
      "outputs": [
        {
          "data": {
            "text/plain": "\u003ckeras.callbacks.callbacks.History at 0x1a35ee2b90\u003e"
          },
          "metadata": {},
          "output_type": "execute_result",
          "execution_count": 37
        }
      ],
      "source": "# fit model\nmodel.fit(X_train, y_train, epochs\u003d200, verbose\u003d0)",
      "metadata": {
        "pycharm": {
          "metadata": false,
          "name": "#%%\n",
          "is_executing": false
        }
      }
    },
    {
      "cell_type": "code",
      "execution_count": 38,
      "outputs": [
        {
          "name": "stdout",
          "text": [
            "Accuracy: 47.69%\n"
          ],
          "output_type": "stream"
        }
      ],
      "source": "scores \u003d model.evaluate(X_test, y_test, verbose\u003d0)\nprint(\"Accuracy: %.2f%%\" % (scores[1]*100))\n",
      "metadata": {
        "pycharm": {
          "metadata": false,
          "name": "#%%\n",
          "is_executing": false
        }
      }
    }
  ],
  "metadata": {
    "language_info": {
      "codemirror_mode": {
        "name": "ipython",
        "version": 2
      },
      "file_extension": ".py",
      "mimetype": "text/x-python",
      "name": "python",
      "nbconvert_exporter": "python",
      "pygments_lexer": "ipython2",
      "version": "2.7.6"
    },
    "kernelspec": {
      "name": "python3",
      "language": "python",
      "display_name": "Python 3"
    },
    "stem_cell": {
      "cell_type": "raw",
      "source": "",
      "metadata": {
        "pycharm": {
          "metadata": false
        }
      }
    }
  },
  "nbformat": 4,
  "nbformat_minor": 0
}