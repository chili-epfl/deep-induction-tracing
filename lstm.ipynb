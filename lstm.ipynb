{
  "cells": [
    {
      "cell_type": "code",
      "execution_count": 1,
      "outputs": [
        {
          "name": "stderr",
          "text": [
            "Using TensorFlow backend.\n",
            "/Users/ambroiserenaud/anaconda3/envs/chili/lib/python3.7/site-packages/tensorflow/python/framework/dtypes.py:516: FutureWarning: Passing (type, 1) or \u00271type\u0027 as a synonym of type is deprecated; in a future version of numpy, it will be understood as (type, (1,)) / \u0027(1,)type\u0027.\n  _np_qint8 \u003d np.dtype([(\"qint8\", np.int8, 1)])\n/Users/ambroiserenaud/anaconda3/envs/chili/lib/python3.7/site-packages/tensorflow/python/framework/dtypes.py:517: FutureWarning: Passing (type, 1) or \u00271type\u0027 as a synonym of type is deprecated; in a future version of numpy, it will be understood as (type, (1,)) / \u0027(1,)type\u0027.\n  _np_quint8 \u003d np.dtype([(\"quint8\", np.uint8, 1)])\n/Users/ambroiserenaud/anaconda3/envs/chili/lib/python3.7/site-packages/tensorflow/python/framework/dtypes.py:518: FutureWarning: Passing (type, 1) or \u00271type\u0027 as a synonym of type is deprecated; in a future version of numpy, it will be understood as (type, (1,)) / \u0027(1,)type\u0027.\n  _np_qint16 \u003d np.dtype([(\"qint16\", np.int16, 1)])\n/Users/ambroiserenaud/anaconda3/envs/chili/lib/python3.7/site-packages/tensorflow/python/framework/dtypes.py:519: FutureWarning: Passing (type, 1) or \u00271type\u0027 as a synonym of type is deprecated; in a future version of numpy, it will be understood as (type, (1,)) / \u0027(1,)type\u0027.\n  _np_quint16 \u003d np.dtype([(\"quint16\", np.uint16, 1)])\n/Users/ambroiserenaud/anaconda3/envs/chili/lib/python3.7/site-packages/tensorflow/python/framework/dtypes.py:520: FutureWarning: Passing (type, 1) or \u00271type\u0027 as a synonym of type is deprecated; in a future version of numpy, it will be understood as (type, (1,)) / \u0027(1,)type\u0027.\n  _np_qint32 \u003d np.dtype([(\"qint32\", np.int32, 1)])\n/Users/ambroiserenaud/anaconda3/envs/chili/lib/python3.7/site-packages/tensorflow/python/framework/dtypes.py:525: FutureWarning: Passing (type, 1) or \u00271type\u0027 as a synonym of type is deprecated; in a future version of numpy, it will be understood as (type, (1,)) / \u0027(1,)type\u0027.\n  np_resource \u003d np.dtype([(\"resource\", np.ubyte, 1)])\n",
            "/Users/ambroiserenaud/anaconda3/envs/chili/lib/python3.7/site-packages/tensorboard/compat/tensorflow_stub/dtypes.py:541: FutureWarning: Passing (type, 1) or \u00271type\u0027 as a synonym of type is deprecated; in a future version of numpy, it will be understood as (type, (1,)) / \u0027(1,)type\u0027.\n  _np_qint8 \u003d np.dtype([(\"qint8\", np.int8, 1)])\n/Users/ambroiserenaud/anaconda3/envs/chili/lib/python3.7/site-packages/tensorboard/compat/tensorflow_stub/dtypes.py:542: FutureWarning: Passing (type, 1) or \u00271type\u0027 as a synonym of type is deprecated; in a future version of numpy, it will be understood as (type, (1,)) / \u0027(1,)type\u0027.\n  _np_quint8 \u003d np.dtype([(\"quint8\", np.uint8, 1)])\n/Users/ambroiserenaud/anaconda3/envs/chili/lib/python3.7/site-packages/tensorboard/compat/tensorflow_stub/dtypes.py:543: FutureWarning: Passing (type, 1) or \u00271type\u0027 as a synonym of type is deprecated; in a future version of numpy, it will be understood as (type, (1,)) / \u0027(1,)type\u0027.\n  _np_qint16 \u003d np.dtype([(\"qint16\", np.int16, 1)])\n/Users/ambroiserenaud/anaconda3/envs/chili/lib/python3.7/site-packages/tensorboard/compat/tensorflow_stub/dtypes.py:544: FutureWarning: Passing (type, 1) or \u00271type\u0027 as a synonym of type is deprecated; in a future version of numpy, it will be understood as (type, (1,)) / \u0027(1,)type\u0027.\n  _np_quint16 \u003d np.dtype([(\"quint16\", np.uint16, 1)])\n/Users/ambroiserenaud/anaconda3/envs/chili/lib/python3.7/site-packages/tensorboard/compat/tensorflow_stub/dtypes.py:545: FutureWarning: Passing (type, 1) or \u00271type\u0027 as a synonym of type is deprecated; in a future version of numpy, it will be understood as (type, (1,)) / \u0027(1,)type\u0027.\n  _np_qint32 \u003d np.dtype([(\"qint32\", np.int32, 1)])\n/Users/ambroiserenaud/anaconda3/envs/chili/lib/python3.7/site-packages/tensorboard/compat/tensorflow_stub/dtypes.py:550: FutureWarning: Passing (type, 1) or \u00271type\u0027 as a synonym of type is deprecated; in a future version of numpy, it will be understood as (type, (1,)) / \u0027(1,)type\u0027.\n  np_resource \u003d np.dtype([(\"resource\", np.ubyte, 1)])\n"
          ],
          "output_type": "stream"
        }
      ],
      "source": "import pandas as pd\nimport numpy as np\nfrom keras import Sequential\nfrom keras.layers import LSTM, Dense\nfrom keras.utils import np_utils\nfrom sklearn.model_selection import train_test_split",
      "metadata": {
        "pycharm": {
          "metadata": false,
          "name": "#%%\n",
          "is_executing": false
        }
      }
    },
    {
      "cell_type": "markdown",
      "source": "## Data preparation",
      "metadata": {
        "pycharm": {
          "metadata": false
        }
      }
    },
    {
      "cell_type": "code",
      "execution_count": 51,
      "metadata": {
        "collapsed": true,
        "pycharm": {
          "is_executing": false
        }
      },
      "outputs": [],
      "source": "\ndata \u003d pd.read_csv(\u0027induce-data-2019-08-08.csv\u0027).iloc[:, :]\nvocab \u003d [\u0027C_E_F_T\u0027,\n         \u0027C_E_F_C\u0027,\n         \u0027C_E_F_O\u0027,\n         \u0027A_E_F_T\u0027,\n         \u0027A_E_F_O\u0027,\n         \u0027A_E_F_C\u0027,\n         \u0027G_E_F_C\u0027,\n         \u0027G_E_F_T\u0027,\n         \u0027G_E_F_O\u0027,\n         \u0027A_E_M_T\u0027,\n         \u0027A_E_M_O\u0027,\n         \u0027A_E_M_C\u0027,\n         \u0027G_E_M_O\u0027,\n         \u0027G_E_M_C\u0027,\n         \u0027G_E_M_T\u0027,\n         \u0027C_E_M_O\u0027,\n         \u0027C_E_M_C\u0027,\n         \u0027C_E_M_T\u0027,\n         \u0027C_H_F_CO\u0027,\n         \u0027C_H_F_CT\u0027,\n         \u0027C_H_F_OT\u0027,\n         \u0027G_H_F_OT\u0027,\n         \u0027G_H_F_CO\u0027,\n         \u0027G_H_F_CT\u0027,\n         \u0027A_H_F_CT\u0027,\n         \u0027A_H_F_OT\u0027,\n         \u0027A_H_F_CO\u0027,\n         \u0027C_H_M_CO\u0027,\n         \u0027C_H_M_CT\u0027,\n         \u0027C_H_M_OT\u0027,\n         \u0027A_H_M_CT\u0027,\n         \u0027A_H_M_OT\u0027,\n         \u0027A_H_M_CO\u0027,\n         \u0027G_H_M_OT\u0027,\n         \u0027G_H_M_CO\u0027,\n         \u0027G_H_M_CT\u0027, ]\nlabels \u003d [\u0027correct\u0027,\n          \u0027wrong\u0027,\n          \u0027type\u0027,\n          \u0027orientation\u0027,\n          \u0027color\u0027]\n\ntypes \u003d [\u0027INTRO\u0027,\n         \u0027CORE\u0027,\n         \u0027FLEX\u0027,\n         \u0027TRIK\u0027,\n         \u0027DELY\u0027\n]\n\nfeat \u003d [\u0027type\u0027,\n        \u0027color\u0027,\n        \u0027orientation\u0027,\n        \u0027dual\u0027\n]\n\ndef seq_to_int(qts,vocab, labels, types, feat):\n    integ \u003d list()\n    for i,x in enumerate(qts):\n        features \u003d list()\n        features.append(vocab.index(qts[i, 4]))\n        features.append(labels.index(qts[i, 5]))\n        features.append(qts[i, 2])\n        features.append(types.index(qts[i, 9]))\n        features.append(feat.index(qts[i, 10]))\n        integ.append(features)\n    return integ\ndef split_sequence(data, n_steps, vocab, labels, types, feat):\n    X, Y \u003d list(), list()\n    users \u003d list(dict.fromkeys(data.loc[:, \"user\"]))\n    for u in users:\n        sequence \u003d data[data.user \u003d\u003d u]\n        for i in range(len(sequence)):\n            end_idx \u003d i + n_steps\n            if end_idx \u003e len(sequence)-1:\n                break\n            x \u003d seq_to_int(sequence.iloc[i:end_idx, :].values, vocab, labels, types, feat)\n            y \u003d labels.index(str(sequence.iloc[end_idx, 5]))\n            X.append(x)\n            Y.append(y)\n    return np.array(X), np.array(Y)\n\n"
    },
    {
      "cell_type": "markdown",
      "source": "### Test split_sequence\n",
      "metadata": {
        "pycharm": {
          "metadata": false
        }
      }
    },
    {
      "cell_type": "code",
      "execution_count": 52,
      "outputs": [
        {
          "name": "stdout",
          "text": [
            "(array([[[0, 0, 0, 0, 0],\n        [1, 0, 1, 0, 1],\n        [2, 0, 2, 0, 2],\n        [3, 0, 3, 0, 0],\n        [4, 0, 4, 0, 2]],\n\n       [[1, 0, 1, 0, 1],\n        [2, 0, 2, 0, 2],\n        [3, 0, 3, 0, 0],\n        [4, 0, 4, 0, 2],\n        [5, 1, 5, 0, 1]],\n\n       [[2, 0, 2, 0, 2],\n        [3, 0, 3, 0, 0],\n        [4, 0, 4, 0, 2],\n        [5, 1, 5, 0, 1],\n        [6, 0, 6, 0, 1]],\n\n       [[3, 0, 3, 0, 0],\n        [4, 0, 4, 0, 2],\n        [5, 1, 5, 0, 1],\n        [6, 0, 6, 0, 1],\n        [7, 0, 7, 0, 0]],\n\n       [[4, 0, 4, 0, 2],\n        [5, 1, 5, 0, 1],\n        [6, 0, 6, 0, 1],\n        [7, 0, 7, 0, 0],\n        [8, 0, 8, 0, 2]]]), array([1, 0, 0, 0, 0]))\n"
          ],
          "output_type": "stream"
        }
      ],
      "source": "print(split_sequence(data.iloc[:10, :], 5, vocab, labels, types, feat))\n",
      "metadata": {
        "pycharm": {
          "metadata": false,
          "name": "#%%\n",
          "is_executing": false
        }
      }
    },
    {
      "cell_type": "markdown",
      "source": "## The model\n",
      "metadata": {
        "pycharm": {
          "metadata": false
        }
      }
    },
    {
      "cell_type": "code",
      "execution_count": 56,
      "outputs": [
        {
          "name": "stdout",
          "text": [
            "train set size :7870\ntest set size :3877\n"
          ],
          "output_type": "stream"
        }
      ],
      "source": "n_features \u003d 5\nn_steps \u003d 10\n\n\nX, y \u003d split_sequence(data, n_steps, vocab, labels, types, feat)\ny \u003d np_utils.to_categorical(y)\nX \u003d X.reshape((X.shape[0], X.shape[1], n_features))\nX_train, X_test, y_train, y_test \u003d train_test_split(X, y, test_size\u003d0.33, random_state\u003d42)\nprint(\u0027train set size: \u0027+str(len(y_train)))\nprint(\u0027test set size: \u0027+str(len(y_test)))\n\n\nmodel \u003d Sequential()\nmodel.add(LSTM(50, activation\u003d\u0027relu\u0027, input_shape\u003d(n_steps, n_features)))\nmodel.add(Dense(5))\nmodel.compile(optimizer\u003d\u0027adam\u0027, loss\u003d\u0027mse\u0027, metrics\u003d[\u0027categorical_accuracy\u0027])",
      "metadata": {
        "pycharm": {
          "metadata": false,
          "name": "#%%\n",
          "is_executing": false
        }
      }
    },
    {
      "cell_type": "markdown",
      "source": "### Training",
      "metadata": {
        "pycharm": {
          "metadata": false
        }
      }
    },
    {
      "cell_type": "code",
      "execution_count": null,
      "outputs": [
        {
          "name": "stdout",
          "text": [
            "Epoch 1/200\n",
            " - 11s - loss: 7.6883 - categorical_accuracy: 0.3738\n",
            "Epoch 2/200\n",
            " - 6s - loss: 0.1621 - categorical_accuracy: 0.4615\n",
            "Epoch 3/200\n",
            " - 6s - loss: 0.1414 - categorical_accuracy: 0.4821\n",
            "Epoch 4/200\n",
            " - 6s - loss: 0.1346 - categorical_accuracy: 0.4936\n",
            "Epoch 5/200\n",
            " - 6s - loss: 0.1288 - categorical_accuracy: 0.5022\n",
            "Epoch 6/200\n",
            " - 6s - loss: 0.1249 - categorical_accuracy: 0.5055\n",
            "Epoch 7/200\n",
            " - 7s - loss: 0.1257 - categorical_accuracy: 0.5113\n",
            "Epoch 8/200\n",
            " - 7s - loss: 0.1231 - categorical_accuracy: 0.5158\n",
            "Epoch 9/200\n",
            " - 7s - loss: 0.1213 - categorical_accuracy: 0.5280\n",
            "Epoch 10/200\n",
            " - 7s - loss: 0.1200 - categorical_accuracy: 0.5286\n",
            "Epoch 11/200\n",
            " - 7s - loss: 0.1184 - categorical_accuracy: 0.5370\n",
            "Epoch 12/200\n",
            " - 6s - loss: 0.1177 - categorical_accuracy: 0.5384\n",
            "Epoch 13/200\n",
            " - 6s - loss: 0.1177 - categorical_accuracy: 0.5346\n",
            "Epoch 14/200\n",
            " - 7s - loss: 0.1159 - categorical_accuracy: 0.5515\n",
            "Epoch 15/200\n",
            " - 6s - loss: 0.1162 - categorical_accuracy: 0.5478\n",
            "Epoch 16/200\n",
            " - 7s - loss: 0.1158 - categorical_accuracy: 0.5508\n",
            "Epoch 17/200\n",
            " - 6s - loss: 0.1153 - categorical_accuracy: 0.5516\n",
            "Epoch 18/200\n",
            " - 7s - loss: 0.1142 - categorical_accuracy: 0.5501\n",
            "Epoch 19/200\n",
            " - 6s - loss: 0.1155 - categorical_accuracy: 0.5476\n",
            "Epoch 20/200\n",
            " - 7s - loss: 0.1128 - categorical_accuracy: 0.5560\n",
            "Epoch 21/200\n",
            " - 7s - loss: 0.1133 - categorical_accuracy: 0.5551\n",
            "Epoch 22/200\n",
            " - 6s - loss: 0.1112 - categorical_accuracy: 0.5546\n",
            "Epoch 23/200\n",
            " - 6s - loss: 0.1106 - categorical_accuracy: 0.5618\n",
            "Epoch 24/200\n",
            " - 6s - loss: 0.1099 - categorical_accuracy: 0.5626\n",
            "Epoch 25/200\n",
            " - 6s - loss: 0.1100 - categorical_accuracy: 0.5583\n",
            "Epoch 26/200\n",
            " - 6s - loss: 0.1114 - categorical_accuracy: 0.5657\n",
            "Epoch 27/200\n",
            " - 7s - loss: 0.1091 - categorical_accuracy: 0.5695\n",
            "Epoch 28/200\n",
            " - 7s - loss: 0.1078 - categorical_accuracy: 0.5645\n",
            "Epoch 29/200\n",
            " - 6s - loss: 0.1096 - categorical_accuracy: 0.5605\n",
            "Epoch 30/200\n",
            " - 7s - loss: 0.1077 - categorical_accuracy: 0.5625\n",
            "Epoch 31/200\n",
            " - 6s - loss: 0.1078 - categorical_accuracy: 0.5612\n",
            "Epoch 32/200\n",
            " - 6s - loss: 0.1099 - categorical_accuracy: 0.5663\n",
            "Epoch 33/200\n",
            " - 7s - loss: 0.1073 - categorical_accuracy: 0.5729\n",
            "Epoch 34/200\n",
            " - 8s - loss: 0.1084 - categorical_accuracy: 0.5734\n",
            "Epoch 35/200\n",
            " - 7s - loss: 0.1055 - categorical_accuracy: 0.5797\n",
            "Epoch 36/200\n",
            " - 7s - loss: 0.1054 - categorical_accuracy: 0.5737\n",
            "Epoch 37/200\n",
            " - 7s - loss: 0.1047 - categorical_accuracy: 0.5790\n",
            "Epoch 38/200\n",
            " - 7s - loss: 0.1057 - categorical_accuracy: 0.5742\n",
            "Epoch 39/200\n",
            " - 6s - loss: 0.1057 - categorical_accuracy: 0.5750\n",
            "Epoch 40/200\n",
            " - 6s - loss: 0.1046 - categorical_accuracy: 0.5789\n",
            "Epoch 41/200\n",
            " - 6s - loss: 0.1049 - categorical_accuracy: 0.5831\n",
            "Epoch 42/200\n",
            " - 6s - loss: 0.1039 - categorical_accuracy: 0.5814\n",
            "Epoch 43/200\n",
            " - 6s - loss: 0.1026 - categorical_accuracy: 0.5883\n",
            "Epoch 44/200\n",
            " - 6s - loss: 0.1028 - categorical_accuracy: 0.5836\n",
            "Epoch 45/200\n",
            " - 6s - loss: 0.1034 - categorical_accuracy: 0.5859\n",
            "Epoch 46/200\n",
            " - 7s - loss: 0.1029 - categorical_accuracy: 0.5874\n",
            "Epoch 47/200\n",
            " - 7s - loss: 0.1018 - categorical_accuracy: 0.5906\n",
            "Epoch 48/200\n",
            " - 8s - loss: 0.1014 - categorical_accuracy: 0.5900\n",
            "Epoch 49/200\n",
            " - 9s - loss: 0.1014 - categorical_accuracy: 0.5897\n",
            "Epoch 50/200\n"
          ],
          "output_type": "stream"
        }
      ],
      "source": "# fit model\nmodel.fit(X_train, y_train, epochs\u003d200, verbose\u003d2)",
      "metadata": {
        "pycharm": {
          "metadata": false,
          "name": "#%%\n",
          "is_executing": true
        }
      }
    },
    {
      "cell_type": "markdown",
      "source": "### Validation",
      "metadata": {
        "pycharm": {
          "metadata": false
        }
      }
    },
    {
      "cell_type": "code",
      "execution_count": 55,
      "outputs": [
        {
          "name": "stdout",
          "text": [
            "Accuracy: 64.53%\n"
          ],
          "output_type": "stream"
        }
      ],
      "source": "scores \u003d model.evaluate(X_test, y_test, verbose\u003d0)\nprint(\"Accuracy: %.2f%%\" % (scores[1]*100))\n\n",
      "metadata": {
        "pycharm": {
          "metadata": false,
          "name": "#%%\n",
          "is_executing": false
        }
      }
    }
  ],
  "metadata": {
    "language_info": {
      "codemirror_mode": {
        "name": "ipython",
        "version": 2
      },
      "file_extension": ".py",
      "mimetype": "text/x-python",
      "name": "python",
      "nbconvert_exporter": "python",
      "pygments_lexer": "ipython2",
      "version": "2.7.6"
    },
    "kernelspec": {
      "name": "python3",
      "language": "python",
      "display_name": "Python 3"
    },
    "stem_cell": {
      "cell_type": "raw",
      "source": "",
      "metadata": {
        "pycharm": {
          "metadata": false
        }
      }
    }
  },
  "nbformat": 4,
  "nbformat_minor": 0
}