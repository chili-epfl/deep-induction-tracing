{
  "cells": [
    {
      "cell_type": "code",
      "execution_count": 3,
      "outputs": [
        {
          "name": "stderr",
          "text": [
            "Using TensorFlow backend.\n",
            "/Users/ambroiserenaud/anaconda3/envs/chili/lib/python3.7/site-packages/tensorflow/python/framework/dtypes.py:516: FutureWarning: Passing (type, 1) or \u00271type\u0027 as a synonym of type is deprecated; in a future version of numpy, it will be understood as (type, (1,)) / \u0027(1,)type\u0027.\n  _np_qint8 \u003d np.dtype([(\"qint8\", np.int8, 1)])\n/Users/ambroiserenaud/anaconda3/envs/chili/lib/python3.7/site-packages/tensorflow/python/framework/dtypes.py:517: FutureWarning: Passing (type, 1) or \u00271type\u0027 as a synonym of type is deprecated; in a future version of numpy, it will be understood as (type, (1,)) / \u0027(1,)type\u0027.\n  _np_quint8 \u003d np.dtype([(\"quint8\", np.uint8, 1)])\n/Users/ambroiserenaud/anaconda3/envs/chili/lib/python3.7/site-packages/tensorflow/python/framework/dtypes.py:518: FutureWarning: Passing (type, 1) or \u00271type\u0027 as a synonym of type is deprecated; in a future version of numpy, it will be understood as (type, (1,)) / \u0027(1,)type\u0027.\n  _np_qint16 \u003d np.dtype([(\"qint16\", np.int16, 1)])\n/Users/ambroiserenaud/anaconda3/envs/chili/lib/python3.7/site-packages/tensorflow/python/framework/dtypes.py:519: FutureWarning: Passing (type, 1) or \u00271type\u0027 as a synonym of type is deprecated; in a future version of numpy, it will be understood as (type, (1,)) / \u0027(1,)type\u0027.\n  _np_quint16 \u003d np.dtype([(\"quint16\", np.uint16, 1)])\n/Users/ambroiserenaud/anaconda3/envs/chili/lib/python3.7/site-packages/tensorflow/python/framework/dtypes.py:520: FutureWarning: Passing (type, 1) or \u00271type\u0027 as a synonym of type is deprecated; in a future version of numpy, it will be understood as (type, (1,)) / \u0027(1,)type\u0027.\n  _np_qint32 \u003d np.dtype([(\"qint32\", np.int32, 1)])\n/Users/ambroiserenaud/anaconda3/envs/chili/lib/python3.7/site-packages/tensorflow/python/framework/dtypes.py:525: FutureWarning: Passing (type, 1) or \u00271type\u0027 as a synonym of type is deprecated; in a future version of numpy, it will be understood as (type, (1,)) / \u0027(1,)type\u0027.\n  np_resource \u003d np.dtype([(\"resource\", np.ubyte, 1)])\n",
            "/Users/ambroiserenaud/anaconda3/envs/chili/lib/python3.7/site-packages/tensorboard/compat/tensorflow_stub/dtypes.py:541: FutureWarning: Passing (type, 1) or \u00271type\u0027 as a synonym of type is deprecated; in a future version of numpy, it will be understood as (type, (1,)) / \u0027(1,)type\u0027.\n  _np_qint8 \u003d np.dtype([(\"qint8\", np.int8, 1)])\n/Users/ambroiserenaud/anaconda3/envs/chili/lib/python3.7/site-packages/tensorboard/compat/tensorflow_stub/dtypes.py:542: FutureWarning: Passing (type, 1) or \u00271type\u0027 as a synonym of type is deprecated; in a future version of numpy, it will be understood as (type, (1,)) / \u0027(1,)type\u0027.\n  _np_quint8 \u003d np.dtype([(\"quint8\", np.uint8, 1)])\n/Users/ambroiserenaud/anaconda3/envs/chili/lib/python3.7/site-packages/tensorboard/compat/tensorflow_stub/dtypes.py:543: FutureWarning: Passing (type, 1) or \u00271type\u0027 as a synonym of type is deprecated; in a future version of numpy, it will be understood as (type, (1,)) / \u0027(1,)type\u0027.\n  _np_qint16 \u003d np.dtype([(\"qint16\", np.int16, 1)])\n/Users/ambroiserenaud/anaconda3/envs/chili/lib/python3.7/site-packages/tensorboard/compat/tensorflow_stub/dtypes.py:544: FutureWarning: Passing (type, 1) or \u00271type\u0027 as a synonym of type is deprecated; in a future version of numpy, it will be understood as (type, (1,)) / \u0027(1,)type\u0027.\n  _np_quint16 \u003d np.dtype([(\"quint16\", np.uint16, 1)])\n/Users/ambroiserenaud/anaconda3/envs/chili/lib/python3.7/site-packages/tensorboard/compat/tensorflow_stub/dtypes.py:545: FutureWarning: Passing (type, 1) or \u00271type\u0027 as a synonym of type is deprecated; in a future version of numpy, it will be understood as (type, (1,)) / \u0027(1,)type\u0027.\n  _np_qint32 \u003d np.dtype([(\"qint32\", np.int32, 1)])\n/Users/ambroiserenaud/anaconda3/envs/chili/lib/python3.7/site-packages/tensorboard/compat/tensorflow_stub/dtypes.py:550: FutureWarning: Passing (type, 1) or \u00271type\u0027 as a synonym of type is deprecated; in a future version of numpy, it will be understood as (type, (1,)) / \u0027(1,)type\u0027.\n  np_resource \u003d np.dtype([(\"resource\", np.ubyte, 1)])\n"
          ],
          "output_type": "stream"
        }
      ],
      "source": "import pandas as pd\nimport numpy as np\nfrom keras import Sequential\nfrom keras.layers import LSTM, Dense\nfrom keras.utils import np_utils\nfrom sklearn.model_selection import train_test_split",
      "metadata": {
        "pycharm": {
          "metadata": false,
          "name": "#%%\n",
          "is_executing": false
        }
      }
    },
    {
      "cell_type": "markdown",
      "source": "## Data preparation",
      "metadata": {
        "pycharm": {
          "metadata": false
        }
      }
    },
    {
      "cell_type": "code",
      "execution_count": 4,
      "metadata": {
        "collapsed": true,
        "pycharm": {
          "is_executing": false
        }
      },
      "outputs": [],
      "source": "\ndata \u003d pd.read_csv(\u0027induce-data-2019-08-08.csv\u0027).iloc[:, :]\nvocab \u003d [\u0027C_E_F_T\u0027,\n         \u0027C_E_F_C\u0027,\n         \u0027C_E_F_O\u0027,\n         \u0027A_E_F_T\u0027,\n         \u0027A_E_F_O\u0027,\n         \u0027A_E_F_C\u0027,\n         \u0027G_E_F_C\u0027,\n         \u0027G_E_F_T\u0027,\n         \u0027G_E_F_O\u0027,\n         \u0027A_E_M_T\u0027,\n         \u0027A_E_M_O\u0027,\n         \u0027A_E_M_C\u0027,\n         \u0027G_E_M_O\u0027,\n         \u0027G_E_M_C\u0027,\n         \u0027G_E_M_T\u0027,\n         \u0027C_E_M_O\u0027,\n         \u0027C_E_M_C\u0027,\n         \u0027C_E_M_T\u0027,\n         \u0027C_H_F_CO\u0027,\n         \u0027C_H_F_CT\u0027,\n         \u0027C_H_F_OT\u0027,\n         \u0027G_H_F_OT\u0027,\n         \u0027G_H_F_CO\u0027,\n         \u0027G_H_F_CT\u0027,\n         \u0027A_H_F_CT\u0027,\n         \u0027A_H_F_OT\u0027,\n         \u0027A_H_F_CO\u0027,\n         \u0027C_H_M_CO\u0027,\n         \u0027C_H_M_CT\u0027,\n         \u0027C_H_M_OT\u0027,\n         \u0027A_H_M_CT\u0027,\n         \u0027A_H_M_OT\u0027,\n         \u0027A_H_M_CO\u0027,\n         \u0027G_H_M_OT\u0027,\n         \u0027G_H_M_CO\u0027,\n         \u0027G_H_M_CT\u0027, ]\n\nlabels \u003d [\u0027correct\u0027,\n          \u0027wrong\u0027,\n          \u0027type\u0027,\n          \u0027orientation\u0027,\n          \u0027color\u0027]\n\ntypes \u003d [\u0027INTRO\u0027,\n         \u0027CORE\u0027,\n         \u0027FLEX\u0027,\n         \u0027TRIK\u0027,\n         \u0027DELY\u0027\n]\n\nfeat \u003d [\u0027type\u0027,\n        \u0027color\u0027,\n        \u0027orientation\u0027,\n        \u0027dual\u0027\n]\n\nqts_id \u003d [\u0027A_E_F_C_INTRO\u0027, \u0027A_E_F_O_INTRO\u0027, \u0027A_E_F_T_INTRO\u0027, \u0027A_E_M_C_INTRO\u0027,\n        \u0027A_E_M_O_INTRO\u0027, \u0027A_E_M_T_INTRO\u0027, \u0027A_H_F_CO_CORE\u0027, \u0027A_H_F_CO_DELY\u0027,\n        \u0027A_H_F_CO_TRIK\u0027, \u0027A_H_F_CT_CORE\u0027, \u0027A_H_F_CT_DELY\u0027, \u0027A_H_F_CT_TRIK\u0027,\n        \u0027A_H_F_OT_CORE\u0027, \u0027A_H_F_OT_DELY\u0027, \u0027A_H_F_OT_TRIK\u0027, \u0027A_H_M_CO_CORE\u0027,\n        \u0027A_H_M_CO_FLEX\u0027, \u0027A_H_M_CT_CORE\u0027, \u0027A_H_M_CT_FLEX\u0027, \u0027A_H_M_OT_CORE\u0027,\n        \u0027A_H_M_OT_FLEX\u0027, \u0027C_E_F_C_INTRO\u0027, \u0027C_E_F_O_INTRO\u0027, \u0027C_E_F_T_INTRO\u0027,\n        \u0027C_E_M_C_INTRO\u0027, \u0027C_E_M_O_INTRO\u0027, \u0027C_E_M_T_INTRO\u0027, \u0027C_H_F_CO_CORE\u0027,\n        \u0027C_H_F_CO_DELY\u0027, \u0027C_H_F_CO_TRIK\u0027, \u0027C_H_F_CT_CORE\u0027, \u0027C_H_F_CT_DELY\u0027,\n        \u0027C_H_F_CT_TRIK\u0027, \u0027C_H_F_OT_CORE\u0027, \u0027C_H_F_OT_DELY\u0027, \u0027C_H_F_OT_TRIK\u0027,\n        \u0027C_H_M_CO_CORE\u0027, \u0027C_H_M_CO_FLEX\u0027, \u0027C_H_M_CT_CORE\u0027, \u0027C_H_M_CT_FLEX\u0027,\n        \u0027C_H_M_OT_CORE\u0027, \u0027C_H_M_OT_FLEX\u0027, \u0027G_E_F_C_INTRO\u0027, \u0027G_E_F_O_INTRO\u0027,\n        \u0027G_E_F_T_INTRO\u0027, \u0027G_E_M_C_INTRO\u0027, \u0027G_E_M_O_INTRO\u0027, \u0027G_E_M_T_INTRO\u0027,\n        \u0027G_H_F_CO_CORE\u0027, \u0027G_H_F_CO_DELY\u0027, \u0027G_H_F_CO_TRIK\u0027, \u0027G_H_F_CT_CORE\u0027,\n        \u0027G_H_F_CT_DELY\u0027, \u0027G_H_F_CT_TRIK\u0027, \u0027G_H_F_OT_CORE\u0027, \u0027G_H_F_OT_DELY\u0027,\n        \u0027G_H_F_OT_TRIK\u0027, \u0027G_H_M_CO_CORE\u0027, \u0027G_H_M_CO_FLEX\u0027, \u0027G_H_M_CT_CORE\u0027,\n        \u0027G_H_M_CT_FLEX\u0027, \u0027G_H_M_OT_CORE\u0027, \u0027G_H_M_OT_FLEX\u0027]\n\n\n\n\ndef seq_to_int(qts,vocab, labels, types, feat, qts_id, n_steps):\n    integ \u003d list()\n    for i,x in enumerate(qts):\n        if i !\u003d n_steps:\n            features \u003d list()\n            features.append(vocab.index(qts[i, 4]))\n            features.append(labels.index(qts[i, 5]))\n            features.append(qts[i, 2])\n            features.append(types.index(qts[i, 9]))\n            features.append(feat.index(qts[i, 10]))\n            features.append(qts_id.index(qts[i, 8]))\n        else:\n            features \u003d list()\n            features.append(vocab.index(qts[i, 4]))\n            features.append(-1)\n            features.append(qts[i, 2])\n            features.append(types.index(qts[i, 9]))\n            features.append(feat.index(qts[i, 10]))\n            features.append(qts_id.index(qts[i, 8]))\n        integ.append(features)\n    return integ\n\ndef split_sequence(data, n_steps, vocab, labels, types, feat, qts_id):\n    X, Y \u003d list(), list()\n    users \u003d list(dict.fromkeys(data.loc[:, \"user\"]))\n    for u in users:\n        sequence \u003d data[data.user \u003d\u003d u]\n        for i in range(len(sequence)):\n            end_idx \u003d i + n_steps\n            if end_idx \u003e len(sequence)-1:\n                break\n            x \u003d seq_to_int(sequence.iloc[i:end_idx+1, :].values, vocab, labels, types, feat, qts_id, n_steps)\n            y \u003d labels.index(str(sequence.iloc[end_idx, 5]))\n            X.append(x)\n            Y.append(y)\n    return np.array(X), np.array(Y)\n"
    },
    {
      "cell_type": "markdown",
      "source": "### Test split_sequence\n",
      "metadata": {
        "pycharm": {
          "metadata": false
        }
      }
    },
    {
      "cell_type": "code",
      "execution_count": 5,
      "outputs": [
        {
          "name": "stdout",
          "text": [
            "(array([[[ 0,  0,  0,  0,  0, 23],\n        [ 1,  0,  1,  0,  1, 21],\n        [ 2,  0,  2,  0,  2, 22],\n        [ 3,  0,  3,  0,  0,  2],\n        [ 4,  0,  4,  0,  2,  1],\n        [ 5,  1,  5,  0,  1,  0],\n        [ 6,  0,  6,  0,  1, 42],\n        [ 7,  0,  7,  0,  0, 44],\n        [ 8,  0,  8,  0,  2, 43],\n        [ 9,  0,  9,  0,  0,  5],\n        [10, -1, 10,  0,  2,  4]],\n\n       [[ 1,  0,  1,  0,  1, 21],\n        [ 2,  0,  2,  0,  2, 22],\n        [ 3,  0,  3,  0,  0,  2],\n        [ 4,  0,  4,  0,  2,  1],\n        [ 5,  1,  5,  0,  1,  0],\n        [ 6,  0,  6,  0,  1, 42],\n        [ 7,  0,  7,  0,  0, 44],\n        [ 8,  0,  8,  0,  2, 43],\n        [ 9,  0,  9,  0,  0,  5],\n        [10,  0, 10,  0,  2,  4],\n        [11, -1, 11,  0,  1,  3]],\n\n       [[ 2,  0,  2,  0,  2, 22],\n        [ 3,  0,  3,  0,  0,  2],\n        [ 4,  0,  4,  0,  2,  1],\n        [ 5,  1,  5,  0,  1,  0],\n        [ 6,  0,  6,  0,  1, 42],\n        [ 7,  0,  7,  0,  0, 44],\n        [ 8,  0,  8,  0,  2, 43],\n        [ 9,  0,  9,  0,  0,  5],\n        [10,  0, 10,  0,  2,  4],\n        [11,  0, 11,  0,  1,  3],\n        [12, -1, 12,  0,  2, 46]],\n\n       [[ 3,  0,  3,  0,  0,  2],\n        [ 4,  0,  4,  0,  2,  1],\n        [ 5,  1,  5,  0,  1,  0],\n        [ 6,  0,  6,  0,  1, 42],\n        [ 7,  0,  7,  0,  0, 44],\n        [ 8,  0,  8,  0,  2, 43],\n        [ 9,  0,  9,  0,  0,  5],\n        [10,  0, 10,  0,  2,  4],\n        [11,  0, 11,  0,  1,  3],\n        [12,  0, 12,  0,  2, 46],\n        [13, -1, 13,  0,  1, 45]],\n\n       [[ 4,  0,  4,  0,  2,  1],\n        [ 5,  1,  5,  0,  1,  0],\n        [ 6,  0,  6,  0,  1, 42],\n        [ 7,  0,  7,  0,  0, 44],\n        [ 8,  0,  8,  0,  2, 43],\n        [ 9,  0,  9,  0,  0,  5],\n        [10,  0, 10,  0,  2,  4],\n        [11,  0, 11,  0,  1,  3],\n        [12,  0, 12,  0,  2, 46],\n        [13,  1, 13,  0,  1, 45],\n        [14, -1, 14,  0,  0, 47]],\n\n       [[ 5,  1,  5,  0,  1,  0],\n        [ 6,  0,  6,  0,  1, 42],\n        [ 7,  0,  7,  0,  0, 44],\n        [ 8,  0,  8,  0,  2, 43],\n        [ 9,  0,  9,  0,  0,  5],\n        [10,  0, 10,  0,  2,  4],\n        [11,  0, 11,  0,  1,  3],\n        [12,  0, 12,  0,  2, 46],\n        [13,  1, 13,  0,  1, 45],\n        [14,  0, 14,  0,  0, 47],\n        [15, -1, 15,  0,  2, 25]],\n\n       [[ 6,  0,  6,  0,  1, 42],\n        [ 7,  0,  7,  0,  0, 44],\n        [ 8,  0,  8,  0,  2, 43],\n        [ 9,  0,  9,  0,  0,  5],\n        [10,  0, 10,  0,  2,  4],\n        [11,  0, 11,  0,  1,  3],\n        [12,  0, 12,  0,  2, 46],\n        [13,  1, 13,  0,  1, 45],\n        [14,  0, 14,  0,  0, 47],\n        [15,  0, 15,  0,  2, 25],\n        [16, -1, 16,  0,  1, 24]],\n\n       [[ 7,  0,  7,  0,  0, 44],\n        [ 8,  0,  8,  0,  2, 43],\n        [ 9,  0,  9,  0,  0,  5],\n        [10,  0, 10,  0,  2,  4],\n        [11,  0, 11,  0,  1,  3],\n        [12,  0, 12,  0,  2, 46],\n        [13,  1, 13,  0,  1, 45],\n        [14,  0, 14,  0,  0, 47],\n        [15,  0, 15,  0,  2, 25],\n        [16,  1, 16,  0,  1, 24],\n        [17, -1, 17,  0,  0, 26]],\n\n       [[ 8,  0,  8,  0,  2, 43],\n        [ 9,  0,  9,  0,  0,  5],\n        [10,  0, 10,  0,  2,  4],\n        [11,  0, 11,  0,  1,  3],\n        [12,  0, 12,  0,  2, 46],\n        [13,  1, 13,  0,  1, 45],\n        [14,  0, 14,  0,  0, 47],\n        [15,  0, 15,  0,  2, 25],\n        [16,  1, 16,  0,  1, 24],\n        [17,  0, 17,  0,  0, 26],\n        [18, -1, 18,  1,  3, 27]],\n\n       [[ 9,  0,  9,  0,  0,  5],\n        [10,  0, 10,  0,  2,  4],\n        [11,  0, 11,  0,  1,  3],\n        [12,  0, 12,  0,  2, 46],\n        [13,  1, 13,  0,  1, 45],\n        [14,  0, 14,  0,  0, 47],\n        [15,  0, 15,  0,  2, 25],\n        [16,  1, 16,  0,  1, 24],\n        [17,  0, 17,  0,  0, 26],\n        [18,  4, 18,  1,  3, 27],\n        [19, -1, 19,  1,  3, 30]]]), array([0, 0, 0, 1, 0, 0, 1, 0, 4, 2]))\n"
          ],
          "output_type": "stream"
        }
      ],
      "source": "print(split_sequence(data.iloc[:20, :], 10, vocab, labels, types, feat, qts_id))\n",
      "metadata": {
        "pycharm": {
          "metadata": false,
          "name": "#%%\n",
          "is_executing": false
        }
      }
    },
    {
      "cell_type": "markdown",
      "source": "## The model\n",
      "metadata": {
        "pycharm": {
          "metadata": false
        }
      }
    },
    {
      "cell_type": "code",
      "execution_count": 8,
      "outputs": [
        {
          "name": "stdout",
          "text": [
            "(11747, 11, 378)\n",
            "train set size: 7870\ntest set size: 3877\n"
          ],
          "output_type": "stream"
        }
      ],
      "source": "n_features \u003d 6\nn_steps \u003d 10\n\n\nX, y \u003d split_sequence(data, n_steps, vocab, labels, types, feat, qts_id)\ny \u003d np_utils.to_categorical(y)\nX \u003d np_utils.to_categorical(X)\nX \u003d X.reshape((X.shape[0], X.shape[1], n_features*X.shape[-1]))\nprint(X.shape)\nX_train, X_test, y_train, y_test \u003d train_test_split(X, y, test_size\u003d0.33, random_state\u003d42)\nprint(\u0027train set size: \u0027+str(len(y_train)))\nprint(\u0027test set size: \u0027+str(len(y_test)))\n\nmodel \u003d Sequential()\nmodel.add(LSTM(100, activation\u003d\u0027relu\u0027, return_sequences\u003dTrue, input_shape\u003d(n_steps+1, X.shape[-1])))\nmodel.add(LSTM(100, activation\u003d\u0027relu\u0027))\nmodel.add(Dense(5))\nmodel.compile(optimizer\u003d\u0027adam\u0027, loss\u003d\u0027mse\u0027, metrics\u003d[\u0027categorical_accuracy\u0027])",
      "metadata": {
        "pycharm": {
          "metadata": false,
          "name": "#%%\n",
          "is_executing": false
        }
      }
    },
    {
      "cell_type": "markdown",
      "source": "### Training",
      "metadata": {
        "pycharm": {
          "metadata": false
        }
      }
    },
    {
      "cell_type": "code",
      "execution_count": null,
      "outputs": [
        {
          "name": "stdout",
          "text": [
            "Epoch 1/2000\n",
            " - 31s - loss: 0.0614 - categorical_accuracy: 0.7761\n",
            "Epoch 2/2000\n"
          ],
          "output_type": "stream"
        }
      ],
      "source": "# fit model\nmodel.fit(X_train, y_train, epochs\u003d2000, verbose\u003d2)",
      "metadata": {
        "pycharm": {
          "metadata": false,
          "name": "#%%\n",
          "is_executing": true
        }
      }
    },
    {
      "cell_type": "markdown",
      "source": "### Validation",
      "metadata": {
        "pycharm": {
          "metadata": false
        }
      }
    },
    {
      "cell_type": "code",
      "execution_count": 11,
      "outputs": [
        {
          "name": "stdout",
          "text": [
            "Accuracy: 68.45%\n[[0. 0. 0. ... 0. 0. 0.]\n [0. 0. 0. ... 0. 0. 0.]\n [0. 0. 0. ... 0. 0. 0.]\n ...\n [0. 0. 0. ... 0. 0. 0.]\n [0. 0. 0. ... 0. 0. 0.]\n [0. 0. 0. ... 0. 0. 0.]]\n[[-0.01901198 -0.0107428   0.86048985 -0.00795785  0.15495832]]\n[[[0. 0. 0. ... 0. 0. 0.]\n  [0. 0. 0. ... 0. 0. 0.]\n  [0. 0. 0. ... 0. 0. 0.]\n  ...\n  [0. 0. 0. ... 0. 0. 0.]\n  [0. 0. 0. ... 0. 0. 0.]\n  [0. 0. 0. ... 0. 0. 0.]]]\n[0. 0. 1. 0. 0.]\n"
          ],
          "output_type": "stream"
        }
      ],
      "source": "scores \u003d model.evaluate(X_test, y_test, verbose\u003d0)\nprint(\"Accuracy: %.2f%%\" % (scores[1]*100))\n\nprint(X_test[0])\nprint(model.predict(np.array([X_test[0]])))\nprint(np.array([X_test[1]]))\nprint(y_test[0])\n\n",
      "metadata": {
        "pycharm": {
          "metadata": false,
          "name": "#%%\n",
          "is_executing": false
        }
      }
    }
  ],
  "metadata": {
    "language_info": {
      "codemirror_mode": {
        "name": "ipython",
        "version": 2
      },
      "file_extension": ".py",
      "mimetype": "text/x-python",
      "name": "python",
      "nbconvert_exporter": "python",
      "pygments_lexer": "ipython2",
      "version": "2.7.6"
    },
    "kernelspec": {
      "name": "python3",
      "language": "python",
      "display_name": "Python 3"
    },
    "stem_cell": {
      "cell_type": "raw",
      "source": "",
      "metadata": {
        "pycharm": {
          "metadata": false
        }
      }
    }
  },
  "nbformat": 4,
  "nbformat_minor": 0
}